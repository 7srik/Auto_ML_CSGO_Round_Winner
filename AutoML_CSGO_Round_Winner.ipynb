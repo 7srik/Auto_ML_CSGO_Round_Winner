{
  "cells": [
    {
      "cell_type": "markdown",
      "source": [
        "### NOTEBOOK RUNTIME(Runtime->Run all/Ctrl+F9) : Around 20 minutes(very big dataset)"
      ],
      "metadata": {
        "id": "3yFYh-9EXPIq"
      }
    },
    {
      "cell_type": "markdown",
      "source": [
        "## Abstract"
      ],
      "metadata": {
        "id": "VLCPojYdWsef"
      }
    },
    {
      "cell_type": "markdown",
      "source": [
        "Counter-Strike: Global Offensive (CS:GO) is a multiplayer tactical first-person shooter developed by Valve and Hidden Path Entertainment. Counter-Strike: Global Offensive is a tactical shooter that emphasizes teamwork, strategy, and gunplay. Winning a game requires extensive teamwork, as well as personal economy management.\n",
        "\n",
        "CS:GO’s primary game mode for its casual and competitive queues is bomb defusal. Each round, a team of terrorists must take the bomb and plant it on one of two bomb sites. The team of counter-terrorists are tasked with stopping them from planting, or defusing the bomb after it’s planted. If the bomb explodes, or if the terrorists kill all the CTs, then they win the round. If the CTs kill all the terrorists before the bomb is planted, or defuse the bomb after its planted, then they win. A CT can defuse the bomb even if other terrorists are still alive. If the bomb isn’t planted and players from both sides are alive at the end of a round, the CTs win that round.\n",
        "\n",
        "At the beginning of the round, each player has to buy their equipment, consisting of weapons, armor, and grenades. There are five categories of purchasable weaponry: rifles, submachine guns, \"heavy\" weaponry (light machine guns and shotguns), pistols, and grenades. Players can choose between full or half armor, a handful of grenades, and several weapons. Players will earn money each round, and can earn additional money for killing players and fulfilling objectives like planting or defusing the bomb."
      ],
      "metadata": {
        "id": "fg7pyS-MWuTQ"
      }
    },
    {
      "cell_type": "markdown",
      "source": [
        "## Installing all the required packages"
      ],
      "metadata": {
        "id": "VDt7Y_EDOF-i"
      }
    },
    {
      "cell_type": "markdown",
      "source": [
        "\"pip install\" is a command used in Python to install packages or libraries from the PyPI (Python Package Index) repository. It is one of the most common ways to add external code to your Python projects."
      ],
      "metadata": {
        "id": "uN6rhLO-b1w-"
      }
    },
    {
      "cell_type": "code",
      "execution_count": 1,
      "metadata": {
        "colab": {
          "base_uri": "https://localhost:8080/"
        },
        "id": "jXvxyVFGslGF",
        "outputId": "6605e00c-6771-468c-cb52-7b3043c13ca7"
      },
      "outputs": [
        {
          "output_type": "stream",
          "name": "stdout",
          "text": [
            "Looking in indexes: https://pypi.org/simple, https://us-python.pkg.dev/colab-wheels/public/simple/\n",
            "Requirement already satisfied: requests in /usr/local/lib/python3.8/dist-packages (2.25.1)\n",
            "Requirement already satisfied: idna<3,>=2.5 in /usr/local/lib/python3.8/dist-packages (from requests) (2.10)\n",
            "Requirement already satisfied: chardet<5,>=3.0.2 in /usr/local/lib/python3.8/dist-packages (from requests) (4.0.0)\n",
            "Requirement already satisfied: urllib3<1.27,>=1.21.1 in /usr/local/lib/python3.8/dist-packages (from requests) (1.26.14)\n",
            "Requirement already satisfied: certifi>=2017.4.17 in /usr/local/lib/python3.8/dist-packages (from requests) (2022.12.7)\n",
            "Looking in indexes: https://pypi.org/simple, https://us-python.pkg.dev/colab-wheels/public/simple/\n",
            "Requirement already satisfied: tabulate in /usr/local/lib/python3.8/dist-packages (0.8.10)\n",
            "Looking in indexes: https://pypi.org/simple, https://us-python.pkg.dev/colab-wheels/public/simple/\n",
            "Collecting colorama>=0.3.8\n",
            "  Downloading colorama-0.4.6-py2.py3-none-any.whl (25 kB)\n",
            "Installing collected packages: colorama\n",
            "Successfully installed colorama-0.4.6\n",
            "Looking in indexes: https://pypi.org/simple, https://us-python.pkg.dev/colab-wheels/public/simple/\n",
            "Requirement already satisfied: future in /usr/local/lib/python3.8/dist-packages (0.16.0)\n",
            "Looking in indexes: https://pypi.org/simple, https://us-python.pkg.dev/colab-wheels/public/simple/\n",
            "Collecting h2o\n",
            "  Downloading h2o-3.40.0.1-py2.py3-none-any.whl (177.7 MB)\n",
            "\u001b[2K     \u001b[90m━━━━━━━━━━━━━━━━━━━━━━━━━━━━━━━━━━━━━━━\u001b[0m \u001b[32m177.7/177.7 MB\u001b[0m \u001b[31m7.6 MB/s\u001b[0m eta \u001b[36m0:00:00\u001b[0m\n",
            "\u001b[?25hRequirement already satisfied: requests in /usr/local/lib/python3.8/dist-packages (from h2o) (2.25.1)\n",
            "Requirement already satisfied: future in /usr/local/lib/python3.8/dist-packages (from h2o) (0.16.0)\n",
            "Requirement already satisfied: tabulate in /usr/local/lib/python3.8/dist-packages (from h2o) (0.8.10)\n",
            "Requirement already satisfied: chardet<5,>=3.0.2 in /usr/local/lib/python3.8/dist-packages (from requests->h2o) (4.0.0)\n",
            "Requirement already satisfied: certifi>=2017.4.17 in /usr/local/lib/python3.8/dist-packages (from requests->h2o) (2022.12.7)\n",
            "Requirement already satisfied: idna<3,>=2.5 in /usr/local/lib/python3.8/dist-packages (from requests->h2o) (2.10)\n",
            "Requirement already satisfied: urllib3<1.27,>=1.21.1 in /usr/local/lib/python3.8/dist-packages (from requests->h2o) (1.26.14)\n",
            "Installing collected packages: h2o\n",
            "Successfully installed h2o-3.40.0.1\n"
          ]
        }
      ],
      "source": [
        "!pip install requests\n",
        "!pip install tabulate\n",
        "!pip install \"colorama>=0.3.8\"\n",
        "!pip install future\n",
        "!pip install h2o"
      ]
    },
    {
      "cell_type": "markdown",
      "source": [
        "## Importing all the libararies required"
      ],
      "metadata": {
        "id": "2uif_ZsyOWQY"
      }
    },
    {
      "cell_type": "markdown",
      "source": [
        "The \"import\" keyword in Python is used to bring in external modules or packages into your Python code. The \"from\" keyword is used to import specific objects or functions from a module, rather than importing the whole module."
      ],
      "metadata": {
        "id": "BLwYJP4pcG_c"
      }
    },
    {
      "cell_type": "code",
      "execution_count": 2,
      "metadata": {
        "id": "67ZVXc6IH0-L"
      },
      "outputs": [],
      "source": [
        "import h2o\n",
        "from h2o.automl import H2OAutoML\n",
        "from h2o.estimators.gbm import H2OGradientBoostingEstimator\n",
        "from h2o.grid.grid_search import H2OGridSearch\n",
        "import random, os, sys\n",
        "from datetime import datetime\n",
        "import pandas as pd\n",
        "import logging\n",
        "import csv\n",
        "import optparse\n",
        "import time\n",
        "import json\n",
        "from distutils.util import strtobool\n",
        "import psutil\n",
        "import numpy as np\n",
        "import matplotlib.pyplot as plt\n",
        "from matplotlib.pyplot import figure\n",
        "import numpy as np\n",
        "import pandas as pd\n",
        "import matplotlib.pylab as plt\n",
        "import seaborn as sns\n",
        "from math import ceil\n",
        "import torch\n",
        "from torch import nn\n",
        "import torch.nn.functional as F\n",
        "from torch import optim\n",
        "from sklearn.metrics import accuracy_score, roc_curve, roc_auc_score, classification_report, confusion_matrix\n",
        "import numpy as np # linear algebra\n",
        "import pandas as pd # data processing with CSV \n",
        "import sklearn\n",
        "import matplotlib.pyplot as plt\n",
        "import matplotlib.style as style\n",
        "import seaborn as sns\n",
        "import scipy.stats as stats\n",
        "import pylab\n",
        "import warnings\n",
        "from sklearn import metrics\n",
        "from sklearn.preprocessing import LabelEncoder\n",
        "from sklearn.preprocessing import RobustScaler\n",
        "from sklearn.decomposition import PCA\n",
        "from sklearn.ensemble import ExtraTreesClassifier\n",
        "from sklearn.tree import DecisionTreeClassifier\n",
        "from sklearn.ensemble import RandomForestClassifier\n",
        "from xgboost import XGBClassifier\n",
        "from sklearn.linear_model import LinearRegression, Lasso, Ridge, ElasticNet, SGDRegressor\n",
        "\n",
        "from statsmodels.stats.outliers_influence import variance_inflation_factor\n",
        "\n",
        "from sklearn.model_selection import train_test_split\n",
        "%matplotlib inline\n",
        "%config InlineBackend.figure_format = 'retina'\n",
        "\n",
        "from sklearn.linear_model import LogisticRegression\n",
        "from sklearn.neural_network import MLPClassifier\n",
        "warnings.filterwarnings(\"ignore\")\n",
        "\n",
        "sns.set(rc={\"figure.figsize\": (16, 8)})\n",
        "\n",
        "pd.set_option('max_rows', 99999)\n",
        "pd.set_option('max_colwidth', 400)"
      ]
    },
    {
      "cell_type": "markdown",
      "source": [
        "## Initializing h2o locally and starting"
      ],
      "metadata": {
        "id": "_kHY4SzrOeyU"
      }
    },
    {
      "cell_type": "markdown",
      "source": [
        "This below code initializes an H2O cluster by setting the minimum memory size to 6GB or 50% of the available virtual memory, whichever is smaller. It also sets the runtime to 222 seconds and starts the H2O server on a random port between 5555 and 55555. \n",
        "\n",
        "The below code then attempts to start the H2O cluster with the specified settings, and if it fails, it logs the error and shuts down the cluster."
      ],
      "metadata": {
        "id": "QHMWIP11ckR0"
      }
    },
    {
      "cell_type": "code",
      "source": [
        "h2o.init()\n",
        "#It starts the H2o clusters"
      ],
      "metadata": {
        "colab": {
          "base_uri": "https://localhost:8080/",
          "height": 0
        },
        "id": "-9DOCRzxAbpo",
        "outputId": "d96fe7b1-f19c-4b96-f303-6ccd1d1f733c"
      },
      "execution_count": 3,
      "outputs": [
        {
          "output_type": "stream",
          "name": "stdout",
          "text": [
            "Checking whether there is an H2O instance running at http://localhost:54321..... not found.\n",
            "Attempting to start a local H2O server...\n",
            "  Java Version: openjdk version \"11.0.17\" 2022-10-18; OpenJDK Runtime Environment (build 11.0.17+8-post-Ubuntu-1ubuntu220.04); OpenJDK 64-Bit Server VM (build 11.0.17+8-post-Ubuntu-1ubuntu220.04, mixed mode, sharing)\n",
            "  Starting server from /usr/local/lib/python3.8/dist-packages/h2o/backend/bin/h2o.jar\n",
            "  Ice root: /tmp/tmp0uhe5c6c\n",
            "  JVM stdout: /tmp/tmp0uhe5c6c/h2o_unknownUser_started_from_python.out\n",
            "  JVM stderr: /tmp/tmp0uhe5c6c/h2o_unknownUser_started_from_python.err\n",
            "  Server is running at http://127.0.0.1:54321\n",
            "Connecting to H2O server at http://127.0.0.1:54321 ... successful.\n"
          ]
        },
        {
          "output_type": "display_data",
          "data": {
            "text/plain": [
              "--------------------------  ----------------------------------\n",
              "H2O_cluster_uptime:         03 secs\n",
              "H2O_cluster_timezone:       Etc/UTC\n",
              "H2O_data_parsing_timezone:  UTC\n",
              "H2O_cluster_version:        3.40.0.1\n",
              "H2O_cluster_version_age:    20 days\n",
              "H2O_cluster_name:           H2O_from_python_unknownUser_ass75c\n",
              "H2O_cluster_total_nodes:    1\n",
              "H2O_cluster_free_memory:    3.172 Gb\n",
              "H2O_cluster_total_cores:    2\n",
              "H2O_cluster_allowed_cores:  2\n",
              "H2O_cluster_status:         locked, healthy\n",
              "H2O_connection_url:         http://127.0.0.1:54321\n",
              "H2O_connection_proxy:       {\"http\": null, \"https\": null}\n",
              "H2O_internal_security:      False\n",
              "Python_version:             3.8.10 final\n",
              "--------------------------  ----------------------------------"
            ],
            "text/html": [
              "\n",
              "<style>\n",
              "\n",
              "#h2o-table-1.h2o-container {\n",
              "  overflow-x: auto;\n",
              "}\n",
              "#h2o-table-1 .h2o-table {\n",
              "  /* width: 100%; */\n",
              "  margin-top: 1em;\n",
              "  margin-bottom: 1em;\n",
              "}\n",
              "#h2o-table-1 .h2o-table caption {\n",
              "  white-space: nowrap;\n",
              "  caption-side: top;\n",
              "  text-align: left;\n",
              "  /* margin-left: 1em; */\n",
              "  margin: 0;\n",
              "  font-size: larger;\n",
              "}\n",
              "#h2o-table-1 .h2o-table thead {\n",
              "  white-space: nowrap; \n",
              "  position: sticky;\n",
              "  top: 0;\n",
              "  box-shadow: 0 -1px inset;\n",
              "}\n",
              "#h2o-table-1 .h2o-table tbody {\n",
              "  overflow: auto;\n",
              "}\n",
              "#h2o-table-1 .h2o-table th,\n",
              "#h2o-table-1 .h2o-table td {\n",
              "  text-align: right;\n",
              "  /* border: 1px solid; */\n",
              "}\n",
              "#h2o-table-1 .h2o-table tr:nth-child(even) {\n",
              "  /* background: #F5F5F5 */\n",
              "}\n",
              "\n",
              "</style>      \n",
              "<div id=\"h2o-table-1\" class=\"h2o-container\">\n",
              "  <table class=\"h2o-table\">\n",
              "    <caption></caption>\n",
              "    <thead></thead>\n",
              "    <tbody><tr><td>H2O_cluster_uptime:</td>\n",
              "<td>03 secs</td></tr>\n",
              "<tr><td>H2O_cluster_timezone:</td>\n",
              "<td>Etc/UTC</td></tr>\n",
              "<tr><td>H2O_data_parsing_timezone:</td>\n",
              "<td>UTC</td></tr>\n",
              "<tr><td>H2O_cluster_version:</td>\n",
              "<td>3.40.0.1</td></tr>\n",
              "<tr><td>H2O_cluster_version_age:</td>\n",
              "<td>20 days</td></tr>\n",
              "<tr><td>H2O_cluster_name:</td>\n",
              "<td>H2O_from_python_unknownUser_ass75c</td></tr>\n",
              "<tr><td>H2O_cluster_total_nodes:</td>\n",
              "<td>1</td></tr>\n",
              "<tr><td>H2O_cluster_free_memory:</td>\n",
              "<td>3.172 Gb</td></tr>\n",
              "<tr><td>H2O_cluster_total_cores:</td>\n",
              "<td>2</td></tr>\n",
              "<tr><td>H2O_cluster_allowed_cores:</td>\n",
              "<td>2</td></tr>\n",
              "<tr><td>H2O_cluster_status:</td>\n",
              "<td>locked, healthy</td></tr>\n",
              "<tr><td>H2O_connection_url:</td>\n",
              "<td>http://127.0.0.1:54321</td></tr>\n",
              "<tr><td>H2O_connection_proxy:</td>\n",
              "<td>{\"http\": null, \"https\": null}</td></tr>\n",
              "<tr><td>H2O_internal_security:</td>\n",
              "<td>False</td></tr>\n",
              "<tr><td>Python_version:</td>\n",
              "<td>3.8.10 final</td></tr></tbody>\n",
              "  </table>\n",
              "</div>\n"
            ]
          },
          "metadata": {}
        }
      ]
    },
    {
      "cell_type": "code",
      "execution_count": 4,
      "metadata": {
        "id": "moY0JzxgIMfF"
      },
      "outputs": [],
      "source": [
        "# Setting up maximum runtime for the AutoML\n",
        "min_mem_size = 6\n",
        "run_time = 222"
      ]
    },
    {
      "cell_type": "code",
      "execution_count": 5,
      "metadata": {
        "colab": {
          "base_uri": "https://localhost:8080/"
        },
        "id": "qJ748h3KMLYx",
        "outputId": "97f574bf-e6ba-4cc9-a1f5-e00ba660b518"
      },
      "outputs": [
        {
          "output_type": "stream",
          "name": "stdout",
          "text": [
            "6\n"
          ]
        }
      ],
      "source": [
        "pct_memory = 0.5\n",
        "virtual_memory = psutil.virtual_memory()\n",
        "min_mem_size = int(round(int(pct_memory * virtual_memory.available) / 1073741824, 0))\n",
        "print(min_mem_size)"
      ]
    },
    {
      "cell_type": "code",
      "execution_count": 6,
      "metadata": {
        "colab": {
          "base_uri": "https://localhost:8080/",
          "height": 0
        },
        "id": "tv_71AKGMTqX",
        "outputId": "105c091d-d9e3-457a-f1a1-4958959ab9c6"
      },
      "outputs": [
        {
          "output_type": "stream",
          "name": "stdout",
          "text": [
            "Checking whether there is an H2O instance running at http://localhost:14046..... not found.\n",
            "Attempting to start a local H2O server...\n",
            "  Java Version: openjdk version \"11.0.17\" 2022-10-18; OpenJDK Runtime Environment (build 11.0.17+8-post-Ubuntu-1ubuntu220.04); OpenJDK 64-Bit Server VM (build 11.0.17+8-post-Ubuntu-1ubuntu220.04, mixed mode, sharing)\n",
            "  Starting server from /usr/local/lib/python3.8/dist-packages/h2o/backend/bin/h2o.jar\n",
            "  Ice root: /tmp/tmpcu6xab70\n",
            "  JVM stdout: /tmp/tmpcu6xab70/h2o_unknownUser_started_from_python.out\n",
            "  JVM stderr: /tmp/tmpcu6xab70/h2o_unknownUser_started_from_python.err\n",
            "  Server is running at http://127.0.0.1:14046\n",
            "Connecting to H2O server at http://127.0.0.1:14046 ... successful.\n"
          ]
        },
        {
          "output_type": "display_data",
          "data": {
            "text/plain": [
              "--------------------------  ----------------------------------\n",
              "H2O_cluster_uptime:         04 secs\n",
              "H2O_cluster_timezone:       Etc/UTC\n",
              "H2O_data_parsing_timezone:  UTC\n",
              "H2O_cluster_version:        3.40.0.1\n",
              "H2O_cluster_version_age:    20 days\n",
              "H2O_cluster_name:           H2O_from_python_unknownUser_s6hrfj\n",
              "H2O_cluster_total_nodes:    1\n",
              "H2O_cluster_free_memory:    6 Gb\n",
              "H2O_cluster_total_cores:    2\n",
              "H2O_cluster_allowed_cores:  2\n",
              "H2O_cluster_status:         locked, healthy\n",
              "H2O_connection_url:         http://127.0.0.1:14046\n",
              "H2O_connection_proxy:       {\"http\": null, \"https\": null}\n",
              "H2O_internal_security:      False\n",
              "Python_version:             3.8.10 final\n",
              "--------------------------  ----------------------------------"
            ],
            "text/html": [
              "\n",
              "<style>\n",
              "\n",
              "#h2o-table-2.h2o-container {\n",
              "  overflow-x: auto;\n",
              "}\n",
              "#h2o-table-2 .h2o-table {\n",
              "  /* width: 100%; */\n",
              "  margin-top: 1em;\n",
              "  margin-bottom: 1em;\n",
              "}\n",
              "#h2o-table-2 .h2o-table caption {\n",
              "  white-space: nowrap;\n",
              "  caption-side: top;\n",
              "  text-align: left;\n",
              "  /* margin-left: 1em; */\n",
              "  margin: 0;\n",
              "  font-size: larger;\n",
              "}\n",
              "#h2o-table-2 .h2o-table thead {\n",
              "  white-space: nowrap; \n",
              "  position: sticky;\n",
              "  top: 0;\n",
              "  box-shadow: 0 -1px inset;\n",
              "}\n",
              "#h2o-table-2 .h2o-table tbody {\n",
              "  overflow: auto;\n",
              "}\n",
              "#h2o-table-2 .h2o-table th,\n",
              "#h2o-table-2 .h2o-table td {\n",
              "  text-align: right;\n",
              "  /* border: 1px solid; */\n",
              "}\n",
              "#h2o-table-2 .h2o-table tr:nth-child(even) {\n",
              "  /* background: #F5F5F5 */\n",
              "}\n",
              "\n",
              "</style>      \n",
              "<div id=\"h2o-table-2\" class=\"h2o-container\">\n",
              "  <table class=\"h2o-table\">\n",
              "    <caption></caption>\n",
              "    <thead></thead>\n",
              "    <tbody><tr><td>H2O_cluster_uptime:</td>\n",
              "<td>04 secs</td></tr>\n",
              "<tr><td>H2O_cluster_timezone:</td>\n",
              "<td>Etc/UTC</td></tr>\n",
              "<tr><td>H2O_data_parsing_timezone:</td>\n",
              "<td>UTC</td></tr>\n",
              "<tr><td>H2O_cluster_version:</td>\n",
              "<td>3.40.0.1</td></tr>\n",
              "<tr><td>H2O_cluster_version_age:</td>\n",
              "<td>20 days</td></tr>\n",
              "<tr><td>H2O_cluster_name:</td>\n",
              "<td>H2O_from_python_unknownUser_s6hrfj</td></tr>\n",
              "<tr><td>H2O_cluster_total_nodes:</td>\n",
              "<td>1</td></tr>\n",
              "<tr><td>H2O_cluster_free_memory:</td>\n",
              "<td>6 Gb</td></tr>\n",
              "<tr><td>H2O_cluster_total_cores:</td>\n",
              "<td>2</td></tr>\n",
              "<tr><td>H2O_cluster_allowed_cores:</td>\n",
              "<td>2</td></tr>\n",
              "<tr><td>H2O_cluster_status:</td>\n",
              "<td>locked, healthy</td></tr>\n",
              "<tr><td>H2O_connection_url:</td>\n",
              "<td>http://127.0.0.1:14046</td></tr>\n",
              "<tr><td>H2O_connection_proxy:</td>\n",
              "<td>{\"http\": null, \"https\": null}</td></tr>\n",
              "<tr><td>H2O_internal_security:</td>\n",
              "<td>False</td></tr>\n",
              "<tr><td>Python_version:</td>\n",
              "<td>3.8.10 final</td></tr></tbody>\n",
              "  </table>\n",
              "</div>\n"
            ]
          },
          "metadata": {}
        }
      ],
      "source": [
        "# 65535 Highest port no\n",
        "# Start the H2O server on a random port\n",
        "port_no = random.randint(5555, 55555)\n",
        "\n",
        "#  h2o.init(strict_version_check=False,min_mem_size_GB=min_mem_size,port=port_no) # start h2o\n",
        "try:\n",
        "    h2o.init(\n",
        "        strict_version_check=False, min_mem_size_GB=min_mem_size, port=port_no\n",
        "    )  # start h2o\n",
        "except:\n",
        "    logging.critical(\"h2o.init\")\n",
        "    h2o.download_all_logs(dirname=logs_path, filename=logfile)\n",
        "    h2o.cluster().shutdown()\n",
        "    sys.exit(2)"
      ]
    },
    {
      "cell_type": "markdown",
      "metadata": {
        "id": "IfAAEtclMuwD"
      },
      "source": [
        "## Exploratory Data Analysis (EDA)"
      ]
    },
    {
      "cell_type": "markdown",
      "source": [
        "### Reading the Dataset and understanding"
      ],
      "metadata": {
        "id": "EjjXy2SrO6GS"
      }
    },
    {
      "cell_type": "markdown",
      "source": [
        "This Python code imports the \"drive\" module from the \"google.colab\" package, which allows the user to connect and mount their Google Drive to their Colab environment. The second line mounts the user's Google Drive to the directory \"/content/drive\" in the Colab environment, allowing the user to access files from their Google Drive within their Colab notebooks."
      ],
      "metadata": {
        "id": "-KyPngHAdEe-"
      }
    },
    {
      "cell_type": "code",
      "execution_count": 7,
      "metadata": {
        "id": "hpTp52TYNLzr"
      },
      "outputs": [],
      "source": [
        "#from google.colab import drive\n",
        "#drive.mount('/content/drive')"
      ]
    },
    {
      "cell_type": "code",
      "execution_count": 8,
      "metadata": {
        "colab": {
          "base_uri": "https://localhost:8080/",
          "height": 299
        },
        "id": "qW6zIApGMoCk",
        "outputId": "19b59227-ee75-45ea-9c11-40124e7c9872"
      },
      "outputs": [
        {
          "output_type": "execute_result",
          "data": {
            "text/plain": [
              "   time_left  ct_score  t_score       map  bomb_planted  ct_health  t_health  \\\n",
              "0     175.00         0        0  de_dust2         False        500       500   \n",
              "1     156.03         0        0  de_dust2         False        500       500   \n",
              "2      96.03         0        0  de_dust2         False        391       400   \n",
              "3      76.03         0        0  de_dust2         False        391       400   \n",
              "4     174.97         1        0  de_dust2         False        500       500   \n",
              "\n",
              "   ct_armor  t_armor  ct_money  ...  t_grenade_flashbang  \\\n",
              "0         0        0      4000  ...                    0   \n",
              "1       400      300       600  ...                    0   \n",
              "2       294      200       750  ...                    0   \n",
              "3       294      200       750  ...                    0   \n",
              "4       192        0     18350  ...                    0   \n",
              "\n",
              "   ct_grenade_smokegrenade  t_grenade_smokegrenade  \\\n",
              "0                        0                       0   \n",
              "1                        0                       2   \n",
              "2                        0                       2   \n",
              "3                        0                       0   \n",
              "4                        0                       0   \n",
              "\n",
              "   ct_grenade_incendiarygrenade  t_grenade_incendiarygrenade  \\\n",
              "0                             0                            0   \n",
              "1                             0                            0   \n",
              "2                             0                            0   \n",
              "3                             0                            0   \n",
              "4                             0                            0   \n",
              "\n",
              "   ct_grenade_molotovgrenade  t_grenade_molotovgrenade  \\\n",
              "0                          0                         0   \n",
              "1                          0                         0   \n",
              "2                          0                         0   \n",
              "3                          0                         0   \n",
              "4                          0                         0   \n",
              "\n",
              "   ct_grenade_decoygrenade  t_grenade_decoygrenade  round_winner  \n",
              "0                        0                       0            CT  \n",
              "1                        0                       0            CT  \n",
              "2                        0                       0            CT  \n",
              "3                        0                       0            CT  \n",
              "4                        0                       0            CT  \n",
              "\n",
              "[5 rows x 97 columns]"
            ],
            "text/html": [
              "\n",
              "  <div id=\"df-3fa5f376-d059-42d3-b44b-7f1c7bccdec9\">\n",
              "    <div class=\"colab-df-container\">\n",
              "      <div>\n",
              "<style scoped>\n",
              "    .dataframe tbody tr th:only-of-type {\n",
              "        vertical-align: middle;\n",
              "    }\n",
              "\n",
              "    .dataframe tbody tr th {\n",
              "        vertical-align: top;\n",
              "    }\n",
              "\n",
              "    .dataframe thead th {\n",
              "        text-align: right;\n",
              "    }\n",
              "</style>\n",
              "<table border=\"1\" class=\"dataframe\">\n",
              "  <thead>\n",
              "    <tr style=\"text-align: right;\">\n",
              "      <th></th>\n",
              "      <th>time_left</th>\n",
              "      <th>ct_score</th>\n",
              "      <th>t_score</th>\n",
              "      <th>map</th>\n",
              "      <th>bomb_planted</th>\n",
              "      <th>ct_health</th>\n",
              "      <th>t_health</th>\n",
              "      <th>ct_armor</th>\n",
              "      <th>t_armor</th>\n",
              "      <th>ct_money</th>\n",
              "      <th>...</th>\n",
              "      <th>t_grenade_flashbang</th>\n",
              "      <th>ct_grenade_smokegrenade</th>\n",
              "      <th>t_grenade_smokegrenade</th>\n",
              "      <th>ct_grenade_incendiarygrenade</th>\n",
              "      <th>t_grenade_incendiarygrenade</th>\n",
              "      <th>ct_grenade_molotovgrenade</th>\n",
              "      <th>t_grenade_molotovgrenade</th>\n",
              "      <th>ct_grenade_decoygrenade</th>\n",
              "      <th>t_grenade_decoygrenade</th>\n",
              "      <th>round_winner</th>\n",
              "    </tr>\n",
              "  </thead>\n",
              "  <tbody>\n",
              "    <tr>\n",
              "      <th>0</th>\n",
              "      <td>175.00</td>\n",
              "      <td>0</td>\n",
              "      <td>0</td>\n",
              "      <td>de_dust2</td>\n",
              "      <td>False</td>\n",
              "      <td>500</td>\n",
              "      <td>500</td>\n",
              "      <td>0</td>\n",
              "      <td>0</td>\n",
              "      <td>4000</td>\n",
              "      <td>...</td>\n",
              "      <td>0</td>\n",
              "      <td>0</td>\n",
              "      <td>0</td>\n",
              "      <td>0</td>\n",
              "      <td>0</td>\n",
              "      <td>0</td>\n",
              "      <td>0</td>\n",
              "      <td>0</td>\n",
              "      <td>0</td>\n",
              "      <td>CT</td>\n",
              "    </tr>\n",
              "    <tr>\n",
              "      <th>1</th>\n",
              "      <td>156.03</td>\n",
              "      <td>0</td>\n",
              "      <td>0</td>\n",
              "      <td>de_dust2</td>\n",
              "      <td>False</td>\n",
              "      <td>500</td>\n",
              "      <td>500</td>\n",
              "      <td>400</td>\n",
              "      <td>300</td>\n",
              "      <td>600</td>\n",
              "      <td>...</td>\n",
              "      <td>0</td>\n",
              "      <td>0</td>\n",
              "      <td>2</td>\n",
              "      <td>0</td>\n",
              "      <td>0</td>\n",
              "      <td>0</td>\n",
              "      <td>0</td>\n",
              "      <td>0</td>\n",
              "      <td>0</td>\n",
              "      <td>CT</td>\n",
              "    </tr>\n",
              "    <tr>\n",
              "      <th>2</th>\n",
              "      <td>96.03</td>\n",
              "      <td>0</td>\n",
              "      <td>0</td>\n",
              "      <td>de_dust2</td>\n",
              "      <td>False</td>\n",
              "      <td>391</td>\n",
              "      <td>400</td>\n",
              "      <td>294</td>\n",
              "      <td>200</td>\n",
              "      <td>750</td>\n",
              "      <td>...</td>\n",
              "      <td>0</td>\n",
              "      <td>0</td>\n",
              "      <td>2</td>\n",
              "      <td>0</td>\n",
              "      <td>0</td>\n",
              "      <td>0</td>\n",
              "      <td>0</td>\n",
              "      <td>0</td>\n",
              "      <td>0</td>\n",
              "      <td>CT</td>\n",
              "    </tr>\n",
              "    <tr>\n",
              "      <th>3</th>\n",
              "      <td>76.03</td>\n",
              "      <td>0</td>\n",
              "      <td>0</td>\n",
              "      <td>de_dust2</td>\n",
              "      <td>False</td>\n",
              "      <td>391</td>\n",
              "      <td>400</td>\n",
              "      <td>294</td>\n",
              "      <td>200</td>\n",
              "      <td>750</td>\n",
              "      <td>...</td>\n",
              "      <td>0</td>\n",
              "      <td>0</td>\n",
              "      <td>0</td>\n",
              "      <td>0</td>\n",
              "      <td>0</td>\n",
              "      <td>0</td>\n",
              "      <td>0</td>\n",
              "      <td>0</td>\n",
              "      <td>0</td>\n",
              "      <td>CT</td>\n",
              "    </tr>\n",
              "    <tr>\n",
              "      <th>4</th>\n",
              "      <td>174.97</td>\n",
              "      <td>1</td>\n",
              "      <td>0</td>\n",
              "      <td>de_dust2</td>\n",
              "      <td>False</td>\n",
              "      <td>500</td>\n",
              "      <td>500</td>\n",
              "      <td>192</td>\n",
              "      <td>0</td>\n",
              "      <td>18350</td>\n",
              "      <td>...</td>\n",
              "      <td>0</td>\n",
              "      <td>0</td>\n",
              "      <td>0</td>\n",
              "      <td>0</td>\n",
              "      <td>0</td>\n",
              "      <td>0</td>\n",
              "      <td>0</td>\n",
              "      <td>0</td>\n",
              "      <td>0</td>\n",
              "      <td>CT</td>\n",
              "    </tr>\n",
              "  </tbody>\n",
              "</table>\n",
              "<p>5 rows × 97 columns</p>\n",
              "</div>\n",
              "      <button class=\"colab-df-convert\" onclick=\"convertToInteractive('df-3fa5f376-d059-42d3-b44b-7f1c7bccdec9')\"\n",
              "              title=\"Convert this dataframe to an interactive table.\"\n",
              "              style=\"display:none;\">\n",
              "        \n",
              "  <svg xmlns=\"http://www.w3.org/2000/svg\" height=\"24px\"viewBox=\"0 0 24 24\"\n",
              "       width=\"24px\">\n",
              "    <path d=\"M0 0h24v24H0V0z\" fill=\"none\"/>\n",
              "    <path d=\"M18.56 5.44l.94 2.06.94-2.06 2.06-.94-2.06-.94-.94-2.06-.94 2.06-2.06.94zm-11 1L8.5 8.5l.94-2.06 2.06-.94-2.06-.94L8.5 2.5l-.94 2.06-2.06.94zm10 10l.94 2.06.94-2.06 2.06-.94-2.06-.94-.94-2.06-.94 2.06-2.06.94z\"/><path d=\"M17.41 7.96l-1.37-1.37c-.4-.4-.92-.59-1.43-.59-.52 0-1.04.2-1.43.59L10.3 9.45l-7.72 7.72c-.78.78-.78 2.05 0 2.83L4 21.41c.39.39.9.59 1.41.59.51 0 1.02-.2 1.41-.59l7.78-7.78 2.81-2.81c.8-.78.8-2.07 0-2.86zM5.41 20L4 18.59l7.72-7.72 1.47 1.35L5.41 20z\"/>\n",
              "  </svg>\n",
              "      </button>\n",
              "      \n",
              "  <style>\n",
              "    .colab-df-container {\n",
              "      display:flex;\n",
              "      flex-wrap:wrap;\n",
              "      gap: 12px;\n",
              "    }\n",
              "\n",
              "    .colab-df-convert {\n",
              "      background-color: #E8F0FE;\n",
              "      border: none;\n",
              "      border-radius: 50%;\n",
              "      cursor: pointer;\n",
              "      display: none;\n",
              "      fill: #1967D2;\n",
              "      height: 32px;\n",
              "      padding: 0 0 0 0;\n",
              "      width: 32px;\n",
              "    }\n",
              "\n",
              "    .colab-df-convert:hover {\n",
              "      background-color: #E2EBFA;\n",
              "      box-shadow: 0px 1px 2px rgba(60, 64, 67, 0.3), 0px 1px 3px 1px rgba(60, 64, 67, 0.15);\n",
              "      fill: #174EA6;\n",
              "    }\n",
              "\n",
              "    [theme=dark] .colab-df-convert {\n",
              "      background-color: #3B4455;\n",
              "      fill: #D2E3FC;\n",
              "    }\n",
              "\n",
              "    [theme=dark] .colab-df-convert:hover {\n",
              "      background-color: #434B5C;\n",
              "      box-shadow: 0px 1px 3px 1px rgba(0, 0, 0, 0.15);\n",
              "      filter: drop-shadow(0px 1px 2px rgba(0, 0, 0, 0.3));\n",
              "      fill: #FFFFFF;\n",
              "    }\n",
              "  </style>\n",
              "\n",
              "      <script>\n",
              "        const buttonEl =\n",
              "          document.querySelector('#df-3fa5f376-d059-42d3-b44b-7f1c7bccdec9 button.colab-df-convert');\n",
              "        buttonEl.style.display =\n",
              "          google.colab.kernel.accessAllowed ? 'block' : 'none';\n",
              "\n",
              "        async function convertToInteractive(key) {\n",
              "          const element = document.querySelector('#df-3fa5f376-d059-42d3-b44b-7f1c7bccdec9');\n",
              "          const dataTable =\n",
              "            await google.colab.kernel.invokeFunction('convertToInteractive',\n",
              "                                                     [key], {});\n",
              "          if (!dataTable) return;\n",
              "\n",
              "          const docLinkHtml = 'Like what you see? Visit the ' +\n",
              "            '<a target=\"_blank\" href=https://colab.research.google.com/notebooks/data_table.ipynb>data table notebook</a>'\n",
              "            + ' to learn more about interactive tables.';\n",
              "          element.innerHTML = '';\n",
              "          dataTable['output_type'] = 'display_data';\n",
              "          await google.colab.output.renderOutput(dataTable, element);\n",
              "          const docLink = document.createElement('div');\n",
              "          docLink.innerHTML = docLinkHtml;\n",
              "          element.appendChild(docLink);\n",
              "        }\n",
              "      </script>\n",
              "    </div>\n",
              "  </div>\n",
              "  "
            ]
          },
          "metadata": {},
          "execution_count": 8
        }
      ],
      "source": [
        "#Reading the Dataset and Displaying the head of it.\n",
        "data=pd.read_csv(\"https://raw.githubusercontent.com/7srik/Auto_ML_CSGO_Round_Winner/main/csgo_round_snapshots.csv\")\n",
        "#data2=pd.read_csv(\"/content/drive/MyDrive/DS CSV/csgo_round_snapshots.csv\")\n",
        "\n",
        "data.name = \"data\"\n",
        "data.head()"
      ]
    },
    {
      "cell_type": "markdown",
      "source": [
        "\"info()\" method provides a summary of the data in the dataframe, including the number of non-null values in each column, the data type of each column, and the amount of memory used by the dataframe. This information can be useful for understanding the structure and contents of a dataset."
      ],
      "metadata": {
        "id": "4UBvuO0OdTog"
      }
    },
    {
      "cell_type": "code",
      "execution_count": 9,
      "metadata": {
        "colab": {
          "base_uri": "https://localhost:8080/"
        },
        "id": "D5n890ODP0pb",
        "outputId": "eef6d747-5eee-4d4d-98fc-fc92e00f1558"
      },
      "outputs": [
        {
          "output_type": "stream",
          "name": "stdout",
          "text": [
            "<class 'pandas.core.frame.DataFrame'>\n",
            "RangeIndex: 122410 entries, 0 to 122409\n",
            "Data columns (total 97 columns):\n",
            " #   Column                        Non-Null Count   Dtype  \n",
            "---  ------                        --------------   -----  \n",
            " 0   time_left                     122410 non-null  float64\n",
            " 1   ct_score                      122410 non-null  int64  \n",
            " 2   t_score                       122410 non-null  int64  \n",
            " 3   map                           122410 non-null  object \n",
            " 4   bomb_planted                  122410 non-null  bool   \n",
            " 5   ct_health                     122410 non-null  int64  \n",
            " 6   t_health                      122410 non-null  int64  \n",
            " 7   ct_armor                      122410 non-null  int64  \n",
            " 8   t_armor                       122410 non-null  int64  \n",
            " 9   ct_money                      122410 non-null  int64  \n",
            " 10  t_money                       122410 non-null  int64  \n",
            " 11  ct_helmets                    122410 non-null  int64  \n",
            " 12  t_helmets                     122410 non-null  int64  \n",
            " 13  ct_defuse_kits                122410 non-null  int64  \n",
            " 14  ct_players_alive              122410 non-null  int64  \n",
            " 15  t_players_alive               122410 non-null  int64  \n",
            " 16  ct_weapon_ak47                122410 non-null  int64  \n",
            " 17  t_weapon_ak47                 122410 non-null  int64  \n",
            " 18  ct_weapon_aug                 122410 non-null  int64  \n",
            " 19  t_weapon_aug                  122410 non-null  int64  \n",
            " 20  ct_weapon_awp                 122410 non-null  int64  \n",
            " 21  t_weapon_awp                  122410 non-null  int64  \n",
            " 22  ct_weapon_bizon               122410 non-null  int64  \n",
            " 23  t_weapon_bizon                122410 non-null  int64  \n",
            " 24  ct_weapon_cz75auto            122410 non-null  int64  \n",
            " 25  t_weapon_cz75auto             122410 non-null  int64  \n",
            " 26  ct_weapon_elite               122410 non-null  int64  \n",
            " 27  t_weapon_elite                122410 non-null  int64  \n",
            " 28  ct_weapon_famas               122410 non-null  int64  \n",
            " 29  t_weapon_famas                122410 non-null  int64  \n",
            " 30  ct_weapon_g3sg1               122410 non-null  int64  \n",
            " 31  t_weapon_g3sg1                122410 non-null  int64  \n",
            " 32  ct_weapon_galilar             122410 non-null  int64  \n",
            " 33  t_weapon_galilar              122410 non-null  int64  \n",
            " 34  ct_weapon_glock               122410 non-null  int64  \n",
            " 35  t_weapon_glock                122410 non-null  int64  \n",
            " 36  ct_weapon_m249                122410 non-null  int64  \n",
            " 37  t_weapon_m249                 122410 non-null  int64  \n",
            " 38  ct_weapon_m4a1s               122410 non-null  int64  \n",
            " 39  t_weapon_m4a1s                122410 non-null  int64  \n",
            " 40  ct_weapon_m4a4                122410 non-null  int64  \n",
            " 41  t_weapon_m4a4                 122410 non-null  int64  \n",
            " 42  ct_weapon_mac10               122410 non-null  int64  \n",
            " 43  t_weapon_mac10                122410 non-null  int64  \n",
            " 44  ct_weapon_mag7                122410 non-null  int64  \n",
            " 45  t_weapon_mag7                 122410 non-null  int64  \n",
            " 46  ct_weapon_mp5sd               122410 non-null  int64  \n",
            " 47  t_weapon_mp5sd                122410 non-null  int64  \n",
            " 48  ct_weapon_mp7                 122410 non-null  int64  \n",
            " 49  t_weapon_mp7                  122410 non-null  int64  \n",
            " 50  ct_weapon_mp9                 122410 non-null  int64  \n",
            " 51  t_weapon_mp9                  122410 non-null  int64  \n",
            " 52  ct_weapon_negev               122410 non-null  int64  \n",
            " 53  t_weapon_negev                122410 non-null  int64  \n",
            " 54  ct_weapon_nova                122410 non-null  int64  \n",
            " 55  t_weapon_nova                 122410 non-null  int64  \n",
            " 56  ct_weapon_p90                 122410 non-null  int64  \n",
            " 57  t_weapon_p90                  122410 non-null  int64  \n",
            " 58  ct_weapon_r8revolver          122410 non-null  int64  \n",
            " 59  t_weapon_r8revolver           122410 non-null  int64  \n",
            " 60  ct_weapon_sawedoff            122410 non-null  int64  \n",
            " 61  t_weapon_sawedoff             122410 non-null  int64  \n",
            " 62  ct_weapon_scar20              122410 non-null  int64  \n",
            " 63  t_weapon_scar20               122410 non-null  int64  \n",
            " 64  ct_weapon_sg553               122410 non-null  int64  \n",
            " 65  t_weapon_sg553                122410 non-null  int64  \n",
            " 66  ct_weapon_ssg08               122410 non-null  int64  \n",
            " 67  t_weapon_ssg08                122410 non-null  int64  \n",
            " 68  ct_weapon_ump45               122410 non-null  int64  \n",
            " 69  t_weapon_ump45                122410 non-null  int64  \n",
            " 70  ct_weapon_xm1014              122410 non-null  int64  \n",
            " 71  t_weapon_xm1014               122410 non-null  int64  \n",
            " 72  ct_weapon_deagle              122410 non-null  int64  \n",
            " 73  t_weapon_deagle               122410 non-null  int64  \n",
            " 74  ct_weapon_fiveseven           122410 non-null  int64  \n",
            " 75  t_weapon_fiveseven            122410 non-null  int64  \n",
            " 76  ct_weapon_usps                122410 non-null  int64  \n",
            " 77  t_weapon_usps                 122410 non-null  int64  \n",
            " 78  ct_weapon_p250                122410 non-null  int64  \n",
            " 79  t_weapon_p250                 122410 non-null  int64  \n",
            " 80  ct_weapon_p2000               122410 non-null  int64  \n",
            " 81  t_weapon_p2000                122410 non-null  int64  \n",
            " 82  ct_weapon_tec9                122410 non-null  int64  \n",
            " 83  t_weapon_tec9                 122410 non-null  int64  \n",
            " 84  ct_grenade_hegrenade          122410 non-null  int64  \n",
            " 85  t_grenade_hegrenade           122410 non-null  int64  \n",
            " 86  ct_grenade_flashbang          122410 non-null  int64  \n",
            " 87  t_grenade_flashbang           122410 non-null  int64  \n",
            " 88  ct_grenade_smokegrenade       122410 non-null  int64  \n",
            " 89  t_grenade_smokegrenade        122410 non-null  int64  \n",
            " 90  ct_grenade_incendiarygrenade  122410 non-null  int64  \n",
            " 91  t_grenade_incendiarygrenade   122410 non-null  int64  \n",
            " 92  ct_grenade_molotovgrenade     122410 non-null  int64  \n",
            " 93  t_grenade_molotovgrenade      122410 non-null  int64  \n",
            " 94  ct_grenade_decoygrenade       122410 non-null  int64  \n",
            " 95  t_grenade_decoygrenade        122410 non-null  int64  \n",
            " 96  round_winner                  122410 non-null  object \n",
            "dtypes: bool(1), float64(1), int64(93), object(2)\n",
            "memory usage: 89.8+ MB\n"
          ]
        }
      ],
      "source": [
        "data.info()"
      ]
    },
    {
      "cell_type": "code",
      "execution_count": 10,
      "metadata": {
        "colab": {
          "base_uri": "https://localhost:8080/"
        },
        "id": "VQlLhgFFP5Tv",
        "outputId": "0ab5545c-753b-47cd-9799-e950c85dbf85"
      },
      "outputs": [
        {
          "output_type": "execute_result",
          "data": {
            "text/plain": [
              "time_left                       0\n",
              "ct_score                        0\n",
              "t_score                         0\n",
              "map                             0\n",
              "bomb_planted                    0\n",
              "ct_health                       0\n",
              "t_health                        0\n",
              "ct_armor                        0\n",
              "t_armor                         0\n",
              "ct_money                        0\n",
              "t_money                         0\n",
              "ct_helmets                      0\n",
              "t_helmets                       0\n",
              "ct_defuse_kits                  0\n",
              "ct_players_alive                0\n",
              "t_players_alive                 0\n",
              "ct_weapon_ak47                  0\n",
              "t_weapon_ak47                   0\n",
              "ct_weapon_aug                   0\n",
              "t_weapon_aug                    0\n",
              "ct_weapon_awp                   0\n",
              "t_weapon_awp                    0\n",
              "ct_weapon_bizon                 0\n",
              "t_weapon_bizon                  0\n",
              "ct_weapon_cz75auto              0\n",
              "t_weapon_cz75auto               0\n",
              "ct_weapon_elite                 0\n",
              "t_weapon_elite                  0\n",
              "ct_weapon_famas                 0\n",
              "t_weapon_famas                  0\n",
              "ct_weapon_g3sg1                 0\n",
              "t_weapon_g3sg1                  0\n",
              "ct_weapon_galilar               0\n",
              "t_weapon_galilar                0\n",
              "ct_weapon_glock                 0\n",
              "t_weapon_glock                  0\n",
              "ct_weapon_m249                  0\n",
              "t_weapon_m249                   0\n",
              "ct_weapon_m4a1s                 0\n",
              "t_weapon_m4a1s                  0\n",
              "ct_weapon_m4a4                  0\n",
              "t_weapon_m4a4                   0\n",
              "ct_weapon_mac10                 0\n",
              "t_weapon_mac10                  0\n",
              "ct_weapon_mag7                  0\n",
              "t_weapon_mag7                   0\n",
              "ct_weapon_mp5sd                 0\n",
              "t_weapon_mp5sd                  0\n",
              "ct_weapon_mp7                   0\n",
              "t_weapon_mp7                    0\n",
              "ct_weapon_mp9                   0\n",
              "t_weapon_mp9                    0\n",
              "ct_weapon_negev                 0\n",
              "t_weapon_negev                  0\n",
              "ct_weapon_nova                  0\n",
              "t_weapon_nova                   0\n",
              "ct_weapon_p90                   0\n",
              "t_weapon_p90                    0\n",
              "ct_weapon_r8revolver            0\n",
              "t_weapon_r8revolver             0\n",
              "ct_weapon_sawedoff              0\n",
              "t_weapon_sawedoff               0\n",
              "ct_weapon_scar20                0\n",
              "t_weapon_scar20                 0\n",
              "ct_weapon_sg553                 0\n",
              "t_weapon_sg553                  0\n",
              "ct_weapon_ssg08                 0\n",
              "t_weapon_ssg08                  0\n",
              "ct_weapon_ump45                 0\n",
              "t_weapon_ump45                  0\n",
              "ct_weapon_xm1014                0\n",
              "t_weapon_xm1014                 0\n",
              "ct_weapon_deagle                0\n",
              "t_weapon_deagle                 0\n",
              "ct_weapon_fiveseven             0\n",
              "t_weapon_fiveseven              0\n",
              "ct_weapon_usps                  0\n",
              "t_weapon_usps                   0\n",
              "ct_weapon_p250                  0\n",
              "t_weapon_p250                   0\n",
              "ct_weapon_p2000                 0\n",
              "t_weapon_p2000                  0\n",
              "ct_weapon_tec9                  0\n",
              "t_weapon_tec9                   0\n",
              "ct_grenade_hegrenade            0\n",
              "t_grenade_hegrenade             0\n",
              "ct_grenade_flashbang            0\n",
              "t_grenade_flashbang             0\n",
              "ct_grenade_smokegrenade         0\n",
              "t_grenade_smokegrenade          0\n",
              "ct_grenade_incendiarygrenade    0\n",
              "t_grenade_incendiarygrenade     0\n",
              "ct_grenade_molotovgrenade       0\n",
              "t_grenade_molotovgrenade        0\n",
              "ct_grenade_decoygrenade         0\n",
              "t_grenade_decoygrenade          0\n",
              "round_winner                    0\n",
              "dtype: int64"
            ]
          },
          "metadata": {},
          "execution_count": 10
        }
      ],
      "source": [
        "data.isnull().sum()  # Checking for any null values in the dataset, as we have no null values - we are good to go."
      ]
    },
    {
      "cell_type": "code",
      "execution_count": 11,
      "metadata": {
        "colab": {
          "base_uri": "https://localhost:8080/"
        },
        "id": "ansoIiygQAkf",
        "outputId": "b0201320-ed64-43d7-8cb2-25ac05626cc0"
      },
      "outputs": [
        {
          "output_type": "execute_result",
          "data": {
            "text/plain": [
              "(122410, 97)"
            ]
          },
          "metadata": {},
          "execution_count": 11
        }
      ],
      "source": [
        "data.shape  # Shape of the dataframe - Here, we have 122410 samples of data with 97 predictors"
      ]
    },
    {
      "cell_type": "code",
      "execution_count": 12,
      "metadata": {
        "colab": {
          "base_uri": "https://localhost:8080/"
        },
        "id": "5r_b3lJDQLEV",
        "outputId": "5419f208-f96c-44a7-d590-351adf55c0e5"
      },
      "outputs": [
        {
          "output_type": "stream",
          "name": "stdout",
          "text": [
            "['time_left', 'ct_score', 't_score', 'map', 'bomb_planted', 'ct_health', 't_health', 'ct_armor', 't_armor', 'ct_money', 't_money', 'ct_helmets', 't_helmets', 'ct_defuse_kits', 'ct_players_alive', 't_players_alive', 'ct_weapon_ak47', 't_weapon_ak47', 'ct_weapon_aug', 't_weapon_aug', 'ct_weapon_awp', 't_weapon_awp', 'ct_weapon_bizon', 't_weapon_bizon', 'ct_weapon_cz75auto', 't_weapon_cz75auto', 'ct_weapon_elite', 't_weapon_elite', 'ct_weapon_famas', 't_weapon_famas', 'ct_weapon_g3sg1', 't_weapon_g3sg1', 'ct_weapon_galilar', 't_weapon_galilar', 'ct_weapon_glock', 't_weapon_glock', 'ct_weapon_m249', 't_weapon_m249', 'ct_weapon_m4a1s', 't_weapon_m4a1s', 'ct_weapon_m4a4', 't_weapon_m4a4', 'ct_weapon_mac10', 't_weapon_mac10', 'ct_weapon_mag7', 't_weapon_mag7', 'ct_weapon_mp5sd', 't_weapon_mp5sd', 'ct_weapon_mp7', 't_weapon_mp7', 'ct_weapon_mp9', 't_weapon_mp9', 'ct_weapon_negev', 't_weapon_negev', 'ct_weapon_nova', 't_weapon_nova', 'ct_weapon_p90', 't_weapon_p90', 'ct_weapon_r8revolver', 't_weapon_r8revolver', 'ct_weapon_sawedoff', 't_weapon_sawedoff', 'ct_weapon_scar20', 't_weapon_scar20', 'ct_weapon_sg553', 't_weapon_sg553', 'ct_weapon_ssg08', 't_weapon_ssg08', 'ct_weapon_ump45', 't_weapon_ump45', 'ct_weapon_xm1014', 't_weapon_xm1014', 'ct_weapon_deagle', 't_weapon_deagle', 'ct_weapon_fiveseven', 't_weapon_fiveseven', 'ct_weapon_usps', 't_weapon_usps', 'ct_weapon_p250', 't_weapon_p250', 'ct_weapon_p2000', 't_weapon_p2000', 'ct_weapon_tec9', 't_weapon_tec9', 'ct_grenade_hegrenade', 't_grenade_hegrenade', 'ct_grenade_flashbang', 't_grenade_flashbang', 'ct_grenade_smokegrenade', 't_grenade_smokegrenade', 'ct_grenade_incendiarygrenade', 't_grenade_incendiarygrenade', 'ct_grenade_molotovgrenade', 't_grenade_molotovgrenade', 'ct_grenade_decoygrenade', 't_grenade_decoygrenade', 'round_winner']\n"
          ]
        }
      ],
      "source": [
        "columns = list(data.columns)\n",
        "print(columns)  # Name of all predictors and result"
      ]
    },
    {
      "cell_type": "code",
      "execution_count": 13,
      "metadata": {
        "colab": {
          "base_uri": "https://localhost:8080/",
          "height": 393
        },
        "id": "kuVy3LpAQVY_",
        "outputId": "d21cec7f-2867-4212-83af-bcabd85252bd"
      },
      "outputs": [
        {
          "output_type": "execute_result",
          "data": {
            "text/plain": [
              "           time_left       ct_score        t_score      ct_health  \\\n",
              "count  122410.000000  122410.000000  122410.000000  122410.000000   \n",
              "mean       97.886922       6.709239       6.780435     412.106568   \n",
              "std        54.465238       4.790362       4.823543     132.293290   \n",
              "min         0.010000       0.000000       0.000000       0.000000   \n",
              "25%        54.920000       3.000000       3.000000     350.000000   \n",
              "50%        94.910000       6.000000       6.000000     500.000000   \n",
              "75%       166.917500      10.000000      10.000000     500.000000   \n",
              "max       175.000000      32.000000      33.000000     500.000000   \n",
              "\n",
              "            t_health       ct_armor        t_armor       ct_money  \\\n",
              "count  122410.000000  122410.000000  122410.000000  122410.000000   \n",
              "mean      402.714500     314.142121     298.444670    9789.023773   \n",
              "std       139.919033     171.029736     174.576545   11215.042286   \n",
              "min         0.000000       0.000000       0.000000       0.000000   \n",
              "25%       322.000000     194.000000     174.000000    1300.000000   \n",
              "50%       500.000000     377.000000     334.000000    5500.000000   \n",
              "75%       500.000000     486.000000     468.000000   14600.000000   \n",
              "max       600.000000     500.000000     500.000000   80000.000000   \n",
              "\n",
              "             t_money     ct_helmets  ...  ct_grenade_flashbang  \\\n",
              "count  122410.000000  122410.000000  ...         122410.000000   \n",
              "mean    11241.036680       2.053901  ...              1.853157   \n",
              "std     12162.806759       1.841470  ...              1.772791   \n",
              "min         0.000000       0.000000  ...              0.000000   \n",
              "25%      1550.000000       0.000000  ...              0.000000   \n",
              "50%      7150.000000       2.000000  ...              1.000000   \n",
              "75%     18000.000000       4.000000  ...              3.000000   \n",
              "max     80000.000000       5.000000  ...              7.000000   \n",
              "\n",
              "       t_grenade_flashbang  ct_grenade_smokegrenade  t_grenade_smokegrenade  \\\n",
              "count        122410.000000            122410.000000           122410.000000   \n",
              "mean              1.858100                 1.540814                1.627146   \n",
              "std               1.794473                 1.737804                1.829147   \n",
              "min               0.000000                 0.000000                0.000000   \n",
              "25%               0.000000                 0.000000                0.000000   \n",
              "50%               1.000000                 1.000000                1.000000   \n",
              "75%               3.000000                 3.000000                3.000000   \n",
              "max               7.000000                 6.000000                9.000000   \n",
              "\n",
              "       ct_grenade_incendiarygrenade  t_grenade_incendiarygrenade  \\\n",
              "count                 122410.000000                122410.000000   \n",
              "mean                       1.001969                     0.019819   \n",
              "std                        1.458084                     0.143933   \n",
              "min                        0.000000                     0.000000   \n",
              "25%                        0.000000                     0.000000   \n",
              "50%                        0.000000                     0.000000   \n",
              "75%                        2.000000                     0.000000   \n",
              "max                        5.000000                     3.000000   \n",
              "\n",
              "       ct_grenade_molotovgrenade  t_grenade_molotovgrenade  \\\n",
              "count              122410.000000             122410.000000   \n",
              "mean                    0.048011                  1.352095   \n",
              "std                     0.227669                  1.663246   \n",
              "min                     0.000000                  0.000000   \n",
              "25%                     0.000000                  0.000000   \n",
              "50%                     0.000000                  1.000000   \n",
              "75%                     0.000000                  2.000000   \n",
              "max                     3.000000                  5.000000   \n",
              "\n",
              "       ct_grenade_decoygrenade  t_grenade_decoygrenade  \n",
              "count            122410.000000           122410.000000  \n",
              "mean                  0.027694                0.025750  \n",
              "std                   0.169531                0.164162  \n",
              "min                   0.000000                0.000000  \n",
              "25%                   0.000000                0.000000  \n",
              "50%                   0.000000                0.000000  \n",
              "75%                   0.000000                0.000000  \n",
              "max                   3.000000                2.000000  \n",
              "\n",
              "[8 rows x 94 columns]"
            ],
            "text/html": [
              "\n",
              "  <div id=\"df-84358e86-72a1-4b9d-98e1-e7c92057df21\">\n",
              "    <div class=\"colab-df-container\">\n",
              "      <div>\n",
              "<style scoped>\n",
              "    .dataframe tbody tr th:only-of-type {\n",
              "        vertical-align: middle;\n",
              "    }\n",
              "\n",
              "    .dataframe tbody tr th {\n",
              "        vertical-align: top;\n",
              "    }\n",
              "\n",
              "    .dataframe thead th {\n",
              "        text-align: right;\n",
              "    }\n",
              "</style>\n",
              "<table border=\"1\" class=\"dataframe\">\n",
              "  <thead>\n",
              "    <tr style=\"text-align: right;\">\n",
              "      <th></th>\n",
              "      <th>time_left</th>\n",
              "      <th>ct_score</th>\n",
              "      <th>t_score</th>\n",
              "      <th>ct_health</th>\n",
              "      <th>t_health</th>\n",
              "      <th>ct_armor</th>\n",
              "      <th>t_armor</th>\n",
              "      <th>ct_money</th>\n",
              "      <th>t_money</th>\n",
              "      <th>ct_helmets</th>\n",
              "      <th>...</th>\n",
              "      <th>ct_grenade_flashbang</th>\n",
              "      <th>t_grenade_flashbang</th>\n",
              "      <th>ct_grenade_smokegrenade</th>\n",
              "      <th>t_grenade_smokegrenade</th>\n",
              "      <th>ct_grenade_incendiarygrenade</th>\n",
              "      <th>t_grenade_incendiarygrenade</th>\n",
              "      <th>ct_grenade_molotovgrenade</th>\n",
              "      <th>t_grenade_molotovgrenade</th>\n",
              "      <th>ct_grenade_decoygrenade</th>\n",
              "      <th>t_grenade_decoygrenade</th>\n",
              "    </tr>\n",
              "  </thead>\n",
              "  <tbody>\n",
              "    <tr>\n",
              "      <th>count</th>\n",
              "      <td>122410.000000</td>\n",
              "      <td>122410.000000</td>\n",
              "      <td>122410.000000</td>\n",
              "      <td>122410.000000</td>\n",
              "      <td>122410.000000</td>\n",
              "      <td>122410.000000</td>\n",
              "      <td>122410.000000</td>\n",
              "      <td>122410.000000</td>\n",
              "      <td>122410.000000</td>\n",
              "      <td>122410.000000</td>\n",
              "      <td>...</td>\n",
              "      <td>122410.000000</td>\n",
              "      <td>122410.000000</td>\n",
              "      <td>122410.000000</td>\n",
              "      <td>122410.000000</td>\n",
              "      <td>122410.000000</td>\n",
              "      <td>122410.000000</td>\n",
              "      <td>122410.000000</td>\n",
              "      <td>122410.000000</td>\n",
              "      <td>122410.000000</td>\n",
              "      <td>122410.000000</td>\n",
              "    </tr>\n",
              "    <tr>\n",
              "      <th>mean</th>\n",
              "      <td>97.886922</td>\n",
              "      <td>6.709239</td>\n",
              "      <td>6.780435</td>\n",
              "      <td>412.106568</td>\n",
              "      <td>402.714500</td>\n",
              "      <td>314.142121</td>\n",
              "      <td>298.444670</td>\n",
              "      <td>9789.023773</td>\n",
              "      <td>11241.036680</td>\n",
              "      <td>2.053901</td>\n",
              "      <td>...</td>\n",
              "      <td>1.853157</td>\n",
              "      <td>1.858100</td>\n",
              "      <td>1.540814</td>\n",
              "      <td>1.627146</td>\n",
              "      <td>1.001969</td>\n",
              "      <td>0.019819</td>\n",
              "      <td>0.048011</td>\n",
              "      <td>1.352095</td>\n",
              "      <td>0.027694</td>\n",
              "      <td>0.025750</td>\n",
              "    </tr>\n",
              "    <tr>\n",
              "      <th>std</th>\n",
              "      <td>54.465238</td>\n",
              "      <td>4.790362</td>\n",
              "      <td>4.823543</td>\n",
              "      <td>132.293290</td>\n",
              "      <td>139.919033</td>\n",
              "      <td>171.029736</td>\n",
              "      <td>174.576545</td>\n",
              "      <td>11215.042286</td>\n",
              "      <td>12162.806759</td>\n",
              "      <td>1.841470</td>\n",
              "      <td>...</td>\n",
              "      <td>1.772791</td>\n",
              "      <td>1.794473</td>\n",
              "      <td>1.737804</td>\n",
              "      <td>1.829147</td>\n",
              "      <td>1.458084</td>\n",
              "      <td>0.143933</td>\n",
              "      <td>0.227669</td>\n",
              "      <td>1.663246</td>\n",
              "      <td>0.169531</td>\n",
              "      <td>0.164162</td>\n",
              "    </tr>\n",
              "    <tr>\n",
              "      <th>min</th>\n",
              "      <td>0.010000</td>\n",
              "      <td>0.000000</td>\n",
              "      <td>0.000000</td>\n",
              "      <td>0.000000</td>\n",
              "      <td>0.000000</td>\n",
              "      <td>0.000000</td>\n",
              "      <td>0.000000</td>\n",
              "      <td>0.000000</td>\n",
              "      <td>0.000000</td>\n",
              "      <td>0.000000</td>\n",
              "      <td>...</td>\n",
              "      <td>0.000000</td>\n",
              "      <td>0.000000</td>\n",
              "      <td>0.000000</td>\n",
              "      <td>0.000000</td>\n",
              "      <td>0.000000</td>\n",
              "      <td>0.000000</td>\n",
              "      <td>0.000000</td>\n",
              "      <td>0.000000</td>\n",
              "      <td>0.000000</td>\n",
              "      <td>0.000000</td>\n",
              "    </tr>\n",
              "    <tr>\n",
              "      <th>25%</th>\n",
              "      <td>54.920000</td>\n",
              "      <td>3.000000</td>\n",
              "      <td>3.000000</td>\n",
              "      <td>350.000000</td>\n",
              "      <td>322.000000</td>\n",
              "      <td>194.000000</td>\n",
              "      <td>174.000000</td>\n",
              "      <td>1300.000000</td>\n",
              "      <td>1550.000000</td>\n",
              "      <td>0.000000</td>\n",
              "      <td>...</td>\n",
              "      <td>0.000000</td>\n",
              "      <td>0.000000</td>\n",
              "      <td>0.000000</td>\n",
              "      <td>0.000000</td>\n",
              "      <td>0.000000</td>\n",
              "      <td>0.000000</td>\n",
              "      <td>0.000000</td>\n",
              "      <td>0.000000</td>\n",
              "      <td>0.000000</td>\n",
              "      <td>0.000000</td>\n",
              "    </tr>\n",
              "    <tr>\n",
              "      <th>50%</th>\n",
              "      <td>94.910000</td>\n",
              "      <td>6.000000</td>\n",
              "      <td>6.000000</td>\n",
              "      <td>500.000000</td>\n",
              "      <td>500.000000</td>\n",
              "      <td>377.000000</td>\n",
              "      <td>334.000000</td>\n",
              "      <td>5500.000000</td>\n",
              "      <td>7150.000000</td>\n",
              "      <td>2.000000</td>\n",
              "      <td>...</td>\n",
              "      <td>1.000000</td>\n",
              "      <td>1.000000</td>\n",
              "      <td>1.000000</td>\n",
              "      <td>1.000000</td>\n",
              "      <td>0.000000</td>\n",
              "      <td>0.000000</td>\n",
              "      <td>0.000000</td>\n",
              "      <td>1.000000</td>\n",
              "      <td>0.000000</td>\n",
              "      <td>0.000000</td>\n",
              "    </tr>\n",
              "    <tr>\n",
              "      <th>75%</th>\n",
              "      <td>166.917500</td>\n",
              "      <td>10.000000</td>\n",
              "      <td>10.000000</td>\n",
              "      <td>500.000000</td>\n",
              "      <td>500.000000</td>\n",
              "      <td>486.000000</td>\n",
              "      <td>468.000000</td>\n",
              "      <td>14600.000000</td>\n",
              "      <td>18000.000000</td>\n",
              "      <td>4.000000</td>\n",
              "      <td>...</td>\n",
              "      <td>3.000000</td>\n",
              "      <td>3.000000</td>\n",
              "      <td>3.000000</td>\n",
              "      <td>3.000000</td>\n",
              "      <td>2.000000</td>\n",
              "      <td>0.000000</td>\n",
              "      <td>0.000000</td>\n",
              "      <td>2.000000</td>\n",
              "      <td>0.000000</td>\n",
              "      <td>0.000000</td>\n",
              "    </tr>\n",
              "    <tr>\n",
              "      <th>max</th>\n",
              "      <td>175.000000</td>\n",
              "      <td>32.000000</td>\n",
              "      <td>33.000000</td>\n",
              "      <td>500.000000</td>\n",
              "      <td>600.000000</td>\n",
              "      <td>500.000000</td>\n",
              "      <td>500.000000</td>\n",
              "      <td>80000.000000</td>\n",
              "      <td>80000.000000</td>\n",
              "      <td>5.000000</td>\n",
              "      <td>...</td>\n",
              "      <td>7.000000</td>\n",
              "      <td>7.000000</td>\n",
              "      <td>6.000000</td>\n",
              "      <td>9.000000</td>\n",
              "      <td>5.000000</td>\n",
              "      <td>3.000000</td>\n",
              "      <td>3.000000</td>\n",
              "      <td>5.000000</td>\n",
              "      <td>3.000000</td>\n",
              "      <td>2.000000</td>\n",
              "    </tr>\n",
              "  </tbody>\n",
              "</table>\n",
              "<p>8 rows × 94 columns</p>\n",
              "</div>\n",
              "      <button class=\"colab-df-convert\" onclick=\"convertToInteractive('df-84358e86-72a1-4b9d-98e1-e7c92057df21')\"\n",
              "              title=\"Convert this dataframe to an interactive table.\"\n",
              "              style=\"display:none;\">\n",
              "        \n",
              "  <svg xmlns=\"http://www.w3.org/2000/svg\" height=\"24px\"viewBox=\"0 0 24 24\"\n",
              "       width=\"24px\">\n",
              "    <path d=\"M0 0h24v24H0V0z\" fill=\"none\"/>\n",
              "    <path d=\"M18.56 5.44l.94 2.06.94-2.06 2.06-.94-2.06-.94-.94-2.06-.94 2.06-2.06.94zm-11 1L8.5 8.5l.94-2.06 2.06-.94-2.06-.94L8.5 2.5l-.94 2.06-2.06.94zm10 10l.94 2.06.94-2.06 2.06-.94-2.06-.94-.94-2.06-.94 2.06-2.06.94z\"/><path d=\"M17.41 7.96l-1.37-1.37c-.4-.4-.92-.59-1.43-.59-.52 0-1.04.2-1.43.59L10.3 9.45l-7.72 7.72c-.78.78-.78 2.05 0 2.83L4 21.41c.39.39.9.59 1.41.59.51 0 1.02-.2 1.41-.59l7.78-7.78 2.81-2.81c.8-.78.8-2.07 0-2.86zM5.41 20L4 18.59l7.72-7.72 1.47 1.35L5.41 20z\"/>\n",
              "  </svg>\n",
              "      </button>\n",
              "      \n",
              "  <style>\n",
              "    .colab-df-container {\n",
              "      display:flex;\n",
              "      flex-wrap:wrap;\n",
              "      gap: 12px;\n",
              "    }\n",
              "\n",
              "    .colab-df-convert {\n",
              "      background-color: #E8F0FE;\n",
              "      border: none;\n",
              "      border-radius: 50%;\n",
              "      cursor: pointer;\n",
              "      display: none;\n",
              "      fill: #1967D2;\n",
              "      height: 32px;\n",
              "      padding: 0 0 0 0;\n",
              "      width: 32px;\n",
              "    }\n",
              "\n",
              "    .colab-df-convert:hover {\n",
              "      background-color: #E2EBFA;\n",
              "      box-shadow: 0px 1px 2px rgba(60, 64, 67, 0.3), 0px 1px 3px 1px rgba(60, 64, 67, 0.15);\n",
              "      fill: #174EA6;\n",
              "    }\n",
              "\n",
              "    [theme=dark] .colab-df-convert {\n",
              "      background-color: #3B4455;\n",
              "      fill: #D2E3FC;\n",
              "    }\n",
              "\n",
              "    [theme=dark] .colab-df-convert:hover {\n",
              "      background-color: #434B5C;\n",
              "      box-shadow: 0px 1px 3px 1px rgba(0, 0, 0, 0.15);\n",
              "      filter: drop-shadow(0px 1px 2px rgba(0, 0, 0, 0.3));\n",
              "      fill: #FFFFFF;\n",
              "    }\n",
              "  </style>\n",
              "\n",
              "      <script>\n",
              "        const buttonEl =\n",
              "          document.querySelector('#df-84358e86-72a1-4b9d-98e1-e7c92057df21 button.colab-df-convert');\n",
              "        buttonEl.style.display =\n",
              "          google.colab.kernel.accessAllowed ? 'block' : 'none';\n",
              "\n",
              "        async function convertToInteractive(key) {\n",
              "          const element = document.querySelector('#df-84358e86-72a1-4b9d-98e1-e7c92057df21');\n",
              "          const dataTable =\n",
              "            await google.colab.kernel.invokeFunction('convertToInteractive',\n",
              "                                                     [key], {});\n",
              "          if (!dataTable) return;\n",
              "\n",
              "          const docLinkHtml = 'Like what you see? Visit the ' +\n",
              "            '<a target=\"_blank\" href=https://colab.research.google.com/notebooks/data_table.ipynb>data table notebook</a>'\n",
              "            + ' to learn more about interactive tables.';\n",
              "          element.innerHTML = '';\n",
              "          dataTable['output_type'] = 'display_data';\n",
              "          await google.colab.output.renderOutput(dataTable, element);\n",
              "          const docLink = document.createElement('div');\n",
              "          docLink.innerHTML = docLinkHtml;\n",
              "          element.appendChild(docLink);\n",
              "        }\n",
              "      </script>\n",
              "    </div>\n",
              "  </div>\n",
              "  "
            ]
          },
          "metadata": {},
          "execution_count": 13
        }
      ],
      "source": [
        "data.describe()  # Statistical description of our dataset"
      ]
    },
    {
      "cell_type": "code",
      "execution_count": 14,
      "metadata": {
        "colab": {
          "base_uri": "https://localhost:8080/"
        },
        "id": "nah4dH-aQasu",
        "outputId": "7c6b7e87-545b-40ef-e17a-049508d4d538"
      },
      "outputs": [
        {
          "output_type": "execute_result",
          "data": {
            "text/plain": [
              "time_left               time_left              1.000000\n",
              "ct_health               ct_players_alive       0.971630\n",
              "t_players_alive         t_health               0.955859\n",
              "t_armor                 t_helmets              0.877626\n",
              "t_grenade_smokegrenade  t_grenade_flashbang    0.831862\n",
              "dtype: float64"
            ]
          },
          "metadata": {},
          "execution_count": 14
        }
      ],
      "source": [
        "data.corr().abs().unstack().sort_values(ascending=False, kind=\"quicksort\").drop_duplicates().head()\n",
        "#checking correlation between variables"
      ]
    },
    {
      "cell_type": "markdown",
      "source": [
        "### Changing the values of round_winner from CT or T to 0 or 1"
      ],
      "metadata": {
        "id": "p32W_LJmJjAd"
      }
    },
    {
      "cell_type": "markdown",
      "source": [
        "This code creates a LabelEncoder object called \"encoder\", which is used to transform the values in the \"round_winner\" column of a Pandas dataframe called \"data\" into numerical labels. The second line applies the encoder to the \"round_winner\" column of the dataframe, replacing the original values with their corresponding numerical labels. The third line creates a dictionary called \"winner_mappings\" that maps each numerical label to its original string value, based on the classes identified by the encoder. This code is commonly used for preparing categorical data for machine learning models that require numerical inputs."
      ],
      "metadata": {
        "id": "7EGvC3FKdnRU"
      }
    },
    {
      "cell_type": "code",
      "source": [
        "encoder = LabelEncoder()\n",
        "data['round_winner'] = encoder.fit_transform(data['round_winner'])\n",
        "winner_mappings = {index: label for index, label in enumerate(encoder.classes_)}"
      ],
      "metadata": {
        "id": "41ZyQfeQJkF4"
      },
      "execution_count": 15,
      "outputs": []
    },
    {
      "cell_type": "markdown",
      "source": [
        "### Assigning each map an integer value,"
      ],
      "metadata": {
        "id": "q-rxDmuMJVSs"
      }
    },
    {
      "cell_type": "markdown",
      "source": [
        "This code creates a LabelEncoder object called \"encoder\", which is used to transform the values in the \"map\" column of a Pandas dataframe called \"data\" into numerical labels. The second line applies the encoder to the \"map\" column of the dataframe, replacing the original values with their corresponding numerical labels. The third line creates a dictionary called \"map_mappings\" that maps each numerical label to its original string value, based on the classes identified by the encoder. "
      ],
      "metadata": {
        "id": "LZ8pu04qd3om"
      }
    },
    {
      "cell_type": "code",
      "source": [
        "encoder = LabelEncoder()\n",
        "\n",
        "data['map'] = encoder.fit_transform(data['map'])\n",
        "map_mappings = {index: label for index, label in enumerate(encoder.classes_)}"
      ],
      "metadata": {
        "id": "HaRkRa0ZJXSl"
      },
      "execution_count": 16,
      "outputs": []
    },
    {
      "cell_type": "markdown",
      "source": [
        "### Changing the values of bomb_planted from False or True to 0 or 1"
      ],
      "metadata": {
        "id": "uLeyYcPsJnAT"
      }
    },
    {
      "cell_type": "markdown",
      "source": [
        "This code converts the data type of the \"bomb_planted\" column in a Pandas dataframe called \"data\" from its original data type to a 16-bit integer data type using the NumPy library. This type of conversion can be useful for reducing the memory usage of large datasets that contain numeric data, as 16-bit integers require less memory than the default data type used by Pandas, which is usually 32-bit or 64-bit integers."
      ],
      "metadata": {
        "id": "m3QEL6LheFt0"
      }
    },
    {
      "cell_type": "code",
      "source": [
        "data['bomb_planted'] = data['bomb_planted'].astype(np.int16)"
      ],
      "metadata": {
        "id": "8XLYMoEuJo2-"
      },
      "execution_count": 17,
      "outputs": []
    },
    {
      "cell_type": "markdown",
      "source": [
        "## Which independent variables are significant?"
      ],
      "metadata": {
        "id": "_hsHkC7NUz7t"
      }
    },
    {
      "cell_type": "markdown",
      "source": [
        "### Feature selection through SelectKBest model."
      ],
      "metadata": {
        "id": "AuphMo5rBdZY"
      }
    },
    {
      "cell_type": "markdown",
      "source": [
        "This code performs feature selection for a classification problem using the SelectKBest method from the scikit-learn library. It first imports the SelectKBest method along with two score functions (chi2 and f_regression) for classification and regression respectively. The code then creates a feature matrix X_clf and a target variable y_clf, and drops the target variable from the feature matrix. Next, it replaces any infinite values in the dataset with NaN values and drops any rows containing NaN values. Finally, it creates a SelectKBest object with k=20, fits the object to the feature matrix and target variable, and selects the top 20 features based on the F-value (f_classif score function) of each feature. The selected features are stored in a new dataframe called \"features_df_new\", which is returned by the last line of the code. This process can be used to reduce the dimensionality of a dataset and improve the accuracy and performance of machine learning models."
      ],
      "metadata": {
        "id": "COzU544neTJD"
      }
    },
    {
      "cell_type": "code",
      "source": [
        "\n",
        "# Import SelectKBest, chi2(score function for classification), f_regression (score function for regression)\n",
        "from sklearn.feature_selection import SelectKBest, chi2, f_regression\n",
        "     \n",
        "\n",
        "# Create feature and target variable for Classification problem\n",
        "X_clf=data.drop('round_winner', axis=1) # features\n",
        "y_clf=data['round_winner'] # Target variable"
      ],
      "metadata": {
        "id": "ltRCAeYbBcRB"
      },
      "execution_count": 18,
      "outputs": []
    },
    {
      "cell_type": "code",
      "source": [
        "#since we know no nulls are present we are trying to remove any infs if present.\n",
        "data.replace([np.inf, -np.inf], np.nan)\n",
        "\n",
        "data.dropna(inplace=True)"
      ],
      "metadata": {
        "id": "_boSSUeAH5vX"
      },
      "execution_count": 19,
      "outputs": []
    },
    {
      "cell_type": "code",
      "source": [
        "# Create the object for SelectKBest and fit and transform the classification data\n",
        "# k is the number of features you want to select [here it's 2]\n",
        "from sklearn.feature_selection import SelectKBest, f_classif\n",
        "# Create and fit selector\n",
        "selector = SelectKBest(f_classif, k=20)\n",
        "selector.fit(X_clf, y_clf)\n",
        "# Get columns to keep and create new dataframe with those only\n",
        "cols = selector.get_support(indices=True)\n",
        "features_df_new = X_clf.iloc[:,cols]"
      ],
      "metadata": {
        "id": "5eDi4oqXH7Dd"
      },
      "execution_count": 20,
      "outputs": []
    },
    {
      "cell_type": "code",
      "source": [
        "features_df_new.head()"
      ],
      "metadata": {
        "colab": {
          "base_uri": "https://localhost:8080/",
          "height": 0
        },
        "id": "TkNqthBlH90u",
        "outputId": "e03fd8ba-5adf-438a-dae7-96a4b8dfd9df"
      },
      "execution_count": 21,
      "outputs": [
        {
          "output_type": "execute_result",
          "data": {
            "text/plain": [
              "   bomb_planted  ct_health  ct_armor  t_armor  ct_helmets  t_helmets  \\\n",
              "0             0        500         0        0           0          0   \n",
              "1             0        500       400      300           0          0   \n",
              "2             0        391       294      200           0          0   \n",
              "3             0        391       294      200           0          0   \n",
              "4             0        500       192        0           0          0   \n",
              "\n",
              "   ct_defuse_kits  ct_players_alive  ct_weapon_ak47  t_weapon_ak47  \\\n",
              "0               0                 5               0              0   \n",
              "1               1                 5               0              0   \n",
              "2               1                 4               0              0   \n",
              "3               1                 4               0              0   \n",
              "4               1                 5               0              0   \n",
              "\n",
              "   ct_weapon_awp  ct_weapon_m4a4  ct_weapon_sg553  t_weapon_sg553  \\\n",
              "0              0               0                0               0   \n",
              "1              0               0                0               0   \n",
              "2              0               0                0               0   \n",
              "3              0               0                0               0   \n",
              "4              0               0                0               0   \n",
              "\n",
              "   ct_weapon_usps  ct_grenade_hegrenade  ct_grenade_flashbang  \\\n",
              "0               4                     0                     0   \n",
              "1               4                     0                     0   \n",
              "2               4                     0                     0   \n",
              "3               4                     0                     0   \n",
              "4               4                     0                     0   \n",
              "\n",
              "   t_grenade_flashbang  ct_grenade_smokegrenade  ct_grenade_incendiarygrenade  \n",
              "0                    0                        0                             0  \n",
              "1                    0                        0                             0  \n",
              "2                    0                        0                             0  \n",
              "3                    0                        0                             0  \n",
              "4                    0                        0                             0  "
            ],
            "text/html": [
              "\n",
              "  <div id=\"df-2f56cf49-7cfd-46ae-a956-71773c80bcfa\">\n",
              "    <div class=\"colab-df-container\">\n",
              "      <div>\n",
              "<style scoped>\n",
              "    .dataframe tbody tr th:only-of-type {\n",
              "        vertical-align: middle;\n",
              "    }\n",
              "\n",
              "    .dataframe tbody tr th {\n",
              "        vertical-align: top;\n",
              "    }\n",
              "\n",
              "    .dataframe thead th {\n",
              "        text-align: right;\n",
              "    }\n",
              "</style>\n",
              "<table border=\"1\" class=\"dataframe\">\n",
              "  <thead>\n",
              "    <tr style=\"text-align: right;\">\n",
              "      <th></th>\n",
              "      <th>bomb_planted</th>\n",
              "      <th>ct_health</th>\n",
              "      <th>ct_armor</th>\n",
              "      <th>t_armor</th>\n",
              "      <th>ct_helmets</th>\n",
              "      <th>t_helmets</th>\n",
              "      <th>ct_defuse_kits</th>\n",
              "      <th>ct_players_alive</th>\n",
              "      <th>ct_weapon_ak47</th>\n",
              "      <th>t_weapon_ak47</th>\n",
              "      <th>ct_weapon_awp</th>\n",
              "      <th>ct_weapon_m4a4</th>\n",
              "      <th>ct_weapon_sg553</th>\n",
              "      <th>t_weapon_sg553</th>\n",
              "      <th>ct_weapon_usps</th>\n",
              "      <th>ct_grenade_hegrenade</th>\n",
              "      <th>ct_grenade_flashbang</th>\n",
              "      <th>t_grenade_flashbang</th>\n",
              "      <th>ct_grenade_smokegrenade</th>\n",
              "      <th>ct_grenade_incendiarygrenade</th>\n",
              "    </tr>\n",
              "  </thead>\n",
              "  <tbody>\n",
              "    <tr>\n",
              "      <th>0</th>\n",
              "      <td>0</td>\n",
              "      <td>500</td>\n",
              "      <td>0</td>\n",
              "      <td>0</td>\n",
              "      <td>0</td>\n",
              "      <td>0</td>\n",
              "      <td>0</td>\n",
              "      <td>5</td>\n",
              "      <td>0</td>\n",
              "      <td>0</td>\n",
              "      <td>0</td>\n",
              "      <td>0</td>\n",
              "      <td>0</td>\n",
              "      <td>0</td>\n",
              "      <td>4</td>\n",
              "      <td>0</td>\n",
              "      <td>0</td>\n",
              "      <td>0</td>\n",
              "      <td>0</td>\n",
              "      <td>0</td>\n",
              "    </tr>\n",
              "    <tr>\n",
              "      <th>1</th>\n",
              "      <td>0</td>\n",
              "      <td>500</td>\n",
              "      <td>400</td>\n",
              "      <td>300</td>\n",
              "      <td>0</td>\n",
              "      <td>0</td>\n",
              "      <td>1</td>\n",
              "      <td>5</td>\n",
              "      <td>0</td>\n",
              "      <td>0</td>\n",
              "      <td>0</td>\n",
              "      <td>0</td>\n",
              "      <td>0</td>\n",
              "      <td>0</td>\n",
              "      <td>4</td>\n",
              "      <td>0</td>\n",
              "      <td>0</td>\n",
              "      <td>0</td>\n",
              "      <td>0</td>\n",
              "      <td>0</td>\n",
              "    </tr>\n",
              "    <tr>\n",
              "      <th>2</th>\n",
              "      <td>0</td>\n",
              "      <td>391</td>\n",
              "      <td>294</td>\n",
              "      <td>200</td>\n",
              "      <td>0</td>\n",
              "      <td>0</td>\n",
              "      <td>1</td>\n",
              "      <td>4</td>\n",
              "      <td>0</td>\n",
              "      <td>0</td>\n",
              "      <td>0</td>\n",
              "      <td>0</td>\n",
              "      <td>0</td>\n",
              "      <td>0</td>\n",
              "      <td>4</td>\n",
              "      <td>0</td>\n",
              "      <td>0</td>\n",
              "      <td>0</td>\n",
              "      <td>0</td>\n",
              "      <td>0</td>\n",
              "    </tr>\n",
              "    <tr>\n",
              "      <th>3</th>\n",
              "      <td>0</td>\n",
              "      <td>391</td>\n",
              "      <td>294</td>\n",
              "      <td>200</td>\n",
              "      <td>0</td>\n",
              "      <td>0</td>\n",
              "      <td>1</td>\n",
              "      <td>4</td>\n",
              "      <td>0</td>\n",
              "      <td>0</td>\n",
              "      <td>0</td>\n",
              "      <td>0</td>\n",
              "      <td>0</td>\n",
              "      <td>0</td>\n",
              "      <td>4</td>\n",
              "      <td>0</td>\n",
              "      <td>0</td>\n",
              "      <td>0</td>\n",
              "      <td>0</td>\n",
              "      <td>0</td>\n",
              "    </tr>\n",
              "    <tr>\n",
              "      <th>4</th>\n",
              "      <td>0</td>\n",
              "      <td>500</td>\n",
              "      <td>192</td>\n",
              "      <td>0</td>\n",
              "      <td>0</td>\n",
              "      <td>0</td>\n",
              "      <td>1</td>\n",
              "      <td>5</td>\n",
              "      <td>0</td>\n",
              "      <td>0</td>\n",
              "      <td>0</td>\n",
              "      <td>0</td>\n",
              "      <td>0</td>\n",
              "      <td>0</td>\n",
              "      <td>4</td>\n",
              "      <td>0</td>\n",
              "      <td>0</td>\n",
              "      <td>0</td>\n",
              "      <td>0</td>\n",
              "      <td>0</td>\n",
              "    </tr>\n",
              "  </tbody>\n",
              "</table>\n",
              "</div>\n",
              "      <button class=\"colab-df-convert\" onclick=\"convertToInteractive('df-2f56cf49-7cfd-46ae-a956-71773c80bcfa')\"\n",
              "              title=\"Convert this dataframe to an interactive table.\"\n",
              "              style=\"display:none;\">\n",
              "        \n",
              "  <svg xmlns=\"http://www.w3.org/2000/svg\" height=\"24px\"viewBox=\"0 0 24 24\"\n",
              "       width=\"24px\">\n",
              "    <path d=\"M0 0h24v24H0V0z\" fill=\"none\"/>\n",
              "    <path d=\"M18.56 5.44l.94 2.06.94-2.06 2.06-.94-2.06-.94-.94-2.06-.94 2.06-2.06.94zm-11 1L8.5 8.5l.94-2.06 2.06-.94-2.06-.94L8.5 2.5l-.94 2.06-2.06.94zm10 10l.94 2.06.94-2.06 2.06-.94-2.06-.94-.94-2.06-.94 2.06-2.06.94z\"/><path d=\"M17.41 7.96l-1.37-1.37c-.4-.4-.92-.59-1.43-.59-.52 0-1.04.2-1.43.59L10.3 9.45l-7.72 7.72c-.78.78-.78 2.05 0 2.83L4 21.41c.39.39.9.59 1.41.59.51 0 1.02-.2 1.41-.59l7.78-7.78 2.81-2.81c.8-.78.8-2.07 0-2.86zM5.41 20L4 18.59l7.72-7.72 1.47 1.35L5.41 20z\"/>\n",
              "  </svg>\n",
              "      </button>\n",
              "      \n",
              "  <style>\n",
              "    .colab-df-container {\n",
              "      display:flex;\n",
              "      flex-wrap:wrap;\n",
              "      gap: 12px;\n",
              "    }\n",
              "\n",
              "    .colab-df-convert {\n",
              "      background-color: #E8F0FE;\n",
              "      border: none;\n",
              "      border-radius: 50%;\n",
              "      cursor: pointer;\n",
              "      display: none;\n",
              "      fill: #1967D2;\n",
              "      height: 32px;\n",
              "      padding: 0 0 0 0;\n",
              "      width: 32px;\n",
              "    }\n",
              "\n",
              "    .colab-df-convert:hover {\n",
              "      background-color: #E2EBFA;\n",
              "      box-shadow: 0px 1px 2px rgba(60, 64, 67, 0.3), 0px 1px 3px 1px rgba(60, 64, 67, 0.15);\n",
              "      fill: #174EA6;\n",
              "    }\n",
              "\n",
              "    [theme=dark] .colab-df-convert {\n",
              "      background-color: #3B4455;\n",
              "      fill: #D2E3FC;\n",
              "    }\n",
              "\n",
              "    [theme=dark] .colab-df-convert:hover {\n",
              "      background-color: #434B5C;\n",
              "      box-shadow: 0px 1px 3px 1px rgba(0, 0, 0, 0.15);\n",
              "      filter: drop-shadow(0px 1px 2px rgba(0, 0, 0, 0.3));\n",
              "      fill: #FFFFFF;\n",
              "    }\n",
              "  </style>\n",
              "\n",
              "      <script>\n",
              "        const buttonEl =\n",
              "          document.querySelector('#df-2f56cf49-7cfd-46ae-a956-71773c80bcfa button.colab-df-convert');\n",
              "        buttonEl.style.display =\n",
              "          google.colab.kernel.accessAllowed ? 'block' : 'none';\n",
              "\n",
              "        async function convertToInteractive(key) {\n",
              "          const element = document.querySelector('#df-2f56cf49-7cfd-46ae-a956-71773c80bcfa');\n",
              "          const dataTable =\n",
              "            await google.colab.kernel.invokeFunction('convertToInteractive',\n",
              "                                                     [key], {});\n",
              "          if (!dataTable) return;\n",
              "\n",
              "          const docLinkHtml = 'Like what you see? Visit the ' +\n",
              "            '<a target=\"_blank\" href=https://colab.research.google.com/notebooks/data_table.ipynb>data table notebook</a>'\n",
              "            + ' to learn more about interactive tables.';\n",
              "          element.innerHTML = '';\n",
              "          dataTable['output_type'] = 'display_data';\n",
              "          await google.colab.output.renderOutput(dataTable, element);\n",
              "          const docLink = document.createElement('div');\n",
              "          docLink.innerHTML = docLinkHtml;\n",
              "          element.appendChild(docLink);\n",
              "        }\n",
              "      </script>\n",
              "    </div>\n",
              "  </div>\n",
              "  "
            ]
          },
          "metadata": {},
          "execution_count": 21
        }
      ]
    },
    {
      "cell_type": "markdown",
      "source": [
        "### Indentifying predictor Significance for the SelectKBest model.\n",
        "\n"
      ],
      "metadata": {
        "id": "chybHb89IQFp"
      }
    },
    {
      "cell_type": "markdown",
      "source": [
        "This code uses the Ordinary Least Squares (OLS) method from the statsmodels library to build a linear regression model with the target variable 'round_winner' and the feature matrix 'features_df_new'. The OLS method estimates the coefficients of the linear regression model that minimize the sum of squared residuals between the predicted and actual values. The code fits the model using the fit() method and displays a summary of the model's statistics using the summary() method. The summary includes the coefficient estimates, standard errors, t-values, p-values, and other statistics for each predictor variable in the model. The p-values can be used to assess the statistical significance of each predictor variable and to determine whether to include or exclude it from the model. Overall, this code is used for statistical modeling and analysis of linear regression."
      ],
      "metadata": {
        "id": "dWSN0UT2e2U4"
      }
    },
    {
      "cell_type": "code",
      "source": [
        "#Using OLS for p value\n",
        "import statsmodels.api as sm\n",
        "\n",
        "model = sm.OLS(data['round_winner'],features_df_new ).fit()\n",
        "\n",
        "model.summary()"
      ],
      "metadata": {
        "colab": {
          "base_uri": "https://localhost:8080/",
          "height": 0
        },
        "id": "2eq3RxRMIRij",
        "outputId": "5e788ed6-7577-42ac-ef74-a69311ef11b7"
      },
      "execution_count": 22,
      "outputs": [
        {
          "output_type": "execute_result",
          "data": {
            "text/plain": [
              "<class 'statsmodels.iolib.summary.Summary'>\n",
              "\"\"\"\n",
              "                                 OLS Regression Results                                \n",
              "=======================================================================================\n",
              "Dep. Variable:           round_winner   R-squared (uncentered):                   0.639\n",
              "Model:                            OLS   Adj. R-squared (uncentered):              0.639\n",
              "Method:                 Least Squares   F-statistic:                          1.083e+04\n",
              "Date:                Wed, 01 Mar 2023   Prob (F-statistic):                        0.00\n",
              "Time:                        04:18:01   Log-Likelihood:                         -70111.\n",
              "No. Observations:              122410   AIC:                                  1.403e+05\n",
              "Df Residuals:                  122390   BIC:                                  1.405e+05\n",
              "Df Model:                          20                                                  \n",
              "Covariance Type:            nonrobust                                                  \n",
              "================================================================================================\n",
              "                                   coef    std err          t      P>|t|      [0.025      0.975]\n",
              "------------------------------------------------------------------------------------------------\n",
              "bomb_planted                     0.3943      0.004     96.686      0.000       0.386       0.402\n",
              "ct_health                       -0.0002   4.01e-05     -5.244      0.000      -0.000      -0.000\n",
              "ct_armor                        -0.0008   1.33e-05    -58.638      0.000      -0.001      -0.001\n",
              "t_armor                          0.0010   1.64e-05     58.613      0.000       0.001       0.001\n",
              "ct_helmets                      -0.0145      0.001    -11.139      0.000      -0.017      -0.012\n",
              "t_helmets                        0.0469      0.002     24.667      0.000       0.043       0.051\n",
              "ct_defuse_kits                  -0.0105      0.001     -7.230      0.000      -0.013      -0.008\n",
              "ct_players_alive                 0.1115      0.004     26.934      0.000       0.103       0.120\n",
              "ct_weapon_ak47                  -0.0193      0.002     -7.915      0.000      -0.024      -0.015\n",
              "t_weapon_ak47                    0.0268      0.002     16.502      0.000       0.024       0.030\n",
              "ct_weapon_awp                   -0.0420      0.002    -18.407      0.000      -0.046      -0.038\n",
              "ct_weapon_m4a4                  -0.0297      0.002    -19.767      0.000      -0.033      -0.027\n",
              "ct_weapon_sg553                 -0.0274      0.003    -10.685      0.000      -0.032      -0.022\n",
              "t_weapon_sg553                   0.0367      0.002     21.596      0.000       0.033       0.040\n",
              "ct_weapon_usps                   0.0060      0.001      5.438      0.000       0.004       0.008\n",
              "ct_grenade_hegrenade             0.0018      0.002      1.082      0.279      -0.001       0.005\n",
              "ct_grenade_flashbang            -0.0097      0.002     -6.384      0.000      -0.013      -0.007\n",
              "t_grenade_flashbang             -0.0417      0.001    -34.189      0.000      -0.044      -0.039\n",
              "ct_grenade_smokegrenade         -0.0030      0.001     -2.008      0.045      -0.006   -7.19e-05\n",
              "ct_grenade_incendiarygrenade     0.0139      0.002      8.583      0.000       0.011       0.017\n",
              "==============================================================================\n",
              "Omnibus:                    25502.297   Durbin-Watson:                   0.420\n",
              "Prob(Omnibus):                  0.000   Jarque-Bera (JB):             4914.285\n",
              "Skew:                          -0.002   Prob(JB):                         0.00\n",
              "Kurtosis:                       2.018   Cond. No.                     2.30e+03\n",
              "==============================================================================\n",
              "\n",
              "Notes:\n",
              "[1] R² is computed without centering (uncentered) since the model does not contain a constant.\n",
              "[2] Standard Errors assume that the covariance matrix of the errors is correctly specified.\n",
              "[3] The condition number is large, 2.3e+03. This might indicate that there are\n",
              "strong multicollinearity or other numerical problems.\n",
              "\"\"\""
            ],
            "text/html": [
              "<table class=\"simpletable\">\n",
              "<caption>OLS Regression Results</caption>\n",
              "<tr>\n",
              "  <th>Dep. Variable:</th>      <td>round_winner</td>   <th>  R-squared (uncentered):</th>      <td>   0.639</td> \n",
              "</tr>\n",
              "<tr>\n",
              "  <th>Model:</th>                   <td>OLS</td>       <th>  Adj. R-squared (uncentered):</th> <td>   0.639</td> \n",
              "</tr>\n",
              "<tr>\n",
              "  <th>Method:</th>             <td>Least Squares</td>  <th>  F-statistic:       </th>          <td>1.083e+04</td>\n",
              "</tr>\n",
              "<tr>\n",
              "  <th>Date:</th>             <td>Wed, 01 Mar 2023</td> <th>  Prob (F-statistic):</th>           <td>  0.00</td>  \n",
              "</tr>\n",
              "<tr>\n",
              "  <th>Time:</th>                 <td>04:18:01</td>     <th>  Log-Likelihood:    </th>          <td> -70111.</td> \n",
              "</tr>\n",
              "<tr>\n",
              "  <th>No. Observations:</th>      <td>122410</td>      <th>  AIC:               </th>          <td>1.403e+05</td>\n",
              "</tr>\n",
              "<tr>\n",
              "  <th>Df Residuals:</th>          <td>122390</td>      <th>  BIC:               </th>          <td>1.405e+05</td>\n",
              "</tr>\n",
              "<tr>\n",
              "  <th>Df Model:</th>              <td>    20</td>      <th>                     </th>              <td> </td>    \n",
              "</tr>\n",
              "<tr>\n",
              "  <th>Covariance Type:</th>      <td>nonrobust</td>    <th>                     </th>              <td> </td>    \n",
              "</tr>\n",
              "</table>\n",
              "<table class=\"simpletable\">\n",
              "<tr>\n",
              "                <td></td>                  <th>coef</th>     <th>std err</th>      <th>t</th>      <th>P>|t|</th>  <th>[0.025</th>    <th>0.975]</th>  \n",
              "</tr>\n",
              "<tr>\n",
              "  <th>bomb_planted</th>                 <td>    0.3943</td> <td>    0.004</td> <td>   96.686</td> <td> 0.000</td> <td>    0.386</td> <td>    0.402</td>\n",
              "</tr>\n",
              "<tr>\n",
              "  <th>ct_health</th>                    <td>   -0.0002</td> <td> 4.01e-05</td> <td>   -5.244</td> <td> 0.000</td> <td>   -0.000</td> <td>   -0.000</td>\n",
              "</tr>\n",
              "<tr>\n",
              "  <th>ct_armor</th>                     <td>   -0.0008</td> <td> 1.33e-05</td> <td>  -58.638</td> <td> 0.000</td> <td>   -0.001</td> <td>   -0.001</td>\n",
              "</tr>\n",
              "<tr>\n",
              "  <th>t_armor</th>                      <td>    0.0010</td> <td> 1.64e-05</td> <td>   58.613</td> <td> 0.000</td> <td>    0.001</td> <td>    0.001</td>\n",
              "</tr>\n",
              "<tr>\n",
              "  <th>ct_helmets</th>                   <td>   -0.0145</td> <td>    0.001</td> <td>  -11.139</td> <td> 0.000</td> <td>   -0.017</td> <td>   -0.012</td>\n",
              "</tr>\n",
              "<tr>\n",
              "  <th>t_helmets</th>                    <td>    0.0469</td> <td>    0.002</td> <td>   24.667</td> <td> 0.000</td> <td>    0.043</td> <td>    0.051</td>\n",
              "</tr>\n",
              "<tr>\n",
              "  <th>ct_defuse_kits</th>               <td>   -0.0105</td> <td>    0.001</td> <td>   -7.230</td> <td> 0.000</td> <td>   -0.013</td> <td>   -0.008</td>\n",
              "</tr>\n",
              "<tr>\n",
              "  <th>ct_players_alive</th>             <td>    0.1115</td> <td>    0.004</td> <td>   26.934</td> <td> 0.000</td> <td>    0.103</td> <td>    0.120</td>\n",
              "</tr>\n",
              "<tr>\n",
              "  <th>ct_weapon_ak47</th>               <td>   -0.0193</td> <td>    0.002</td> <td>   -7.915</td> <td> 0.000</td> <td>   -0.024</td> <td>   -0.015</td>\n",
              "</tr>\n",
              "<tr>\n",
              "  <th>t_weapon_ak47</th>                <td>    0.0268</td> <td>    0.002</td> <td>   16.502</td> <td> 0.000</td> <td>    0.024</td> <td>    0.030</td>\n",
              "</tr>\n",
              "<tr>\n",
              "  <th>ct_weapon_awp</th>                <td>   -0.0420</td> <td>    0.002</td> <td>  -18.407</td> <td> 0.000</td> <td>   -0.046</td> <td>   -0.038</td>\n",
              "</tr>\n",
              "<tr>\n",
              "  <th>ct_weapon_m4a4</th>               <td>   -0.0297</td> <td>    0.002</td> <td>  -19.767</td> <td> 0.000</td> <td>   -0.033</td> <td>   -0.027</td>\n",
              "</tr>\n",
              "<tr>\n",
              "  <th>ct_weapon_sg553</th>              <td>   -0.0274</td> <td>    0.003</td> <td>  -10.685</td> <td> 0.000</td> <td>   -0.032</td> <td>   -0.022</td>\n",
              "</tr>\n",
              "<tr>\n",
              "  <th>t_weapon_sg553</th>               <td>    0.0367</td> <td>    0.002</td> <td>   21.596</td> <td> 0.000</td> <td>    0.033</td> <td>    0.040</td>\n",
              "</tr>\n",
              "<tr>\n",
              "  <th>ct_weapon_usps</th>               <td>    0.0060</td> <td>    0.001</td> <td>    5.438</td> <td> 0.000</td> <td>    0.004</td> <td>    0.008</td>\n",
              "</tr>\n",
              "<tr>\n",
              "  <th>ct_grenade_hegrenade</th>         <td>    0.0018</td> <td>    0.002</td> <td>    1.082</td> <td> 0.279</td> <td>   -0.001</td> <td>    0.005</td>\n",
              "</tr>\n",
              "<tr>\n",
              "  <th>ct_grenade_flashbang</th>         <td>   -0.0097</td> <td>    0.002</td> <td>   -6.384</td> <td> 0.000</td> <td>   -0.013</td> <td>   -0.007</td>\n",
              "</tr>\n",
              "<tr>\n",
              "  <th>t_grenade_flashbang</th>          <td>   -0.0417</td> <td>    0.001</td> <td>  -34.189</td> <td> 0.000</td> <td>   -0.044</td> <td>   -0.039</td>\n",
              "</tr>\n",
              "<tr>\n",
              "  <th>ct_grenade_smokegrenade</th>      <td>   -0.0030</td> <td>    0.001</td> <td>   -2.008</td> <td> 0.045</td> <td>   -0.006</td> <td>-7.19e-05</td>\n",
              "</tr>\n",
              "<tr>\n",
              "  <th>ct_grenade_incendiarygrenade</th> <td>    0.0139</td> <td>    0.002</td> <td>    8.583</td> <td> 0.000</td> <td>    0.011</td> <td>    0.017</td>\n",
              "</tr>\n",
              "</table>\n",
              "<table class=\"simpletable\">\n",
              "<tr>\n",
              "  <th>Omnibus:</th>       <td>25502.297</td> <th>  Durbin-Watson:     </th> <td>   0.420</td>\n",
              "</tr>\n",
              "<tr>\n",
              "  <th>Prob(Omnibus):</th>  <td> 0.000</td>   <th>  Jarque-Bera (JB):  </th> <td>4914.285</td>\n",
              "</tr>\n",
              "<tr>\n",
              "  <th>Skew:</th>           <td>-0.002</td>   <th>  Prob(JB):          </th> <td>    0.00</td>\n",
              "</tr>\n",
              "<tr>\n",
              "  <th>Kurtosis:</th>       <td> 2.018</td>   <th>  Cond. No.          </th> <td>2.30e+03</td>\n",
              "</tr>\n",
              "</table><br/><br/>Notes:<br/>[1] R² is computed without centering (uncentered) since the model does not contain a constant.<br/>[2] Standard Errors assume that the covariance matrix of the errors is correctly specified.<br/>[3] The condition number is large, 2.3e+03. This might indicate that there are<br/>strong multicollinearity or other numerical problems."
            ]
          },
          "metadata": {},
          "execution_count": 22
        }
      ]
    },
    {
      "cell_type": "code",
      "source": [
        "y = data['round_winner']\n",
        "x = data.drop('round_winner', axis=1)\n",
        "model = ExtraTreesClassifier()\n",
        "model.fit(x,y)\n",
        "#print(model.feature_importances_) \n",
        "#use inbuilt class feature_importances of tree based classifiers\n",
        "#plot graph of feature importances for better visualization\n",
        "feat_importances = pd.Series(model.feature_importances_, index=x.columns)\n",
        "feat_importances.nlargest(20).plot(kind='barh')\n",
        "plt.show()"
      ],
      "metadata": {
        "colab": {
          "base_uri": "https://localhost:8080/",
          "height": 0
        },
        "id": "tMDRjgXKIcFq",
        "outputId": "958e519d-8726-4d8a-ee3a-ef7e2cd66149"
      },
      "execution_count": 23,
      "outputs": [
        {
          "output_type": "display_data",
          "data": {
            "text/plain": [
              "<Figure size 1152x576 with 1 Axes>"
            ],
            "image/png": "[encoded data removed]"
          },
          "metadata": {
            "image/png": {
              "width": 1037,
              "height": 468
            }
          }
        }
      ]
    },
    {
      "cell_type": "markdown",
      "source": [
        "Feature importance gives you a score for each feature of your data, the higher the score more important or relevant is the feature towards your output variable.\n",
        "\n",
        "Feature importance is an inbuilt class that comes with Tree Based Classifiers, we will be using Extra Tree Classifier for extracting the top 10 features for the dataset."
      ],
      "metadata": {
        "id": "b0vIdCB_IjD1"
      }
    },
    {
      "cell_type": "markdown",
      "source": [
        "By using SelectKbest method we got above variables as predictable variables."
      ],
      "metadata": {
        "id": "mmQfnJ7uIUT_"
      }
    },
    {
      "cell_type": "markdown",
      "source": [
        "## Importing our dataset with H2O."
      ],
      "metadata": {
        "id": "9-gTIXimPS4G"
      }
    },
    {
      "cell_type": "markdown",
      "source": [
        "This code uses the H2O library to convert a Pandas dataframe 'data' into an H2O dataframe 'df', which is used for automatic machine learning (AutoML) tasks. The H2OFrame() function converts the Pandas dataframe into an H2O dataframe format. The df.types function displays the data types of each column in the H2O dataframe, while the df.describe() function provides a summary of the H2O dataframe, including count, mean, standard deviation, minimum, and maximum values for each column. Overall, this code is used for data preparation and exploratory data analysis (EDA) before running AutoML tasks on the H2O dataframe."
      ],
      "metadata": {
        "id": "gV9gJbBXfSDF"
      }
    },
    {
      "cell_type": "code",
      "execution_count": 24,
      "metadata": {
        "colab": {
          "base_uri": "https://localhost:8080/"
        },
        "id": "l8FG07lcQggh",
        "outputId": "612c99bb-1209-4f13-c19d-043e172a02dd"
      },
      "outputs": [
        {
          "output_type": "stream",
          "name": "stdout",
          "text": [
            "Parse progress: |████████████████████████████████████████████████████████████████| (done) 100%\n"
          ]
        }
      ],
      "source": [
        "df = h2o.H2OFrame(\n",
        "    data\n",
        ")  # Converted Pandas Dataframe to H2O dataframe to proceed with AutoML"
      ]
    },
    {
      "cell_type": "code",
      "execution_count": 25,
      "metadata": {
        "colab": {
          "base_uri": "https://localhost:8080/"
        },
        "id": "uiVP0-umT3zb",
        "outputId": "18045225-1423-470f-f357-0029921bca66"
      },
      "outputs": [
        {
          "output_type": "execute_result",
          "data": {
            "text/plain": [
              "{'time_left': 'real',\n",
              " 'ct_score': 'int',\n",
              " 't_score': 'int',\n",
              " 'map': 'int',\n",
              " 'bomb_planted': 'int',\n",
              " 'ct_health': 'int',\n",
              " 't_health': 'int',\n",
              " 'ct_armor': 'int',\n",
              " 't_armor': 'int',\n",
              " 'ct_money': 'int',\n",
              " 't_money': 'int',\n",
              " 'ct_helmets': 'int',\n",
              " 't_helmets': 'int',\n",
              " 'ct_defuse_kits': 'int',\n",
              " 'ct_players_alive': 'int',\n",
              " 't_players_alive': 'int',\n",
              " 'ct_weapon_ak47': 'int',\n",
              " 't_weapon_ak47': 'int',\n",
              " 'ct_weapon_aug': 'int',\n",
              " 't_weapon_aug': 'int',\n",
              " 'ct_weapon_awp': 'int',\n",
              " 't_weapon_awp': 'int',\n",
              " 'ct_weapon_bizon': 'int',\n",
              " 't_weapon_bizon': 'int',\n",
              " 'ct_weapon_cz75auto': 'int',\n",
              " 't_weapon_cz75auto': 'int',\n",
              " 'ct_weapon_elite': 'int',\n",
              " 't_weapon_elite': 'int',\n",
              " 'ct_weapon_famas': 'int',\n",
              " 't_weapon_famas': 'int',\n",
              " 'ct_weapon_g3sg1': 'int',\n",
              " 't_weapon_g3sg1': 'int',\n",
              " 'ct_weapon_galilar': 'int',\n",
              " 't_weapon_galilar': 'int',\n",
              " 'ct_weapon_glock': 'int',\n",
              " 't_weapon_glock': 'int',\n",
              " 'ct_weapon_m249': 'int',\n",
              " 't_weapon_m249': 'int',\n",
              " 'ct_weapon_m4a1s': 'int',\n",
              " 't_weapon_m4a1s': 'int',\n",
              " 'ct_weapon_m4a4': 'int',\n",
              " 't_weapon_m4a4': 'int',\n",
              " 'ct_weapon_mac10': 'int',\n",
              " 't_weapon_mac10': 'int',\n",
              " 'ct_weapon_mag7': 'int',\n",
              " 't_weapon_mag7': 'int',\n",
              " 'ct_weapon_mp5sd': 'int',\n",
              " 't_weapon_mp5sd': 'int',\n",
              " 'ct_weapon_mp7': 'int',\n",
              " 't_weapon_mp7': 'int',\n",
              " 'ct_weapon_mp9': 'int',\n",
              " 't_weapon_mp9': 'int',\n",
              " 'ct_weapon_negev': 'int',\n",
              " 't_weapon_negev': 'int',\n",
              " 'ct_weapon_nova': 'int',\n",
              " 't_weapon_nova': 'int',\n",
              " 'ct_weapon_p90': 'int',\n",
              " 't_weapon_p90': 'int',\n",
              " 'ct_weapon_r8revolver': 'int',\n",
              " 't_weapon_r8revolver': 'int',\n",
              " 'ct_weapon_sawedoff': 'int',\n",
              " 't_weapon_sawedoff': 'int',\n",
              " 'ct_weapon_scar20': 'int',\n",
              " 't_weapon_scar20': 'int',\n",
              " 'ct_weapon_sg553': 'int',\n",
              " 't_weapon_sg553': 'int',\n",
              " 'ct_weapon_ssg08': 'int',\n",
              " 't_weapon_ssg08': 'int',\n",
              " 'ct_weapon_ump45': 'int',\n",
              " 't_weapon_ump45': 'int',\n",
              " 'ct_weapon_xm1014': 'int',\n",
              " 't_weapon_xm1014': 'int',\n",
              " 'ct_weapon_deagle': 'int',\n",
              " 't_weapon_deagle': 'int',\n",
              " 'ct_weapon_fiveseven': 'int',\n",
              " 't_weapon_fiveseven': 'int',\n",
              " 'ct_weapon_usps': 'int',\n",
              " 't_weapon_usps': 'int',\n",
              " 'ct_weapon_p250': 'int',\n",
              " 't_weapon_p250': 'int',\n",
              " 'ct_weapon_p2000': 'int',\n",
              " 't_weapon_p2000': 'int',\n",
              " 'ct_weapon_tec9': 'int',\n",
              " 't_weapon_tec9': 'int',\n",
              " 'ct_grenade_hegrenade': 'int',\n",
              " 't_grenade_hegrenade': 'int',\n",
              " 'ct_grenade_flashbang': 'int',\n",
              " 't_grenade_flashbang': 'int',\n",
              " 'ct_grenade_smokegrenade': 'int',\n",
              " 't_grenade_smokegrenade': 'int',\n",
              " 'ct_grenade_incendiarygrenade': 'int',\n",
              " 't_grenade_incendiarygrenade': 'int',\n",
              " 'ct_grenade_molotovgrenade': 'int',\n",
              " 't_grenade_molotovgrenade': 'int',\n",
              " 'ct_grenade_decoygrenade': 'int',\n",
              " 't_grenade_decoygrenade': 'int',\n",
              " 'round_winner': 'int'}"
            ]
          },
          "metadata": {},
          "execution_count": 25
        }
      ],
      "source": [
        "df.types"
      ]
    },
    {
      "cell_type": "code",
      "execution_count": 26,
      "metadata": {
        "colab": {
          "base_uri": "https://localhost:8080/",
          "height": 0
        },
        "id": "W88EMXWWT7Lz",
        "outputId": "f0e80447-6db6-4d0e-b5aa-9c65de21f674"
      },
      "outputs": [
        {
          "output_type": "display_data",
          "data": {
            "text/plain": [
              "Rows:122410\n",
              "Cols:97\n"
            ],
            "text/html": [
              "<pre style='margin: 1em 0 1em 0;'>Rows:122410\n",
              "Cols:97\n",
              "</pre>"
            ]
          },
          "metadata": {}
        },
        {
          "output_type": "display_data",
          "data": {
            "text/plain": [
              "         time_left          ct_score           t_score             map                 bomb_planted         ct_health           t_health            ct_armor            t_armor             ct_money           t_money            ct_helmets          t_helmets           ct_defuse_kits      ct_players_alive    t_players_alive     ct_weapon_ak47      t_weapon_ak47       ct_weapon_aug        t_weapon_aug          ct_weapon_awp       t_weapon_awp         ct_weapon_bizon    t_weapon_bizon         ct_weapon_cz75auto    t_weapon_cz75auto    ct_weapon_elite       t_weapon_elite         ct_weapon_famas      t_weapon_famas        ct_weapon_g3sg1    t_weapon_g3sg1        ct_weapon_galilar     t_weapon_galilar     ct_weapon_glock       t_weapon_glock      ct_weapon_m249         t_weapon_m249    ct_weapon_m4a1s      t_weapon_m4a1s       ct_weapon_m4a4      t_weapon_m4a4         ct_weapon_mac10       t_weapon_mac10       ct_weapon_mag7        t_weapon_mag7          ct_weapon_mp5sd        t_weapon_mp5sd         ct_weapon_mp7         t_weapon_mp7           ct_weapon_mp9        t_weapon_mp9           ct_weapon_negev    t_weapon_negev         ct_weapon_nova        t_weapon_nova           ct_weapon_p90           t_weapon_p90            ct_weapon_r8revolver    t_weapon_r8revolver    ct_weapon_sawedoff    t_weapon_sawedoff      ct_weapon_scar20       t_weapon_scar20        ct_weapon_sg553     t_weapon_sg553      ct_weapon_ssg08       t_weapon_ssg08       ct_weapon_ump45      t_weapon_ump45       ct_weapon_xm1014       t_weapon_xm1014        ct_weapon_deagle     t_weapon_deagle      ct_weapon_fiveseven    t_weapon_fiveseven    ct_weapon_usps      t_weapon_usps        ct_weapon_p250       t_weapon_p250       ct_weapon_p2000      t_weapon_p2000        ct_weapon_tec9        t_weapon_tec9         ct_grenade_hegrenade    t_grenade_hegrenade    ct_grenade_flashbang    t_grenade_flashbang    ct_grenade_smokegrenade    t_grenade_smokegrenade    ct_grenade_incendiarygrenade    t_grenade_incendiarygrenade    ct_grenade_molotovgrenade    t_grenade_molotovgrenade    ct_grenade_decoygrenade    t_grenade_decoygrenade    round_winner\n",
              "-------  -----------------  -----------------  ------------------  ------------------  -------------------  ------------------  ------------------  ------------------  ------------------  -----------------  -----------------  ------------------  ------------------  ------------------  ------------------  ------------------  ------------------  ------------------  -------------------  --------------------  ------------------  -------------------  -----------------  ---------------------  --------------------  -------------------  --------------------  ---------------------  -------------------  --------------------  -----------------  --------------------  --------------------  -------------------  --------------------  ------------------  ---------------------  ---------------  -------------------  -------------------  ------------------  --------------------  --------------------  -------------------  --------------------  ---------------------  ---------------------  ---------------------  --------------------  ---------------------  -------------------  ---------------------  -----------------  ---------------------  --------------------  ----------------------  ----------------------  ----------------------  ----------------------  ---------------------  --------------------  ---------------------  ---------------------  ---------------------  ------------------  ------------------  --------------------  -------------------  -------------------  -------------------  ---------------------  ---------------------  -------------------  -------------------  ---------------------  --------------------  ------------------  -------------------  -------------------  ------------------  -------------------  --------------------  --------------------  --------------------  ----------------------  ---------------------  ----------------------  ---------------------  -------------------------  ------------------------  ------------------------------  -----------------------------  ---------------------------  --------------------------  -------------------------  ------------------------  ------------------\n",
              "type     real               int                int                 int                 int                  int                 int                 int                 int                 int                int                int                 int                 int                 int                 int                 int                 int                 int                  int                   int                 int                  int                int                    int                   int                  int                   int                    int                  int                   int                int                   int                   int                  int                   int                 int                    int              int                  int                  int                 int                   int                   int                  int                   int                    int                    int                    int                   int                    int                  int                    int                int                    int                   int                     int                     int                     int                     int                    int                   int                    int                    int                    int                 int                 int                   int                  int                  int                  int                    int                    int                  int                  int                    int                   int                 int                  int                  int                 int                  int                   int                   int                   int                     int                    int                     int                    int                        int                       int                             int                            int                          int                         int                        int                       int\n",
              "mins     0.01               0.0                0.0                 0.0                 0.0                  0.0                 0.0                 0.0                 0.0                 0.0                0.0                0.0                 0.0                 0.0                 0.0                 0.0                 0.0                 0.0                 0.0                  0.0                   0.0                 0.0                  0.0                0.0                    0.0                   0.0                  0.0                   0.0                    0.0                  0.0                   0.0                0.0                   0.0                   0.0                  0.0                   0.0                 0.0                    0.0              0.0                  0.0                  0.0                 0.0                   0.0                   0.0                  0.0                   0.0                    0.0                    0.0                    0.0                   0.0                    0.0                  0.0                    0.0                0.0                    0.0                   0.0                     0.0                     0.0                     0.0                     0.0                    0.0                   0.0                    0.0                    0.0                    0.0                 0.0                 0.0                   0.0                  0.0                  0.0                  0.0                    0.0                    0.0                  0.0                  0.0                    0.0                   0.0                 0.0                  0.0                  0.0                 0.0                  0.0                   0.0                   0.0                   0.0                     0.0                    0.0                     0.0                    0.0                        0.0                       0.0                             0.0                            0.0                          0.0                         0.0                        0.0                       0.0\n",
              "mean     97.88692206519077  6.709239441222127  6.7804346050159205  3.5201699207581094  0.11178825259374234  412.1065680908425   402.71450044930964  314.14212074176953  298.44466955314135  9789.023772567605  11241.0366800098   2.0539008250959916  2.773637774691611   1.6137243689241105  4.2737521444326365  4.266187402989948   0.2746017482231844  1.2439261498243608  0.13461318519728785  0.007638264847643166  0.5736949595621278  0.32119107916019923  0.0                8.169267216730659e-05  0.151989216567274     0.1060534270075974   0.004011110203414754  0.0017727309860305531  0.11013806061596275  0.004738174985703782  0.0                0.000792418920022874  0.011044849277019856  0.11030144596029737  0.006919369332570869  3.310195245486477   8.169267216730659e-06  0.0              0.06381831549709989  0.00272853525038804  1.0762356016665315  0.052732619883996405  0.007556572175475861  0.10731149415897394  0.004403235029817825  4.901560330038396e-05  0.0014622988317947881  0.0027530430520382324  0.002034147536965934  0.0019524548647986276  0.14699779429785148  0.0056449636467608855  0.0                8.169267216730659e-06  0.000980312066007679  0.00010620047381749858  0.00016338534433461317  0.00015521607711788251  0.0                     5.718487051711462e-05  0.0                   0.0001388775426844212  0.0007188955150722981  8.169267216730659e-06  0.2391471285025735  0.8249407728126784  0.059504942406666116  0.02043950657626011  0.04642594559268034  0.03646760885548567  0.0075565721754758605  0.0002614165509353811  0.44067478147210193  0.38086757617841666  0.061751490891267066   0.009386488032023528  3.179789232905811   0.12240013070827546  0.23697410342292305  0.2916183318356341  0.1740462380524465   0.004934237398905318  0.008120251613430274  0.028322849440405196  0.8991013806061599      0.4382566783759496     1.8531574217792668      1.8580998284453882     1.5408136590147854         1.627146474961197         1.001968793399231               0.019818642267788587           0.04801078343272608          1.3520954170410924          0.027693815864716927       0.02574953026713503       0.5098112899272935\n",
              "maxs     175.0              32.0               33.0                7.0                 1.0                  500.0               600.0               500.0               500.0               80000.0            80000.0            5.0                 5.0                 5.0                 5.0                 6.0                 4.0                 5.0                 5.0                  3.0                   5.0                 4.0                  0.0                1.0                    5.0                   6.0                  1.0                   1.0                    5.0                  2.0                   0.0                4.0                   2.0                   5.0                  3.0                   9.0                 1.0                    0.0              3.0                  2.0                  5.0                 3.0                   3.0                   5.0                  2.0                   1.0                    1.0                    2.0                    2.0                   2.0                    5.0                  3.0                    0.0                1.0                    1.0                   1.0                     1.0                     1.0                     0.0                     1.0                    0.0                   1.0                    1.0                    1.0                    4.0                 5.0                 4.0                   3.0                  3.0                  3.0                  2.0                    1.0                    5.0                  5.0                  5.0                    2.0                   10.0                5.0                  5.0                  5.0                 3.0                  3.0                   2.0                   4.0                   5.0                     5.0                    7.0                     7.0                    6.0                        9.0                       5.0                             3.0                            3.0                          5.0                         3.0                        2.0                       1.0\n",
              "sigma    54.46523795613669  4.790362330615895  4.823543450557249   1.9290884942106126  0.3151070458151314   132.29329020734656  139.91903291100078  171.02973554650353  174.57654516766544  11215.04228571704  12162.80675933637  1.841470008242685   2.0109145301527023  1.6057803477462835  1.2055003522802377  1.2283250545754818  0.5840924077983709  1.363886661439652   0.46030269441263927  0.09145621761409156   0.6732494753770462  0.4766670560580255   0.0                0.009038067591848475   0.4459096151279756    0.3799930647159557   0.0632064382402073    0.042066647920180306   0.3889796956067341   0.07078035907078818   0.0                0.037148209988984625  0.1121300819259156    0.40593258686097183  0.08693544644317135   1.6257848475355827  0.002858192998509838   0.0              0.26288416250695257  0.05309561735888958  1.2191124800259585  0.24700926487043653   0.09419118728637439   0.4117834449976869   0.06743344157968319   0.007000971445179756   0.03821220279518291    0.05438647733960912    0.045775332180392106  0.044695354430169074   0.4723473720450058   0.0816015847493045     0.0                0.0028581929985098385  0.03129471289062642   0.010304856271285788    0.012781235624744284    0.01245765840366639     0.0                     0.0075618825396384145  0.0                   0.011783861425357239   0.026802697121488504   0.002858192998509838   0.5540731823433622  1.1395445740767718  0.26479019587964636   0.14604448001919138  0.23006614879440637  0.21122129816501098  0.0880962561329668     0.01616633376381618    0.8345158889379842   0.8147296847280704   0.28849779115800966    0.1000867584848506    1.5867881232690384  0.4389282933752453   0.5337872673638135   0.5792580372953292  0.42514240389837116  0.07480745192082403   0.09487898431278699   0.19153820287896886   1.2815687492420307      0.8081486853814164     1.7727909469418244      1.7944727520207453     1.7378039427028211         1.8291473607518798        1.4580837081815505              0.14393323850862888            0.2276688866711345           1.6632459750551971          0.16953076576238782        0.16416243492238317       0.4999057712580037\n",
              "zeros    0                  11683              12161               145                 108726               1                   1166                13270               17722               481                1461               38524               31352               42095               1                   1166                96326               52105               110082               121519                64727               83647                122410             122400                 107329                111886               121919                122193                 111675               121848                122410             122342                121159                112138               121599                8976                122409                 122410           115120               122082               55857               116581                121551                112838               121881                122404                 122231                 122086                 122165                122174                 109175               121782                 122410             122409                 122290                122397                  122390                  122391                  122410                  122403                 122410                122393                 122322                 122409                 99707               68861               115921                119981               117216               118495               121501                 122378                 88034                93372                116116                 121305                8073                111579               98849                93357               103277               121842                121474                119410                68498                   86773                  41433                   41241                  51955                      53579                     69051                           120058                         116893                       59004                       119128                     119372                    60004\n",
              "missing  0                  0                  0                   0                   0                    0                   0                   0                   0                   0                  0                  0                   0                   0                   0                   0                   0                   0                   0                    0                     0                   0                    0                  0                      0                     0                    0                     0                      0                    0                     0                  0                     0                     0                    0                     0                   0                      0                0                    0                    0                   0                     0                     0                    0                     0                      0                      0                      0                     0                      0                    0                      0                  0                      0                     0                       0                       0                       0                       0                      0                     0                      0                      0                      0                   0                   0                     0                    0                    0                    0                      0                      0                    0                    0                      0                     0                   0                    0                    0                   0                    0                     0                     0                     0                       0                      0                       0                      0                          0                         0                               0                              0                            0                           0                          0                         0\n",
              "0        175.0              0.0                0.0                 1.0                 0.0                  500.0               500.0               0.0                 0.0                 4000.0             4000.0             0.0                 0.0                 0.0                 5.0                 5.0                 0.0                 0.0                 0.0                  0.0                   0.0                 0.0                  0.0                0.0                    0.0                   0.0                  0.0                   0.0                    0.0                  0.0                   0.0                0.0                   0.0                   0.0                  0.0                   5.0                 0.0                    0.0              0.0                  0.0                  0.0                 0.0                   0.0                   0.0                  0.0                   0.0                    0.0                    0.0                    0.0                   0.0                    0.0                  0.0                    0.0                0.0                    0.0                   0.0                     0.0                     0.0                     0.0                     0.0                    0.0                   0.0                    0.0                    0.0                    0.0                 0.0                 0.0                   0.0                  0.0                  0.0                  0.0                    0.0                    0.0                  0.0                  0.0                    0.0                   4.0                 0.0                  0.0                  0.0                 1.0                  0.0                   0.0                   0.0                   0.0                     0.0                    0.0                     0.0                    0.0                        0.0                       0.0                             0.0                            0.0                          0.0                         0.0                        0.0                       0.0\n",
              "1        156.03             0.0                0.0                 1.0                 0.0                  500.0               500.0               400.0               300.0               600.0              650.0              0.0                 0.0                 1.0                 5.0                 5.0                 0.0                 0.0                 0.0                  0.0                   0.0                 0.0                  0.0                0.0                    0.0                   0.0                  0.0                   0.0                    0.0                  0.0                   0.0                0.0                   0.0                   0.0                  0.0                   5.0                 0.0                    0.0              0.0                  0.0                  0.0                 0.0                   0.0                   0.0                  0.0                   0.0                    0.0                    0.0                    0.0                   0.0                    0.0                  0.0                    0.0                0.0                    0.0                   0.0                     0.0                     0.0                     0.0                     0.0                    0.0                   0.0                    0.0                    0.0                    0.0                 0.0                 0.0                   0.0                  0.0                  0.0                  0.0                    0.0                    0.0                  0.0                  0.0                    0.0                   4.0                 0.0                  0.0                  0.0                 1.0                  0.0                   0.0                   0.0                   0.0                     0.0                    0.0                     0.0                    0.0                        2.0                       0.0                             0.0                            0.0                          0.0                         0.0                        0.0                       0.0\n",
              "2        96.03              0.0                0.0                 1.0                 0.0                  391.0               400.0               294.0               200.0               750.0              500.0              0.0                 0.0                 1.0                 4.0                 4.0                 0.0                 0.0                 0.0                  0.0                   0.0                 0.0                  0.0                0.0                    0.0                   0.0                  0.0                   0.0                    0.0                  0.0                   0.0                0.0                   0.0                   0.0                  0.0                   4.0                 0.0                    0.0              0.0                  0.0                  0.0                 0.0                   0.0                   0.0                  0.0                   0.0                    0.0                    0.0                    0.0                   0.0                    0.0                  0.0                    0.0                0.0                    0.0                   0.0                     0.0                     0.0                     0.0                     0.0                    0.0                   0.0                    0.0                    0.0                    0.0                 0.0                 0.0                   0.0                  0.0                  0.0                  0.0                    0.0                    0.0                  0.0                  0.0                    0.0                   4.0                 0.0                  0.0                  0.0                 0.0                  0.0                   0.0                   0.0                   0.0                     0.0                    0.0                     0.0                    0.0                        2.0                       0.0                             0.0                            0.0                          0.0                         0.0                        0.0                       0.0\n",
              "3        76.03              0.0                0.0                 1.0                 0.0                  391.0               400.0               294.0               200.0               750.0              500.0              0.0                 0.0                 1.0                 4.0                 4.0                 0.0                 0.0                 0.0                  0.0                   0.0                 0.0                  0.0                0.0                    0.0                   0.0                  0.0                   0.0                    0.0                  0.0                   0.0                0.0                   0.0                   0.0                  0.0                   3.0                 0.0                    0.0              0.0                  0.0                  0.0                 0.0                   0.0                   0.0                  0.0                   0.0                    0.0                    0.0                    0.0                   0.0                    0.0                  0.0                    0.0                0.0                    0.0                   0.0                     0.0                     0.0                     0.0                     0.0                    0.0                   0.0                    0.0                    0.0                    0.0                 0.0                 0.0                   0.0                  0.0                  0.0                  0.0                    0.0                    0.0                  0.0                  0.0                    0.0                   4.0                 0.0                  0.0                  0.0                 0.0                  1.0                   0.0                   0.0                   0.0                     0.0                    0.0                     0.0                    0.0                        0.0                       0.0                             0.0                            0.0                          0.0                         0.0                        0.0                       0.0\n",
              "4        174.97             1.0                0.0                 1.0                 0.0                  500.0               500.0               192.0               0.0                 18350.0            10750.0            0.0                 0.0                 1.0                 5.0                 5.0                 0.0                 0.0                 0.0                  0.0                   0.0                 0.0                  0.0                0.0                    0.0                   0.0                  0.0                   0.0                    0.0                  0.0                   0.0                0.0                   0.0                   0.0                  0.0                   5.0                 0.0                    0.0              0.0                  0.0                  0.0                 0.0                   0.0                   0.0                  0.0                   0.0                    0.0                    0.0                    0.0                   0.0                    0.0                  0.0                    0.0                0.0                    0.0                   0.0                     0.0                     0.0                     0.0                     0.0                    0.0                   0.0                    0.0                    0.0                    0.0                 0.0                 0.0                   0.0                  0.0                  0.0                  0.0                    0.0                    0.0                  0.0                  0.0                    0.0                   4.0                 0.0                  0.0                  0.0                 1.0                  0.0                   0.0                   0.0                   0.0                     0.0                    0.0                     0.0                    0.0                        0.0                       0.0                             0.0                            0.0                          0.0                         0.0                        0.0                       0.0\n",
              "5        114.97             1.0                0.0                 1.0                 0.0                  500.0               500.0               500.0               0.0                 1750.0             10550.0            5.0                 0.0                 1.0                 5.0                 5.0                 0.0                 0.0                 0.0                  0.0                   0.0                 0.0                  0.0                0.0                    0.0                   0.0                  0.0                   0.0                    3.0                  0.0                   0.0                0.0                   0.0                   0.0                  0.0                   5.0                 0.0                    0.0              0.0                  0.0                  0.0                 0.0                   0.0                   0.0                  0.0                   0.0                    0.0                    0.0                    0.0                   0.0                    0.0                  0.0                    0.0                0.0                    0.0                   0.0                     0.0                     0.0                     0.0                     0.0                    0.0                   0.0                    0.0                    0.0                    0.0                 0.0                 1.0                   0.0                  1.0                  0.0                  0.0                    0.0                    0.0                  0.0                  0.0                    0.0                   4.0                 0.0                  0.0                  0.0                 1.0                  0.0                   0.0                   0.0                   3.0                     0.0                    3.0                     0.0                    3.0                        0.0                       1.0                             0.0                            0.0                          0.0                         0.0                        0.0                       0.0\n",
              "6        94.97              1.0                0.0                 1.0                 0.0                  295.0               111.0               296.0               0.0                 1700.0             5000.0             3.0                 0.0                 0.0                 3.0                 2.0                 0.0                 0.0                 0.0                  0.0                   0.0                 0.0                  0.0                0.0                    0.0                   0.0                  0.0                   0.0                    1.0                  1.0                   0.0                0.0                   0.0                   0.0                  0.0                   2.0                 0.0                    0.0              0.0                  0.0                  0.0                 0.0                   0.0                   0.0                  0.0                   0.0                    0.0                    0.0                    0.0                   0.0                    0.0                  0.0                    0.0                0.0                    0.0                   0.0                     0.0                     0.0                     0.0                     0.0                    0.0                   0.0                    0.0                    0.0                    0.0                 0.0                 1.0                   0.0                  1.0                  0.0                  0.0                    0.0                    0.0                  0.0                  0.0                    0.0                   2.0                 0.0                  0.0                  0.0                 1.0                  0.0                   0.0                   0.0                   0.0                     0.0                    2.0                     0.0                    1.0                        0.0                       0.0                             0.0                            0.0                          0.0                         0.0                        0.0                       0.0\n",
              "7        74.97              1.0                0.0                 1.0                 0.0                  295.0               111.0               296.0               0.0                 1700.0             5000.0             3.0                 0.0                 0.0                 3.0                 2.0                 0.0                 0.0                 0.0                  0.0                   0.0                 0.0                  0.0                0.0                    0.0                   0.0                  0.0                   0.0                    1.0                  1.0                   0.0                0.0                   0.0                   0.0                  0.0                   2.0                 0.0                    0.0              0.0                  0.0                  0.0                 0.0                   0.0                   0.0                  0.0                   0.0                    0.0                    0.0                    0.0                   0.0                    0.0                  0.0                    0.0                0.0                    0.0                   0.0                     0.0                     0.0                     0.0                     0.0                    0.0                   0.0                    0.0                    0.0                    0.0                 0.0                 1.0                   0.0                  1.0                  0.0                  0.0                    0.0                    0.0                  0.0                  0.0                    0.0                   2.0                 0.0                  0.0                  0.0                 1.0                  0.0                   0.0                   0.0                   0.0                     0.0                    2.0                     0.0                    1.0                        0.0                       0.0                             0.0                            0.0                          0.0                         0.0                        0.0                       0.0\n",
              "8        54.97              1.0                0.0                 1.0                 0.0                  249.0               89.0                269.0               0.0                 2300.0             2950.0             3.0                 0.0                 0.0                 3.0                 1.0                 0.0                 0.0                 0.0                  0.0                   0.0                 0.0                  0.0                0.0                    0.0                   0.0                  0.0                   0.0                    1.0                  1.0                   0.0                0.0                   0.0                   0.0                  0.0                   1.0                 0.0                    0.0              0.0                  0.0                  0.0                 0.0                   0.0                   0.0                  0.0                   0.0                    0.0                    0.0                    0.0                   0.0                    0.0                  0.0                    0.0                0.0                    0.0                   0.0                     0.0                     0.0                     0.0                     0.0                    0.0                   0.0                    0.0                    0.0                    0.0                 0.0                 1.0                   0.0                  1.0                  0.0                  0.0                    0.0                    0.0                  0.0                  0.0                    0.0                   2.0                 0.0                  0.0                  0.0                 1.0                  0.0                   0.0                   0.0                   0.0                     0.0                    2.0                     0.0                    1.0                        0.0                       0.0                             0.0                            0.0                          0.0                         0.0                        0.0                       0.0\n",
              "9        174.97             2.0                0.0                 1.0                 0.0                  500.0               500.0               196.0               0.0                 19800.0            23450.0            2.0                 0.0                 0.0                 5.0                 5.0                 0.0                 0.0                 0.0                  0.0                   0.0                 0.0                  0.0                0.0                    0.0                   0.0                  0.0                   0.0                    1.0                  0.0                   0.0                0.0                   0.0                   0.0                  0.0                   5.0                 0.0                    0.0              0.0                  0.0                  0.0                 0.0                   0.0                   0.0                  0.0                   0.0                    0.0                    0.0                    0.0                   0.0                    0.0                  0.0                    0.0                0.0                    0.0                   0.0                     0.0                     0.0                     0.0                     0.0                    0.0                   0.0                    0.0                    0.0                    0.0                 0.0                 1.0                   0.0                  0.0                  0.0                  0.0                    0.0                    0.0                  0.0                  0.0                    0.0                   4.0                 0.0                  0.0                  0.0                 1.0                  0.0                   0.0                   0.0                   0.0                     0.0                    1.0                     0.0                    1.0                        0.0                       0.0                             0.0                            0.0                          0.0                         0.0                        0.0                       0.0\n",
              "[122410 rows x 97 columns]\n"
            ],
            "text/html": [
              "<table class='dataframe'>\n",
              "<thead>\n",
              "<tr><th>       </th><th>time_left        </th><th>ct_score         </th><th>t_score           </th><th>map               </th><th>bomb_planted       </th><th>ct_health         </th><th>t_health          </th><th>ct_armor          </th><th>t_armor           </th><th>ct_money         </th><th>t_money          </th><th>ct_helmets        </th><th>t_helmets         </th><th>ct_defuse_kits    </th><th>ct_players_alive  </th><th>t_players_alive   </th><th>ct_weapon_ak47    </th><th>t_weapon_ak47     </th><th>ct_weapon_aug      </th><th>t_weapon_aug        </th><th>ct_weapon_awp     </th><th>t_weapon_awp       </th><th>ct_weapon_bizon  </th><th>t_weapon_bizon       </th><th>ct_weapon_cz75auto  </th><th>t_weapon_cz75auto  </th><th>ct_weapon_elite     </th><th>t_weapon_elite       </th><th>ct_weapon_famas    </th><th>t_weapon_famas      </th><th>ct_weapon_g3sg1  </th><th>t_weapon_g3sg1      </th><th>ct_weapon_galilar   </th><th>t_weapon_galilar   </th><th>ct_weapon_glock     </th><th>t_weapon_glock    </th><th>ct_weapon_m249       </th><th>t_weapon_m249  </th><th>ct_weapon_m4a1s    </th><th>t_weapon_m4a1s     </th><th>ct_weapon_m4a4    </th><th>t_weapon_m4a4       </th><th>ct_weapon_mac10     </th><th>t_weapon_mac10     </th><th>ct_weapon_mag7      </th><th>t_weapon_mag7        </th><th>ct_weapon_mp5sd      </th><th>t_weapon_mp5sd       </th><th>ct_weapon_mp7       </th><th>t_weapon_mp7         </th><th>ct_weapon_mp9      </th><th>t_weapon_mp9         </th><th>ct_weapon_negev  </th><th>t_weapon_negev       </th><th>ct_weapon_nova      </th><th>t_weapon_nova         </th><th>ct_weapon_p90         </th><th>t_weapon_p90          </th><th>ct_weapon_r8revolver  </th><th>t_weapon_r8revolver  </th><th>ct_weapon_sawedoff  </th><th>t_weapon_sawedoff    </th><th>ct_weapon_scar20     </th><th>t_weapon_scar20      </th><th>ct_weapon_sg553   </th><th>t_weapon_sg553    </th><th>ct_weapon_ssg08     </th><th>t_weapon_ssg08     </th><th>ct_weapon_ump45    </th><th>t_weapon_ump45     </th><th>ct_weapon_xm1014     </th><th>t_weapon_xm1014      </th><th>ct_weapon_deagle   </th><th>t_weapon_deagle    </th><th>ct_weapon_fiveseven  </th><th>t_weapon_fiveseven  </th><th>ct_weapon_usps    </th><th>t_weapon_usps      </th><th>ct_weapon_p250     </th><th>t_weapon_p250     </th><th>ct_weapon_p2000    </th><th>t_weapon_p2000      </th><th>ct_weapon_tec9      </th><th>t_weapon_tec9       </th><th>ct_grenade_hegrenade  </th><th>t_grenade_hegrenade  </th><th>ct_grenade_flashbang  </th><th>t_grenade_flashbang  </th><th>ct_grenade_smokegrenade  </th><th>t_grenade_smokegrenade  </th><th>ct_grenade_incendiarygrenade  </th><th>t_grenade_incendiarygrenade  </th><th>ct_grenade_molotovgrenade  </th><th>t_grenade_molotovgrenade  </th><th>ct_grenade_decoygrenade  </th><th>t_grenade_decoygrenade  </th><th>round_winner      </th></tr>\n",
              "</thead>\n",
              "<tbody>\n",
              "<tr><td>type   </td><td>real             </td><td>int              </td><td>int               </td><td>int               </td><td>int                </td><td>int               </td><td>int               </td><td>int               </td><td>int               </td><td>int              </td><td>int              </td><td>int               </td><td>int               </td><td>int               </td><td>int               </td><td>int               </td><td>int               </td><td>int               </td><td>int                </td><td>int                 </td><td>int               </td><td>int                </td><td>int              </td><td>int                  </td><td>int                 </td><td>int                </td><td>int                 </td><td>int                  </td><td>int                </td><td>int                 </td><td>int              </td><td>int                 </td><td>int                 </td><td>int                </td><td>int                 </td><td>int               </td><td>int                  </td><td>int            </td><td>int                </td><td>int                </td><td>int               </td><td>int                 </td><td>int                 </td><td>int                </td><td>int                 </td><td>int                  </td><td>int                  </td><td>int                  </td><td>int                 </td><td>int                  </td><td>int                </td><td>int                  </td><td>int              </td><td>int                  </td><td>int                 </td><td>int                   </td><td>int                   </td><td>int                   </td><td>int                   </td><td>int                  </td><td>int                 </td><td>int                  </td><td>int                  </td><td>int                  </td><td>int               </td><td>int               </td><td>int                 </td><td>int                </td><td>int                </td><td>int                </td><td>int                  </td><td>int                  </td><td>int                </td><td>int                </td><td>int                  </td><td>int                 </td><td>int               </td><td>int                </td><td>int                </td><td>int               </td><td>int                </td><td>int                 </td><td>int                 </td><td>int                 </td><td>int                   </td><td>int                  </td><td>int                   </td><td>int                  </td><td>int                      </td><td>int                     </td><td>int                           </td><td>int                          </td><td>int                        </td><td>int                       </td><td>int                      </td><td>int                     </td><td>int               </td></tr>\n",
              "<tr><td>mins   </td><td>0.01             </td><td>0.0              </td><td>0.0               </td><td>0.0               </td><td>0.0                </td><td>0.0               </td><td>0.0               </td><td>0.0               </td><td>0.0               </td><td>0.0              </td><td>0.0              </td><td>0.0               </td><td>0.0               </td><td>0.0               </td><td>0.0               </td><td>0.0               </td><td>0.0               </td><td>0.0               </td><td>0.0                </td><td>0.0                 </td><td>0.0               </td><td>0.0                </td><td>0.0              </td><td>0.0                  </td><td>0.0                 </td><td>0.0                </td><td>0.0                 </td><td>0.0                  </td><td>0.0                </td><td>0.0                 </td><td>0.0              </td><td>0.0                 </td><td>0.0                 </td><td>0.0                </td><td>0.0                 </td><td>0.0               </td><td>0.0                  </td><td>0.0            </td><td>0.0                </td><td>0.0                </td><td>0.0               </td><td>0.0                 </td><td>0.0                 </td><td>0.0                </td><td>0.0                 </td><td>0.0                  </td><td>0.0                  </td><td>0.0                  </td><td>0.0                 </td><td>0.0                  </td><td>0.0                </td><td>0.0                  </td><td>0.0              </td><td>0.0                  </td><td>0.0                 </td><td>0.0                   </td><td>0.0                   </td><td>0.0                   </td><td>0.0                   </td><td>0.0                  </td><td>0.0                 </td><td>0.0                  </td><td>0.0                  </td><td>0.0                  </td><td>0.0               </td><td>0.0               </td><td>0.0                 </td><td>0.0                </td><td>0.0                </td><td>0.0                </td><td>0.0                  </td><td>0.0                  </td><td>0.0                </td><td>0.0                </td><td>0.0                  </td><td>0.0                 </td><td>0.0               </td><td>0.0                </td><td>0.0                </td><td>0.0               </td><td>0.0                </td><td>0.0                 </td><td>0.0                 </td><td>0.0                 </td><td>0.0                   </td><td>0.0                  </td><td>0.0                   </td><td>0.0                  </td><td>0.0                      </td><td>0.0                     </td><td>0.0                           </td><td>0.0                          </td><td>0.0                        </td><td>0.0                       </td><td>0.0                      </td><td>0.0                     </td><td>0.0               </td></tr>\n",
              "<tr><td>mean   </td><td>97.88692206519077</td><td>6.709239441222127</td><td>6.7804346050159205</td><td>3.5201699207581094</td><td>0.11178825259374234</td><td>412.1065680908425 </td><td>402.71450044930964</td><td>314.14212074176953</td><td>298.44466955314135</td><td>9789.023772567605</td><td>11241.0366800098 </td><td>2.0539008250959916</td><td>2.773637774691611 </td><td>1.6137243689241105</td><td>4.2737521444326365</td><td>4.266187402989948 </td><td>0.2746017482231844</td><td>1.2439261498243608</td><td>0.13461318519728785</td><td>0.007638264847643166</td><td>0.5736949595621278</td><td>0.32119107916019923</td><td>0.0              </td><td>8.169267216730659e-05</td><td>0.151989216567274   </td><td>0.1060534270075974 </td><td>0.004011110203414754</td><td>0.0017727309860305531</td><td>0.11013806061596275</td><td>0.004738174985703782</td><td>0.0              </td><td>0.000792418920022874</td><td>0.011044849277019856</td><td>0.11030144596029737</td><td>0.006919369332570869</td><td>3.310195245486477 </td><td>8.169267216730659e-06</td><td>0.0            </td><td>0.06381831549709989</td><td>0.00272853525038804</td><td>1.0762356016665315</td><td>0.052732619883996405</td><td>0.007556572175475861</td><td>0.10731149415897394</td><td>0.004403235029817825</td><td>4.901560330038396e-05</td><td>0.0014622988317947881</td><td>0.0027530430520382324</td><td>0.002034147536965934</td><td>0.0019524548647986276</td><td>0.14699779429785148</td><td>0.0056449636467608855</td><td>0.0              </td><td>8.169267216730659e-06</td><td>0.000980312066007679</td><td>0.00010620047381749858</td><td>0.00016338534433461317</td><td>0.00015521607711788251</td><td>0.0                   </td><td>5.718487051711462e-05</td><td>0.0                 </td><td>0.0001388775426844212</td><td>0.0007188955150722981</td><td>8.169267216730659e-06</td><td>0.2391471285025735</td><td>0.8249407728126784</td><td>0.059504942406666116</td><td>0.02043950657626011</td><td>0.04642594559268034</td><td>0.03646760885548567</td><td>0.0075565721754758605</td><td>0.0002614165509353811</td><td>0.44067478147210193</td><td>0.38086757617841666</td><td>0.061751490891267066 </td><td>0.009386488032023528</td><td>3.179789232905811 </td><td>0.12240013070827546</td><td>0.23697410342292305</td><td>0.2916183318356341</td><td>0.1740462380524465 </td><td>0.004934237398905318</td><td>0.008120251613430274</td><td>0.028322849440405196</td><td>0.8991013806061599    </td><td>0.4382566783759496   </td><td>1.8531574217792668    </td><td>1.8580998284453882   </td><td>1.5408136590147854       </td><td>1.627146474961197       </td><td>1.001968793399231             </td><td>0.019818642267788587         </td><td>0.04801078343272608        </td><td>1.3520954170410924        </td><td>0.027693815864716927     </td><td>0.02574953026713503     </td><td>0.5098112899272935</td></tr>\n",
              "<tr><td>maxs   </td><td>175.0            </td><td>32.0             </td><td>33.0              </td><td>7.0               </td><td>1.0                </td><td>500.0             </td><td>600.0             </td><td>500.0             </td><td>500.0             </td><td>80000.0          </td><td>80000.0          </td><td>5.0               </td><td>5.0               </td><td>5.0               </td><td>5.0               </td><td>6.0               </td><td>4.0               </td><td>5.0               </td><td>5.0                </td><td>3.0                 </td><td>5.0               </td><td>4.0                </td><td>0.0              </td><td>1.0                  </td><td>5.0                 </td><td>6.0                </td><td>1.0                 </td><td>1.0                  </td><td>5.0                </td><td>2.0                 </td><td>0.0              </td><td>4.0                 </td><td>2.0                 </td><td>5.0                </td><td>3.0                 </td><td>9.0               </td><td>1.0                  </td><td>0.0            </td><td>3.0                </td><td>2.0                </td><td>5.0               </td><td>3.0                 </td><td>3.0                 </td><td>5.0                </td><td>2.0                 </td><td>1.0                  </td><td>1.0                  </td><td>2.0                  </td><td>2.0                 </td><td>2.0                  </td><td>5.0                </td><td>3.0                  </td><td>0.0              </td><td>1.0                  </td><td>1.0                 </td><td>1.0                   </td><td>1.0                   </td><td>1.0                   </td><td>0.0                   </td><td>1.0                  </td><td>0.0                 </td><td>1.0                  </td><td>1.0                  </td><td>1.0                  </td><td>4.0               </td><td>5.0               </td><td>4.0                 </td><td>3.0                </td><td>3.0                </td><td>3.0                </td><td>2.0                  </td><td>1.0                  </td><td>5.0                </td><td>5.0                </td><td>5.0                  </td><td>2.0                 </td><td>10.0              </td><td>5.0                </td><td>5.0                </td><td>5.0               </td><td>3.0                </td><td>3.0                 </td><td>2.0                 </td><td>4.0                 </td><td>5.0                   </td><td>5.0                  </td><td>7.0                   </td><td>7.0                  </td><td>6.0                      </td><td>9.0                     </td><td>5.0                           </td><td>3.0                          </td><td>3.0                        </td><td>5.0                       </td><td>3.0                      </td><td>2.0                     </td><td>1.0               </td></tr>\n",
              "<tr><td>sigma  </td><td>54.46523795613669</td><td>4.790362330615895</td><td>4.823543450557249 </td><td>1.9290884942106126</td><td>0.3151070458151314 </td><td>132.29329020734656</td><td>139.91903291100078</td><td>171.02973554650353</td><td>174.57654516766544</td><td>11215.04228571704</td><td>12162.80675933637</td><td>1.841470008242685 </td><td>2.0109145301527023</td><td>1.6057803477462835</td><td>1.2055003522802377</td><td>1.2283250545754818</td><td>0.5840924077983709</td><td>1.363886661439652 </td><td>0.46030269441263927</td><td>0.09145621761409156 </td><td>0.6732494753770462</td><td>0.4766670560580255 </td><td>0.0              </td><td>0.009038067591848475 </td><td>0.4459096151279756  </td><td>0.3799930647159557 </td><td>0.0632064382402073  </td><td>0.042066647920180306 </td><td>0.3889796956067341 </td><td>0.07078035907078818 </td><td>0.0              </td><td>0.037148209988984625</td><td>0.1121300819259156  </td><td>0.40593258686097183</td><td>0.08693544644317135 </td><td>1.6257848475355827</td><td>0.002858192998509838 </td><td>0.0            </td><td>0.26288416250695257</td><td>0.05309561735888958</td><td>1.2191124800259585</td><td>0.24700926487043653 </td><td>0.09419118728637439 </td><td>0.4117834449976869 </td><td>0.06743344157968319 </td><td>0.007000971445179756 </td><td>0.03821220279518291  </td><td>0.05438647733960912  </td><td>0.045775332180392106</td><td>0.044695354430169074 </td><td>0.4723473720450058 </td><td>0.0816015847493045   </td><td>0.0              </td><td>0.0028581929985098385</td><td>0.03129471289062642 </td><td>0.010304856271285788  </td><td>0.012781235624744284  </td><td>0.01245765840366639   </td><td>0.0                   </td><td>0.0075618825396384145</td><td>0.0                 </td><td>0.011783861425357239 </td><td>0.026802697121488504 </td><td>0.002858192998509838 </td><td>0.5540731823433622</td><td>1.1395445740767718</td><td>0.26479019587964636 </td><td>0.14604448001919138</td><td>0.23006614879440637</td><td>0.21122129816501098</td><td>0.0880962561329668   </td><td>0.01616633376381618  </td><td>0.8345158889379842 </td><td>0.8147296847280704 </td><td>0.28849779115800966  </td><td>0.1000867584848506  </td><td>1.5867881232690384</td><td>0.4389282933752453 </td><td>0.5337872673638135 </td><td>0.5792580372953292</td><td>0.42514240389837116</td><td>0.07480745192082403 </td><td>0.09487898431278699 </td><td>0.19153820287896886 </td><td>1.2815687492420307    </td><td>0.8081486853814164   </td><td>1.7727909469418244    </td><td>1.7944727520207453   </td><td>1.7378039427028211       </td><td>1.8291473607518798      </td><td>1.4580837081815505            </td><td>0.14393323850862888          </td><td>0.2276688866711345         </td><td>1.6632459750551971        </td><td>0.16953076576238782      </td><td>0.16416243492238317     </td><td>0.4999057712580037</td></tr>\n",
              "<tr><td>zeros  </td><td>0                </td><td>11683            </td><td>12161             </td><td>145               </td><td>108726             </td><td>1                 </td><td>1166              </td><td>13270             </td><td>17722             </td><td>481              </td><td>1461             </td><td>38524             </td><td>31352             </td><td>42095             </td><td>1                 </td><td>1166              </td><td>96326             </td><td>52105             </td><td>110082             </td><td>121519              </td><td>64727             </td><td>83647              </td><td>122410           </td><td>122400               </td><td>107329              </td><td>111886             </td><td>121919              </td><td>122193               </td><td>111675             </td><td>121848              </td><td>122410           </td><td>122342              </td><td>121159              </td><td>112138             </td><td>121599              </td><td>8976              </td><td>122409               </td><td>122410         </td><td>115120             </td><td>122082             </td><td>55857             </td><td>116581              </td><td>121551              </td><td>112838             </td><td>121881              </td><td>122404               </td><td>122231               </td><td>122086               </td><td>122165              </td><td>122174               </td><td>109175             </td><td>121782               </td><td>122410           </td><td>122409               </td><td>122290              </td><td>122397                </td><td>122390                </td><td>122391                </td><td>122410                </td><td>122403               </td><td>122410              </td><td>122393               </td><td>122322               </td><td>122409               </td><td>99707             </td><td>68861             </td><td>115921              </td><td>119981             </td><td>117216             </td><td>118495             </td><td>121501               </td><td>122378               </td><td>88034              </td><td>93372              </td><td>116116               </td><td>121305              </td><td>8073              </td><td>111579             </td><td>98849              </td><td>93357             </td><td>103277             </td><td>121842              </td><td>121474              </td><td>119410              </td><td>68498                 </td><td>86773                </td><td>41433                 </td><td>41241                </td><td>51955                    </td><td>53579                   </td><td>69051                         </td><td>120058                       </td><td>116893                     </td><td>59004                     </td><td>119128                   </td><td>119372                  </td><td>60004             </td></tr>\n",
              "<tr><td>missing</td><td>0                </td><td>0                </td><td>0                 </td><td>0                 </td><td>0                  </td><td>0                 </td><td>0                 </td><td>0                 </td><td>0                 </td><td>0                </td><td>0                </td><td>0                 </td><td>0                 </td><td>0                 </td><td>0                 </td><td>0                 </td><td>0                 </td><td>0                 </td><td>0                  </td><td>0                   </td><td>0                 </td><td>0                  </td><td>0                </td><td>0                    </td><td>0                   </td><td>0                  </td><td>0                   </td><td>0                    </td><td>0                  </td><td>0                   </td><td>0                </td><td>0                   </td><td>0                   </td><td>0                  </td><td>0                   </td><td>0                 </td><td>0                    </td><td>0              </td><td>0                  </td><td>0                  </td><td>0                 </td><td>0                   </td><td>0                   </td><td>0                  </td><td>0                   </td><td>0                    </td><td>0                    </td><td>0                    </td><td>0                   </td><td>0                    </td><td>0                  </td><td>0                    </td><td>0                </td><td>0                    </td><td>0                   </td><td>0                     </td><td>0                     </td><td>0                     </td><td>0                     </td><td>0                    </td><td>0                   </td><td>0                    </td><td>0                    </td><td>0                    </td><td>0                 </td><td>0                 </td><td>0                   </td><td>0                  </td><td>0                  </td><td>0                  </td><td>0                    </td><td>0                    </td><td>0                  </td><td>0                  </td><td>0                    </td><td>0                   </td><td>0                 </td><td>0                  </td><td>0                  </td><td>0                 </td><td>0                  </td><td>0                   </td><td>0                   </td><td>0                   </td><td>0                     </td><td>0                    </td><td>0                     </td><td>0                    </td><td>0                        </td><td>0                       </td><td>0                             </td><td>0                            </td><td>0                          </td><td>0                         </td><td>0                        </td><td>0                       </td><td>0                 </td></tr>\n",
              "<tr><td>0      </td><td>175.0            </td><td>0.0              </td><td>0.0               </td><td>1.0               </td><td>0.0                </td><td>500.0             </td><td>500.0             </td><td>0.0               </td><td>0.0               </td><td>4000.0           </td><td>4000.0           </td><td>0.0               </td><td>0.0               </td><td>0.0               </td><td>5.0               </td><td>5.0               </td><td>0.0               </td><td>0.0               </td><td>0.0                </td><td>0.0                 </td><td>0.0               </td><td>0.0                </td><td>0.0              </td><td>0.0                  </td><td>0.0                 </td><td>0.0                </td><td>0.0                 </td><td>0.0                  </td><td>0.0                </td><td>0.0                 </td><td>0.0              </td><td>0.0                 </td><td>0.0                 </td><td>0.0                </td><td>0.0                 </td><td>5.0               </td><td>0.0                  </td><td>0.0            </td><td>0.0                </td><td>0.0                </td><td>0.0               </td><td>0.0                 </td><td>0.0                 </td><td>0.0                </td><td>0.0                 </td><td>0.0                  </td><td>0.0                  </td><td>0.0                  </td><td>0.0                 </td><td>0.0                  </td><td>0.0                </td><td>0.0                  </td><td>0.0              </td><td>0.0                  </td><td>0.0                 </td><td>0.0                   </td><td>0.0                   </td><td>0.0                   </td><td>0.0                   </td><td>0.0                  </td><td>0.0                 </td><td>0.0                  </td><td>0.0                  </td><td>0.0                  </td><td>0.0               </td><td>0.0               </td><td>0.0                 </td><td>0.0                </td><td>0.0                </td><td>0.0                </td><td>0.0                  </td><td>0.0                  </td><td>0.0                </td><td>0.0                </td><td>0.0                  </td><td>0.0                 </td><td>4.0               </td><td>0.0                </td><td>0.0                </td><td>0.0               </td><td>1.0                </td><td>0.0                 </td><td>0.0                 </td><td>0.0                 </td><td>0.0                   </td><td>0.0                  </td><td>0.0                   </td><td>0.0                  </td><td>0.0                      </td><td>0.0                     </td><td>0.0                           </td><td>0.0                          </td><td>0.0                        </td><td>0.0                       </td><td>0.0                      </td><td>0.0                     </td><td>0.0               </td></tr>\n",
              "<tr><td>1      </td><td>156.03           </td><td>0.0              </td><td>0.0               </td><td>1.0               </td><td>0.0                </td><td>500.0             </td><td>500.0             </td><td>400.0             </td><td>300.0             </td><td>600.0            </td><td>650.0            </td><td>0.0               </td><td>0.0               </td><td>1.0               </td><td>5.0               </td><td>5.0               </td><td>0.0               </td><td>0.0               </td><td>0.0                </td><td>0.0                 </td><td>0.0               </td><td>0.0                </td><td>0.0              </td><td>0.0                  </td><td>0.0                 </td><td>0.0                </td><td>0.0                 </td><td>0.0                  </td><td>0.0                </td><td>0.0                 </td><td>0.0              </td><td>0.0                 </td><td>0.0                 </td><td>0.0                </td><td>0.0                 </td><td>5.0               </td><td>0.0                  </td><td>0.0            </td><td>0.0                </td><td>0.0                </td><td>0.0               </td><td>0.0                 </td><td>0.0                 </td><td>0.0                </td><td>0.0                 </td><td>0.0                  </td><td>0.0                  </td><td>0.0                  </td><td>0.0                 </td><td>0.0                  </td><td>0.0                </td><td>0.0                  </td><td>0.0              </td><td>0.0                  </td><td>0.0                 </td><td>0.0                   </td><td>0.0                   </td><td>0.0                   </td><td>0.0                   </td><td>0.0                  </td><td>0.0                 </td><td>0.0                  </td><td>0.0                  </td><td>0.0                  </td><td>0.0               </td><td>0.0               </td><td>0.0                 </td><td>0.0                </td><td>0.0                </td><td>0.0                </td><td>0.0                  </td><td>0.0                  </td><td>0.0                </td><td>0.0                </td><td>0.0                  </td><td>0.0                 </td><td>4.0               </td><td>0.0                </td><td>0.0                </td><td>0.0               </td><td>1.0                </td><td>0.0                 </td><td>0.0                 </td><td>0.0                 </td><td>0.0                   </td><td>0.0                  </td><td>0.0                   </td><td>0.0                  </td><td>0.0                      </td><td>2.0                     </td><td>0.0                           </td><td>0.0                          </td><td>0.0                        </td><td>0.0                       </td><td>0.0                      </td><td>0.0                     </td><td>0.0               </td></tr>\n",
              "<tr><td>2      </td><td>96.03            </td><td>0.0              </td><td>0.0               </td><td>1.0               </td><td>0.0                </td><td>391.0             </td><td>400.0             </td><td>294.0             </td><td>200.0             </td><td>750.0            </td><td>500.0            </td><td>0.0               </td><td>0.0               </td><td>1.0               </td><td>4.0               </td><td>4.0               </td><td>0.0               </td><td>0.0               </td><td>0.0                </td><td>0.0                 </td><td>0.0               </td><td>0.0                </td><td>0.0              </td><td>0.0                  </td><td>0.0                 </td><td>0.0                </td><td>0.0                 </td><td>0.0                  </td><td>0.0                </td><td>0.0                 </td><td>0.0              </td><td>0.0                 </td><td>0.0                 </td><td>0.0                </td><td>0.0                 </td><td>4.0               </td><td>0.0                  </td><td>0.0            </td><td>0.0                </td><td>0.0                </td><td>0.0               </td><td>0.0                 </td><td>0.0                 </td><td>0.0                </td><td>0.0                 </td><td>0.0                  </td><td>0.0                  </td><td>0.0                  </td><td>0.0                 </td><td>0.0                  </td><td>0.0                </td><td>0.0                  </td><td>0.0              </td><td>0.0                  </td><td>0.0                 </td><td>0.0                   </td><td>0.0                   </td><td>0.0                   </td><td>0.0                   </td><td>0.0                  </td><td>0.0                 </td><td>0.0                  </td><td>0.0                  </td><td>0.0                  </td><td>0.0               </td><td>0.0               </td><td>0.0                 </td><td>0.0                </td><td>0.0                </td><td>0.0                </td><td>0.0                  </td><td>0.0                  </td><td>0.0                </td><td>0.0                </td><td>0.0                  </td><td>0.0                 </td><td>4.0               </td><td>0.0                </td><td>0.0                </td><td>0.0               </td><td>0.0                </td><td>0.0                 </td><td>0.0                 </td><td>0.0                 </td><td>0.0                   </td><td>0.0                  </td><td>0.0                   </td><td>0.0                  </td><td>0.0                      </td><td>2.0                     </td><td>0.0                           </td><td>0.0                          </td><td>0.0                        </td><td>0.0                       </td><td>0.0                      </td><td>0.0                     </td><td>0.0               </td></tr>\n",
              "<tr><td>3      </td><td>76.03            </td><td>0.0              </td><td>0.0               </td><td>1.0               </td><td>0.0                </td><td>391.0             </td><td>400.0             </td><td>294.0             </td><td>200.0             </td><td>750.0            </td><td>500.0            </td><td>0.0               </td><td>0.0               </td><td>1.0               </td><td>4.0               </td><td>4.0               </td><td>0.0               </td><td>0.0               </td><td>0.0                </td><td>0.0                 </td><td>0.0               </td><td>0.0                </td><td>0.0              </td><td>0.0                  </td><td>0.0                 </td><td>0.0                </td><td>0.0                 </td><td>0.0                  </td><td>0.0                </td><td>0.0                 </td><td>0.0              </td><td>0.0                 </td><td>0.0                 </td><td>0.0                </td><td>0.0                 </td><td>3.0               </td><td>0.0                  </td><td>0.0            </td><td>0.0                </td><td>0.0                </td><td>0.0               </td><td>0.0                 </td><td>0.0                 </td><td>0.0                </td><td>0.0                 </td><td>0.0                  </td><td>0.0                  </td><td>0.0                  </td><td>0.0                 </td><td>0.0                  </td><td>0.0                </td><td>0.0                  </td><td>0.0              </td><td>0.0                  </td><td>0.0                 </td><td>0.0                   </td><td>0.0                   </td><td>0.0                   </td><td>0.0                   </td><td>0.0                  </td><td>0.0                 </td><td>0.0                  </td><td>0.0                  </td><td>0.0                  </td><td>0.0               </td><td>0.0               </td><td>0.0                 </td><td>0.0                </td><td>0.0                </td><td>0.0                </td><td>0.0                  </td><td>0.0                  </td><td>0.0                </td><td>0.0                </td><td>0.0                  </td><td>0.0                 </td><td>4.0               </td><td>0.0                </td><td>0.0                </td><td>0.0               </td><td>0.0                </td><td>1.0                 </td><td>0.0                 </td><td>0.0                 </td><td>0.0                   </td><td>0.0                  </td><td>0.0                   </td><td>0.0                  </td><td>0.0                      </td><td>0.0                     </td><td>0.0                           </td><td>0.0                          </td><td>0.0                        </td><td>0.0                       </td><td>0.0                      </td><td>0.0                     </td><td>0.0               </td></tr>\n",
              "<tr><td>4      </td><td>174.97           </td><td>1.0              </td><td>0.0               </td><td>1.0               </td><td>0.0                </td><td>500.0             </td><td>500.0             </td><td>192.0             </td><td>0.0               </td><td>18350.0          </td><td>10750.0          </td><td>0.0               </td><td>0.0               </td><td>1.0               </td><td>5.0               </td><td>5.0               </td><td>0.0               </td><td>0.0               </td><td>0.0                </td><td>0.0                 </td><td>0.0               </td><td>0.0                </td><td>0.0              </td><td>0.0                  </td><td>0.0                 </td><td>0.0                </td><td>0.0                 </td><td>0.0                  </td><td>0.0                </td><td>0.0                 </td><td>0.0              </td><td>0.0                 </td><td>0.0                 </td><td>0.0                </td><td>0.0                 </td><td>5.0               </td><td>0.0                  </td><td>0.0            </td><td>0.0                </td><td>0.0                </td><td>0.0               </td><td>0.0                 </td><td>0.0                 </td><td>0.0                </td><td>0.0                 </td><td>0.0                  </td><td>0.0                  </td><td>0.0                  </td><td>0.0                 </td><td>0.0                  </td><td>0.0                </td><td>0.0                  </td><td>0.0              </td><td>0.0                  </td><td>0.0                 </td><td>0.0                   </td><td>0.0                   </td><td>0.0                   </td><td>0.0                   </td><td>0.0                  </td><td>0.0                 </td><td>0.0                  </td><td>0.0                  </td><td>0.0                  </td><td>0.0               </td><td>0.0               </td><td>0.0                 </td><td>0.0                </td><td>0.0                </td><td>0.0                </td><td>0.0                  </td><td>0.0                  </td><td>0.0                </td><td>0.0                </td><td>0.0                  </td><td>0.0                 </td><td>4.0               </td><td>0.0                </td><td>0.0                </td><td>0.0               </td><td>1.0                </td><td>0.0                 </td><td>0.0                 </td><td>0.0                 </td><td>0.0                   </td><td>0.0                  </td><td>0.0                   </td><td>0.0                  </td><td>0.0                      </td><td>0.0                     </td><td>0.0                           </td><td>0.0                          </td><td>0.0                        </td><td>0.0                       </td><td>0.0                      </td><td>0.0                     </td><td>0.0               </td></tr>\n",
              "<tr><td>5      </td><td>114.97           </td><td>1.0              </td><td>0.0               </td><td>1.0               </td><td>0.0                </td><td>500.0             </td><td>500.0             </td><td>500.0             </td><td>0.0               </td><td>1750.0           </td><td>10550.0          </td><td>5.0               </td><td>0.0               </td><td>1.0               </td><td>5.0               </td><td>5.0               </td><td>0.0               </td><td>0.0               </td><td>0.0                </td><td>0.0                 </td><td>0.0               </td><td>0.0                </td><td>0.0              </td><td>0.0                  </td><td>0.0                 </td><td>0.0                </td><td>0.0                 </td><td>0.0                  </td><td>3.0                </td><td>0.0                 </td><td>0.0              </td><td>0.0                 </td><td>0.0                 </td><td>0.0                </td><td>0.0                 </td><td>5.0               </td><td>0.0                  </td><td>0.0            </td><td>0.0                </td><td>0.0                </td><td>0.0               </td><td>0.0                 </td><td>0.0                 </td><td>0.0                </td><td>0.0                 </td><td>0.0                  </td><td>0.0                  </td><td>0.0                  </td><td>0.0                 </td><td>0.0                  </td><td>0.0                </td><td>0.0                  </td><td>0.0              </td><td>0.0                  </td><td>0.0                 </td><td>0.0                   </td><td>0.0                   </td><td>0.0                   </td><td>0.0                   </td><td>0.0                  </td><td>0.0                 </td><td>0.0                  </td><td>0.0                  </td><td>0.0                  </td><td>0.0               </td><td>0.0               </td><td>1.0                 </td><td>0.0                </td><td>1.0                </td><td>0.0                </td><td>0.0                  </td><td>0.0                  </td><td>0.0                </td><td>0.0                </td><td>0.0                  </td><td>0.0                 </td><td>4.0               </td><td>0.0                </td><td>0.0                </td><td>0.0               </td><td>1.0                </td><td>0.0                 </td><td>0.0                 </td><td>0.0                 </td><td>3.0                   </td><td>0.0                  </td><td>3.0                   </td><td>0.0                  </td><td>3.0                      </td><td>0.0                     </td><td>1.0                           </td><td>0.0                          </td><td>0.0                        </td><td>0.0                       </td><td>0.0                      </td><td>0.0                     </td><td>0.0               </td></tr>\n",
              "<tr><td>6      </td><td>94.97            </td><td>1.0              </td><td>0.0               </td><td>1.0               </td><td>0.0                </td><td>295.0             </td><td>111.0             </td><td>296.0             </td><td>0.0               </td><td>1700.0           </td><td>5000.0           </td><td>3.0               </td><td>0.0               </td><td>0.0               </td><td>3.0               </td><td>2.0               </td><td>0.0               </td><td>0.0               </td><td>0.0                </td><td>0.0                 </td><td>0.0               </td><td>0.0                </td><td>0.0              </td><td>0.0                  </td><td>0.0                 </td><td>0.0                </td><td>0.0                 </td><td>0.0                  </td><td>1.0                </td><td>1.0                 </td><td>0.0              </td><td>0.0                 </td><td>0.0                 </td><td>0.0                </td><td>0.0                 </td><td>2.0               </td><td>0.0                  </td><td>0.0            </td><td>0.0                </td><td>0.0                </td><td>0.0               </td><td>0.0                 </td><td>0.0                 </td><td>0.0                </td><td>0.0                 </td><td>0.0                  </td><td>0.0                  </td><td>0.0                  </td><td>0.0                 </td><td>0.0                  </td><td>0.0                </td><td>0.0                  </td><td>0.0              </td><td>0.0                  </td><td>0.0                 </td><td>0.0                   </td><td>0.0                   </td><td>0.0                   </td><td>0.0                   </td><td>0.0                  </td><td>0.0                 </td><td>0.0                  </td><td>0.0                  </td><td>0.0                  </td><td>0.0               </td><td>0.0               </td><td>1.0                 </td><td>0.0                </td><td>1.0                </td><td>0.0                </td><td>0.0                  </td><td>0.0                  </td><td>0.0                </td><td>0.0                </td><td>0.0                  </td><td>0.0                 </td><td>2.0               </td><td>0.0                </td><td>0.0                </td><td>0.0               </td><td>1.0                </td><td>0.0                 </td><td>0.0                 </td><td>0.0                 </td><td>0.0                   </td><td>0.0                  </td><td>2.0                   </td><td>0.0                  </td><td>1.0                      </td><td>0.0                     </td><td>0.0                           </td><td>0.0                          </td><td>0.0                        </td><td>0.0                       </td><td>0.0                      </td><td>0.0                     </td><td>0.0               </td></tr>\n",
              "<tr><td>7      </td><td>74.97            </td><td>1.0              </td><td>0.0               </td><td>1.0               </td><td>0.0                </td><td>295.0             </td><td>111.0             </td><td>296.0             </td><td>0.0               </td><td>1700.0           </td><td>5000.0           </td><td>3.0               </td><td>0.0               </td><td>0.0               </td><td>3.0               </td><td>2.0               </td><td>0.0               </td><td>0.0               </td><td>0.0                </td><td>0.0                 </td><td>0.0               </td><td>0.0                </td><td>0.0              </td><td>0.0                  </td><td>0.0                 </td><td>0.0                </td><td>0.0                 </td><td>0.0                  </td><td>1.0                </td><td>1.0                 </td><td>0.0              </td><td>0.0                 </td><td>0.0                 </td><td>0.0                </td><td>0.0                 </td><td>2.0               </td><td>0.0                  </td><td>0.0            </td><td>0.0                </td><td>0.0                </td><td>0.0               </td><td>0.0                 </td><td>0.0                 </td><td>0.0                </td><td>0.0                 </td><td>0.0                  </td><td>0.0                  </td><td>0.0                  </td><td>0.0                 </td><td>0.0                  </td><td>0.0                </td><td>0.0                  </td><td>0.0              </td><td>0.0                  </td><td>0.0                 </td><td>0.0                   </td><td>0.0                   </td><td>0.0                   </td><td>0.0                   </td><td>0.0                  </td><td>0.0                 </td><td>0.0                  </td><td>0.0                  </td><td>0.0                  </td><td>0.0               </td><td>0.0               </td><td>1.0                 </td><td>0.0                </td><td>1.0                </td><td>0.0                </td><td>0.0                  </td><td>0.0                  </td><td>0.0                </td><td>0.0                </td><td>0.0                  </td><td>0.0                 </td><td>2.0               </td><td>0.0                </td><td>0.0                </td><td>0.0               </td><td>1.0                </td><td>0.0                 </td><td>0.0                 </td><td>0.0                 </td><td>0.0                   </td><td>0.0                  </td><td>2.0                   </td><td>0.0                  </td><td>1.0                      </td><td>0.0                     </td><td>0.0                           </td><td>0.0                          </td><td>0.0                        </td><td>0.0                       </td><td>0.0                      </td><td>0.0                     </td><td>0.0               </td></tr>\n",
              "<tr><td>8      </td><td>54.97            </td><td>1.0              </td><td>0.0               </td><td>1.0               </td><td>0.0                </td><td>249.0             </td><td>89.0              </td><td>269.0             </td><td>0.0               </td><td>2300.0           </td><td>2950.0           </td><td>3.0               </td><td>0.0               </td><td>0.0               </td><td>3.0               </td><td>1.0               </td><td>0.0               </td><td>0.0               </td><td>0.0                </td><td>0.0                 </td><td>0.0               </td><td>0.0                </td><td>0.0              </td><td>0.0                  </td><td>0.0                 </td><td>0.0                </td><td>0.0                 </td><td>0.0                  </td><td>1.0                </td><td>1.0                 </td><td>0.0              </td><td>0.0                 </td><td>0.0                 </td><td>0.0                </td><td>0.0                 </td><td>1.0               </td><td>0.0                  </td><td>0.0            </td><td>0.0                </td><td>0.0                </td><td>0.0               </td><td>0.0                 </td><td>0.0                 </td><td>0.0                </td><td>0.0                 </td><td>0.0                  </td><td>0.0                  </td><td>0.0                  </td><td>0.0                 </td><td>0.0                  </td><td>0.0                </td><td>0.0                  </td><td>0.0              </td><td>0.0                  </td><td>0.0                 </td><td>0.0                   </td><td>0.0                   </td><td>0.0                   </td><td>0.0                   </td><td>0.0                  </td><td>0.0                 </td><td>0.0                  </td><td>0.0                  </td><td>0.0                  </td><td>0.0               </td><td>0.0               </td><td>1.0                 </td><td>0.0                </td><td>1.0                </td><td>0.0                </td><td>0.0                  </td><td>0.0                  </td><td>0.0                </td><td>0.0                </td><td>0.0                  </td><td>0.0                 </td><td>2.0               </td><td>0.0                </td><td>0.0                </td><td>0.0               </td><td>1.0                </td><td>0.0                 </td><td>0.0                 </td><td>0.0                 </td><td>0.0                   </td><td>0.0                  </td><td>2.0                   </td><td>0.0                  </td><td>1.0                      </td><td>0.0                     </td><td>0.0                           </td><td>0.0                          </td><td>0.0                        </td><td>0.0                       </td><td>0.0                      </td><td>0.0                     </td><td>0.0               </td></tr>\n",
              "<tr><td>9      </td><td>174.97           </td><td>2.0              </td><td>0.0               </td><td>1.0               </td><td>0.0                </td><td>500.0             </td><td>500.0             </td><td>196.0             </td><td>0.0               </td><td>19800.0          </td><td>23450.0          </td><td>2.0               </td><td>0.0               </td><td>0.0               </td><td>5.0               </td><td>5.0               </td><td>0.0               </td><td>0.0               </td><td>0.0                </td><td>0.0                 </td><td>0.0               </td><td>0.0                </td><td>0.0              </td><td>0.0                  </td><td>0.0                 </td><td>0.0                </td><td>0.0                 </td><td>0.0                  </td><td>1.0                </td><td>0.0                 </td><td>0.0              </td><td>0.0                 </td><td>0.0                 </td><td>0.0                </td><td>0.0                 </td><td>5.0               </td><td>0.0                  </td><td>0.0            </td><td>0.0                </td><td>0.0                </td><td>0.0               </td><td>0.0                 </td><td>0.0                 </td><td>0.0                </td><td>0.0                 </td><td>0.0                  </td><td>0.0                  </td><td>0.0                  </td><td>0.0                 </td><td>0.0                  </td><td>0.0                </td><td>0.0                  </td><td>0.0              </td><td>0.0                  </td><td>0.0                 </td><td>0.0                   </td><td>0.0                   </td><td>0.0                   </td><td>0.0                   </td><td>0.0                  </td><td>0.0                 </td><td>0.0                  </td><td>0.0                  </td><td>0.0                  </td><td>0.0               </td><td>0.0               </td><td>1.0                 </td><td>0.0                </td><td>0.0                </td><td>0.0                </td><td>0.0                  </td><td>0.0                  </td><td>0.0                </td><td>0.0                </td><td>0.0                  </td><td>0.0                 </td><td>4.0               </td><td>0.0                </td><td>0.0                </td><td>0.0               </td><td>1.0                </td><td>0.0                 </td><td>0.0                 </td><td>0.0                 </td><td>0.0                   </td><td>0.0                  </td><td>1.0                   </td><td>0.0                  </td><td>1.0                      </td><td>0.0                     </td><td>0.0                           </td><td>0.0                          </td><td>0.0                        </td><td>0.0                       </td><td>0.0                      </td><td>0.0                     </td><td>0.0               </td></tr>\n",
              "</tbody>\n",
              "</table><pre style='font-size: smaller; margin-bottom: 1em;'>[122410 rows x 97 columns]</pre>"
            ]
          },
          "metadata": {}
        }
      ],
      "source": [
        "df.describe()"
      ]
    },
    {
      "cell_type": "markdown",
      "source": [
        "## Splitting our dataset"
      ],
      "metadata": {
        "id": "PI4OCZbSPWrU"
      }
    },
    {
      "cell_type": "markdown",
      "source": [
        "The below code splits an H2O dataframe 'df' into three datasets, 'df_train', 'df_test', and 'df_valid', with a ratio of 0.7, 0.15, and 0.15, respectively. These three datasets will be used for training, testing, and validation purposes, respectively. The split_frame() function from the H2O library is used to split the data. The df_train dataset contains 70% of the data from the original H2O dataframe 'df'."
      ],
      "metadata": {
        "id": "zGXO5o4Mfw91"
      }
    },
    {
      "cell_type": "code",
      "execution_count": 27,
      "metadata": {
        "id": "0DLclxaXUQ_T"
      },
      "outputs": [],
      "source": [
        "#Splitting our dataset into 3 datasets, one for training, other for testing and last one for validation purposes. (0.7,0.15,0.15 split)\n",
        "df_train,df_test,df_valid = df.split_frame(ratios=[.7, .15])"
      ]
    },
    {
      "cell_type": "code",
      "execution_count": 28,
      "metadata": {
        "colab": {
          "base_uri": "https://localhost:8080/",
          "height": 0
        },
        "id": "E2ikBmGaUbZS",
        "outputId": "21733964-402e-4dfc-bada-599e928dfbce"
      },
      "outputs": [
        {
          "output_type": "execute_result",
          "data": {
            "text/plain": [
              "  time_left    ct_score    t_score    map    bomb_planted    ct_health    t_health    ct_armor    t_armor    ct_money    t_money    ct_helmets    t_helmets    ct_defuse_kits    ct_players_alive    t_players_alive    ct_weapon_ak47    t_weapon_ak47    ct_weapon_aug    t_weapon_aug    ct_weapon_awp    t_weapon_awp    ct_weapon_bizon    t_weapon_bizon    ct_weapon_cz75auto    t_weapon_cz75auto    ct_weapon_elite    t_weapon_elite    ct_weapon_famas    t_weapon_famas    ct_weapon_g3sg1    t_weapon_g3sg1    ct_weapon_galilar    t_weapon_galilar    ct_weapon_glock    t_weapon_glock    ct_weapon_m249    t_weapon_m249    ct_weapon_m4a1s    t_weapon_m4a1s    ct_weapon_m4a4    t_weapon_m4a4    ct_weapon_mac10    t_weapon_mac10    ct_weapon_mag7    t_weapon_mag7    ct_weapon_mp5sd    t_weapon_mp5sd    ct_weapon_mp7    t_weapon_mp7    ct_weapon_mp9    t_weapon_mp9    ct_weapon_negev    t_weapon_negev    ct_weapon_nova    t_weapon_nova    ct_weapon_p90    t_weapon_p90    ct_weapon_r8revolver    t_weapon_r8revolver    ct_weapon_sawedoff    t_weapon_sawedoff    ct_weapon_scar20    t_weapon_scar20    ct_weapon_sg553    t_weapon_sg553    ct_weapon_ssg08    t_weapon_ssg08    ct_weapon_ump45    t_weapon_ump45    ct_weapon_xm1014    t_weapon_xm1014    ct_weapon_deagle    t_weapon_deagle    ct_weapon_fiveseven    t_weapon_fiveseven    ct_weapon_usps    t_weapon_usps    ct_weapon_p250    t_weapon_p250    ct_weapon_p2000    t_weapon_p2000    ct_weapon_tec9    t_weapon_tec9    ct_grenade_hegrenade    t_grenade_hegrenade    ct_grenade_flashbang    t_grenade_flashbang    ct_grenade_smokegrenade    t_grenade_smokegrenade    ct_grenade_incendiarygrenade    t_grenade_incendiarygrenade    ct_grenade_molotovgrenade    t_grenade_molotovgrenade    ct_grenade_decoygrenade    t_grenade_decoygrenade    round_winner\n",
              "-----------  ----------  ---------  -----  --------------  -----------  ----------  ----------  ---------  ----------  ---------  ------------  -----------  ----------------  ------------------  -----------------  ----------------  ---------------  ---------------  --------------  ---------------  --------------  -----------------  ----------------  --------------------  -------------------  -----------------  ----------------  -----------------  ----------------  -----------------  ----------------  -------------------  ------------------  -----------------  ----------------  ----------------  ---------------  -----------------  ----------------  ----------------  ---------------  -----------------  ----------------  ----------------  ---------------  -----------------  ----------------  ---------------  --------------  ---------------  --------------  -----------------  ----------------  ----------------  ---------------  ---------------  --------------  ----------------------  ---------------------  --------------------  -------------------  ------------------  -----------------  -----------------  ----------------  -----------------  ----------------  -----------------  ----------------  ------------------  -----------------  ------------------  -----------------  ---------------------  --------------------  ----------------  ---------------  ----------------  ---------------  -----------------  ----------------  ----------------  ---------------  ----------------------  ---------------------  ----------------------  ---------------------  -------------------------  ------------------------  ------------------------------  -----------------------------  ---------------------------  --------------------------  -------------------------  ------------------------  --------------\n",
              "     175              0          0      1               0          500         500           0          0        4000       4000             0            0                 0                   5                  5                 0                0                0               0                0               0                  0                 0                     0                    0                  0                 0                  0                 0                  0                 0                    0                   0                  0                 5                 0                0                  0                 0                 0                0                  0                 0                 0                0                  0                 0                0               0                0               0                  0                 0                 0                0                0               0                       0                      0                     0                    0                   0                  0                  0                 0                  0                 0                  0                 0                   0                  0                   0                  0                      0                     0                 4                0                 0                0                  1                 0                 0                0                       0                      0                       0                      0                          0                         0                               0                              0                            0                           0                          0                         0               0\n",
              "     156.03           0          0      1               0          500         500         400        300         600        650             0            0                 1                   5                  5                 0                0                0               0                0               0                  0                 0                     0                    0                  0                 0                  0                 0                  0                 0                    0                   0                  0                 5                 0                0                  0                 0                 0                0                  0                 0                 0                0                  0                 0                0               0                0               0                  0                 0                 0                0                0               0                       0                      0                     0                    0                   0                  0                  0                 0                  0                 0                  0                 0                   0                  0                   0                  0                      0                     0                 4                0                 0                0                  1                 0                 0                0                       0                      0                       0                      0                          0                         2                               0                              0                            0                           0                          0                         0               0\n",
              "      96.03           0          0      1               0          391         400         294        200         750        500             0            0                 1                   4                  4                 0                0                0               0                0               0                  0                 0                     0                    0                  0                 0                  0                 0                  0                 0                    0                   0                  0                 4                 0                0                  0                 0                 0                0                  0                 0                 0                0                  0                 0                0               0                0               0                  0                 0                 0                0                0               0                       0                      0                     0                    0                   0                  0                  0                 0                  0                 0                  0                 0                   0                  0                   0                  0                      0                     0                 4                0                 0                0                  0                 0                 0                0                       0                      0                       0                      0                          0                         2                               0                              0                            0                           0                          0                         0               0\n",
              "     174.97           1          0      1               0          500         500         192          0       18350      10750             0            0                 1                   5                  5                 0                0                0               0                0               0                  0                 0                     0                    0                  0                 0                  0                 0                  0                 0                    0                   0                  0                 5                 0                0                  0                 0                 0                0                  0                 0                 0                0                  0                 0                0               0                0               0                  0                 0                 0                0                0               0                       0                      0                     0                    0                   0                  0                  0                 0                  0                 0                  0                 0                   0                  0                   0                  0                      0                     0                 4                0                 0                0                  1                 0                 0                0                       0                      0                       0                      0                          0                         0                               0                              0                            0                           0                          0                         0               0\n",
              "     114.97           1          0      1               0          500         500         500          0        1750      10550             5            0                 1                   5                  5                 0                0                0               0                0               0                  0                 0                     0                    0                  0                 0                  3                 0                  0                 0                    0                   0                  0                 5                 0                0                  0                 0                 0                0                  0                 0                 0                0                  0                 0                0               0                0               0                  0                 0                 0                0                0               0                       0                      0                     0                    0                   0                  0                  0                 0                  1                 0                  1                 0                   0                  0                   0                  0                      0                     0                 4                0                 0                0                  1                 0                 0                0                       3                      0                       3                      0                          3                         0                               1                              0                            0                           0                          0                         0               0\n",
              "      94.97           1          0      1               0          295         111         296          0        1700       5000             3            0                 0                   3                  2                 0                0                0               0                0               0                  0                 0                     0                    0                  0                 0                  1                 1                  0                 0                    0                   0                  0                 2                 0                0                  0                 0                 0                0                  0                 0                 0                0                  0                 0                0               0                0               0                  0                 0                 0                0                0               0                       0                      0                     0                    0                   0                  0                  0                 0                  1                 0                  1                 0                   0                  0                   0                  0                      0                     0                 2                0                 0                0                  1                 0                 0                0                       0                      0                       2                      0                          1                         0                               0                              0                            0                           0                          0                         0               0\n",
              "      74.97           1          0      1               0          295         111         296          0        1700       5000             3            0                 0                   3                  2                 0                0                0               0                0               0                  0                 0                     0                    0                  0                 0                  1                 1                  0                 0                    0                   0                  0                 2                 0                0                  0                 0                 0                0                  0                 0                 0                0                  0                 0                0               0                0               0                  0                 0                 0                0                0               0                       0                      0                     0                    0                   0                  0                  0                 0                  1                 0                  1                 0                   0                  0                   0                  0                      0                     0                 2                0                 0                0                  1                 0                 0                0                       0                      0                       2                      0                          1                         0                               0                              0                            0                           0                          0                         0               0\n",
              "      54.97           1          0      1               0          249          89         269          0        2300       2950             3            0                 0                   3                  1                 0                0                0               0                0               0                  0                 0                     0                    0                  0                 0                  1                 1                  0                 0                    0                   0                  0                 1                 0                0                  0                 0                 0                0                  0                 0                 0                0                  0                 0                0               0                0               0                  0                 0                 0                0                0               0                       0                      0                     0                    0                   0                  0                  0                 0                  1                 0                  1                 0                   0                  0                   0                  0                      0                     0                 2                0                 0                0                  1                 0                 0                0                       0                      0                       2                      0                          1                         0                               0                              0                            0                           0                          0                         0               0\n",
              "     174.97           2          0      1               0          500         500         196          0       19800      23450             2            0                 0                   5                  5                 0                0                0               0                0               0                  0                 0                     0                    0                  0                 0                  1                 0                  0                 0                    0                   0                  0                 5                 0                0                  0                 0                 0                0                  0                 0                 0                0                  0                 0                0               0                0               0                  0                 0                 0                0                0               0                       0                      0                     0                    0                   0                  0                  0                 0                  1                 0                  0                 0                   0                  0                   0                  0                      0                     0                 4                0                 0                0                  1                 0                 0                0                       0                      0                       1                      0                          1                         0                               0                              0                            0                           0                          0                         0               0\n",
              "     114.97           2          0      1               0          500         500         496        500        2200       1000             4            5                 2                   5                  5                 0                5                0               0                1               0                  0                 0                     0                    0                  0                 0                  1                 0                  0                 0                    0                   0                  0                 5                 0                0                  0                 0                 2                0                  0                 0                 0                0                  0                 0                0               0                0               0                  0                 0                 0                0                0               0                       0                      0                     0                    0                   0                  0                  0                 0                  1                 0                  0                 0                   0                  0                   0                  0                      0                     0                 4                0                 0                0                  1                 0                 0                0                       1                      0                       4                      5                          4                         5                               2                              0                            0                           1                          0                         1               1\n",
              "[85666 rows x 97 columns]\n"
            ],
            "text/html": [
              "<table class='dataframe'>\n",
              "<thead>\n",
              "<tr><th style=\"text-align: right;\">  time_left</th><th style=\"text-align: right;\">  ct_score</th><th style=\"text-align: right;\">  t_score</th><th style=\"text-align: right;\">  map</th><th style=\"text-align: right;\">  bomb_planted</th><th style=\"text-align: right;\">  ct_health</th><th style=\"text-align: right;\">  t_health</th><th style=\"text-align: right;\">  ct_armor</th><th style=\"text-align: right;\">  t_armor</th><th style=\"text-align: right;\">  ct_money</th><th style=\"text-align: right;\">  t_money</th><th style=\"text-align: right;\">  ct_helmets</th><th style=\"text-align: right;\">  t_helmets</th><th style=\"text-align: right;\">  ct_defuse_kits</th><th style=\"text-align: right;\">  ct_players_alive</th><th style=\"text-align: right;\">  t_players_alive</th><th style=\"text-align: right;\">  ct_weapon_ak47</th><th style=\"text-align: right;\">  t_weapon_ak47</th><th style=\"text-align: right;\">  ct_weapon_aug</th><th style=\"text-align: right;\">  t_weapon_aug</th><th style=\"text-align: right;\">  ct_weapon_awp</th><th style=\"text-align: right;\">  t_weapon_awp</th><th style=\"text-align: right;\">  ct_weapon_bizon</th><th style=\"text-align: right;\">  t_weapon_bizon</th><th style=\"text-align: right;\">  ct_weapon_cz75auto</th><th style=\"text-align: right;\">  t_weapon_cz75auto</th><th style=\"text-align: right;\">  ct_weapon_elite</th><th style=\"text-align: right;\">  t_weapon_elite</th><th style=\"text-align: right;\">  ct_weapon_famas</th><th style=\"text-align: right;\">  t_weapon_famas</th><th style=\"text-align: right;\">  ct_weapon_g3sg1</th><th style=\"text-align: right;\">  t_weapon_g3sg1</th><th style=\"text-align: right;\">  ct_weapon_galilar</th><th style=\"text-align: right;\">  t_weapon_galilar</th><th style=\"text-align: right;\">  ct_weapon_glock</th><th style=\"text-align: right;\">  t_weapon_glock</th><th style=\"text-align: right;\">  ct_weapon_m249</th><th style=\"text-align: right;\">  t_weapon_m249</th><th style=\"text-align: right;\">  ct_weapon_m4a1s</th><th style=\"text-align: right;\">  t_weapon_m4a1s</th><th style=\"text-align: right;\">  ct_weapon_m4a4</th><th style=\"text-align: right;\">  t_weapon_m4a4</th><th style=\"text-align: right;\">  ct_weapon_mac10</th><th style=\"text-align: right;\">  t_weapon_mac10</th><th style=\"text-align: right;\">  ct_weapon_mag7</th><th style=\"text-align: right;\">  t_weapon_mag7</th><th style=\"text-align: right;\">  ct_weapon_mp5sd</th><th style=\"text-align: right;\">  t_weapon_mp5sd</th><th style=\"text-align: right;\">  ct_weapon_mp7</th><th style=\"text-align: right;\">  t_weapon_mp7</th><th style=\"text-align: right;\">  ct_weapon_mp9</th><th style=\"text-align: right;\">  t_weapon_mp9</th><th style=\"text-align: right;\">  ct_weapon_negev</th><th style=\"text-align: right;\">  t_weapon_negev</th><th style=\"text-align: right;\">  ct_weapon_nova</th><th style=\"text-align: right;\">  t_weapon_nova</th><th style=\"text-align: right;\">  ct_weapon_p90</th><th style=\"text-align: right;\">  t_weapon_p90</th><th style=\"text-align: right;\">  ct_weapon_r8revolver</th><th style=\"text-align: right;\">  t_weapon_r8revolver</th><th style=\"text-align: right;\">  ct_weapon_sawedoff</th><th style=\"text-align: right;\">  t_weapon_sawedoff</th><th style=\"text-align: right;\">  ct_weapon_scar20</th><th style=\"text-align: right;\">  t_weapon_scar20</th><th style=\"text-align: right;\">  ct_weapon_sg553</th><th style=\"text-align: right;\">  t_weapon_sg553</th><th style=\"text-align: right;\">  ct_weapon_ssg08</th><th style=\"text-align: right;\">  t_weapon_ssg08</th><th style=\"text-align: right;\">  ct_weapon_ump45</th><th style=\"text-align: right;\">  t_weapon_ump45</th><th style=\"text-align: right;\">  ct_weapon_xm1014</th><th style=\"text-align: right;\">  t_weapon_xm1014</th><th style=\"text-align: right;\">  ct_weapon_deagle</th><th style=\"text-align: right;\">  t_weapon_deagle</th><th style=\"text-align: right;\">  ct_weapon_fiveseven</th><th style=\"text-align: right;\">  t_weapon_fiveseven</th><th style=\"text-align: right;\">  ct_weapon_usps</th><th style=\"text-align: right;\">  t_weapon_usps</th><th style=\"text-align: right;\">  ct_weapon_p250</th><th style=\"text-align: right;\">  t_weapon_p250</th><th style=\"text-align: right;\">  ct_weapon_p2000</th><th style=\"text-align: right;\">  t_weapon_p2000</th><th style=\"text-align: right;\">  ct_weapon_tec9</th><th style=\"text-align: right;\">  t_weapon_tec9</th><th style=\"text-align: right;\">  ct_grenade_hegrenade</th><th style=\"text-align: right;\">  t_grenade_hegrenade</th><th style=\"text-align: right;\">  ct_grenade_flashbang</th><th style=\"text-align: right;\">  t_grenade_flashbang</th><th style=\"text-align: right;\">  ct_grenade_smokegrenade</th><th style=\"text-align: right;\">  t_grenade_smokegrenade</th><th style=\"text-align: right;\">  ct_grenade_incendiarygrenade</th><th style=\"text-align: right;\">  t_grenade_incendiarygrenade</th><th style=\"text-align: right;\">  ct_grenade_molotovgrenade</th><th style=\"text-align: right;\">  t_grenade_molotovgrenade</th><th style=\"text-align: right;\">  ct_grenade_decoygrenade</th><th style=\"text-align: right;\">  t_grenade_decoygrenade</th><th style=\"text-align: right;\">  round_winner</th></tr>\n",
              "</thead>\n",
              "<tbody>\n",
              "<tr><td style=\"text-align: right;\">     175   </td><td style=\"text-align: right;\">         0</td><td style=\"text-align: right;\">        0</td><td style=\"text-align: right;\">    1</td><td style=\"text-align: right;\">             0</td><td style=\"text-align: right;\">        500</td><td style=\"text-align: right;\">       500</td><td style=\"text-align: right;\">         0</td><td style=\"text-align: right;\">        0</td><td style=\"text-align: right;\">      4000</td><td style=\"text-align: right;\">     4000</td><td style=\"text-align: right;\">           0</td><td style=\"text-align: right;\">          0</td><td style=\"text-align: right;\">               0</td><td style=\"text-align: right;\">                 5</td><td style=\"text-align: right;\">                5</td><td style=\"text-align: right;\">               0</td><td style=\"text-align: right;\">              0</td><td style=\"text-align: right;\">              0</td><td style=\"text-align: right;\">             0</td><td style=\"text-align: right;\">              0</td><td style=\"text-align: right;\">             0</td><td style=\"text-align: right;\">                0</td><td style=\"text-align: right;\">               0</td><td style=\"text-align: right;\">                   0</td><td style=\"text-align: right;\">                  0</td><td style=\"text-align: right;\">                0</td><td style=\"text-align: right;\">               0</td><td style=\"text-align: right;\">                0</td><td style=\"text-align: right;\">               0</td><td style=\"text-align: right;\">                0</td><td style=\"text-align: right;\">               0</td><td style=\"text-align: right;\">                  0</td><td style=\"text-align: right;\">                 0</td><td style=\"text-align: right;\">                0</td><td style=\"text-align: right;\">               5</td><td style=\"text-align: right;\">               0</td><td style=\"text-align: right;\">              0</td><td style=\"text-align: right;\">                0</td><td style=\"text-align: right;\">               0</td><td style=\"text-align: right;\">               0</td><td style=\"text-align: right;\">              0</td><td style=\"text-align: right;\">                0</td><td style=\"text-align: right;\">               0</td><td style=\"text-align: right;\">               0</td><td style=\"text-align: right;\">              0</td><td style=\"text-align: right;\">                0</td><td style=\"text-align: right;\">               0</td><td style=\"text-align: right;\">              0</td><td style=\"text-align: right;\">             0</td><td style=\"text-align: right;\">              0</td><td style=\"text-align: right;\">             0</td><td style=\"text-align: right;\">                0</td><td style=\"text-align: right;\">               0</td><td style=\"text-align: right;\">               0</td><td style=\"text-align: right;\">              0</td><td style=\"text-align: right;\">              0</td><td style=\"text-align: right;\">             0</td><td style=\"text-align: right;\">                     0</td><td style=\"text-align: right;\">                    0</td><td style=\"text-align: right;\">                   0</td><td style=\"text-align: right;\">                  0</td><td style=\"text-align: right;\">                 0</td><td style=\"text-align: right;\">                0</td><td style=\"text-align: right;\">                0</td><td style=\"text-align: right;\">               0</td><td style=\"text-align: right;\">                0</td><td style=\"text-align: right;\">               0</td><td style=\"text-align: right;\">                0</td><td style=\"text-align: right;\">               0</td><td style=\"text-align: right;\">                 0</td><td style=\"text-align: right;\">                0</td><td style=\"text-align: right;\">                 0</td><td style=\"text-align: right;\">                0</td><td style=\"text-align: right;\">                    0</td><td style=\"text-align: right;\">                   0</td><td style=\"text-align: right;\">               4</td><td style=\"text-align: right;\">              0</td><td style=\"text-align: right;\">               0</td><td style=\"text-align: right;\">              0</td><td style=\"text-align: right;\">                1</td><td style=\"text-align: right;\">               0</td><td style=\"text-align: right;\">               0</td><td style=\"text-align: right;\">              0</td><td style=\"text-align: right;\">                     0</td><td style=\"text-align: right;\">                    0</td><td style=\"text-align: right;\">                     0</td><td style=\"text-align: right;\">                    0</td><td style=\"text-align: right;\">                        0</td><td style=\"text-align: right;\">                       0</td><td style=\"text-align: right;\">                             0</td><td style=\"text-align: right;\">                            0</td><td style=\"text-align: right;\">                          0</td><td style=\"text-align: right;\">                         0</td><td style=\"text-align: right;\">                        0</td><td style=\"text-align: right;\">                       0</td><td style=\"text-align: right;\">             0</td></tr>\n",
              "<tr><td style=\"text-align: right;\">     156.03</td><td style=\"text-align: right;\">         0</td><td style=\"text-align: right;\">        0</td><td style=\"text-align: right;\">    1</td><td style=\"text-align: right;\">             0</td><td style=\"text-align: right;\">        500</td><td style=\"text-align: right;\">       500</td><td style=\"text-align: right;\">       400</td><td style=\"text-align: right;\">      300</td><td style=\"text-align: right;\">       600</td><td style=\"text-align: right;\">      650</td><td style=\"text-align: right;\">           0</td><td style=\"text-align: right;\">          0</td><td style=\"text-align: right;\">               1</td><td style=\"text-align: right;\">                 5</td><td style=\"text-align: right;\">                5</td><td style=\"text-align: right;\">               0</td><td style=\"text-align: right;\">              0</td><td style=\"text-align: right;\">              0</td><td style=\"text-align: right;\">             0</td><td style=\"text-align: right;\">              0</td><td style=\"text-align: right;\">             0</td><td style=\"text-align: right;\">                0</td><td style=\"text-align: right;\">               0</td><td style=\"text-align: right;\">                   0</td><td style=\"text-align: right;\">                  0</td><td style=\"text-align: right;\">                0</td><td style=\"text-align: right;\">               0</td><td style=\"text-align: right;\">                0</td><td style=\"text-align: right;\">               0</td><td style=\"text-align: right;\">                0</td><td style=\"text-align: right;\">               0</td><td style=\"text-align: right;\">                  0</td><td style=\"text-align: right;\">                 0</td><td style=\"text-align: right;\">                0</td><td style=\"text-align: right;\">               5</td><td style=\"text-align: right;\">               0</td><td style=\"text-align: right;\">              0</td><td style=\"text-align: right;\">                0</td><td style=\"text-align: right;\">               0</td><td style=\"text-align: right;\">               0</td><td style=\"text-align: right;\">              0</td><td style=\"text-align: right;\">                0</td><td style=\"text-align: right;\">               0</td><td style=\"text-align: right;\">               0</td><td style=\"text-align: right;\">              0</td><td style=\"text-align: right;\">                0</td><td style=\"text-align: right;\">               0</td><td style=\"text-align: right;\">              0</td><td style=\"text-align: right;\">             0</td><td style=\"text-align: right;\">              0</td><td style=\"text-align: right;\">             0</td><td style=\"text-align: right;\">                0</td><td style=\"text-align: right;\">               0</td><td style=\"text-align: right;\">               0</td><td style=\"text-align: right;\">              0</td><td style=\"text-align: right;\">              0</td><td style=\"text-align: right;\">             0</td><td style=\"text-align: right;\">                     0</td><td style=\"text-align: right;\">                    0</td><td style=\"text-align: right;\">                   0</td><td style=\"text-align: right;\">                  0</td><td style=\"text-align: right;\">                 0</td><td style=\"text-align: right;\">                0</td><td style=\"text-align: right;\">                0</td><td style=\"text-align: right;\">               0</td><td style=\"text-align: right;\">                0</td><td style=\"text-align: right;\">               0</td><td style=\"text-align: right;\">                0</td><td style=\"text-align: right;\">               0</td><td style=\"text-align: right;\">                 0</td><td style=\"text-align: right;\">                0</td><td style=\"text-align: right;\">                 0</td><td style=\"text-align: right;\">                0</td><td style=\"text-align: right;\">                    0</td><td style=\"text-align: right;\">                   0</td><td style=\"text-align: right;\">               4</td><td style=\"text-align: right;\">              0</td><td style=\"text-align: right;\">               0</td><td style=\"text-align: right;\">              0</td><td style=\"text-align: right;\">                1</td><td style=\"text-align: right;\">               0</td><td style=\"text-align: right;\">               0</td><td style=\"text-align: right;\">              0</td><td style=\"text-align: right;\">                     0</td><td style=\"text-align: right;\">                    0</td><td style=\"text-align: right;\">                     0</td><td style=\"text-align: right;\">                    0</td><td style=\"text-align: right;\">                        0</td><td style=\"text-align: right;\">                       2</td><td style=\"text-align: right;\">                             0</td><td style=\"text-align: right;\">                            0</td><td style=\"text-align: right;\">                          0</td><td style=\"text-align: right;\">                         0</td><td style=\"text-align: right;\">                        0</td><td style=\"text-align: right;\">                       0</td><td style=\"text-align: right;\">             0</td></tr>\n",
              "<tr><td style=\"text-align: right;\">      96.03</td><td style=\"text-align: right;\">         0</td><td style=\"text-align: right;\">        0</td><td style=\"text-align: right;\">    1</td><td style=\"text-align: right;\">             0</td><td style=\"text-align: right;\">        391</td><td style=\"text-align: right;\">       400</td><td style=\"text-align: right;\">       294</td><td style=\"text-align: right;\">      200</td><td style=\"text-align: right;\">       750</td><td style=\"text-align: right;\">      500</td><td style=\"text-align: right;\">           0</td><td style=\"text-align: right;\">          0</td><td style=\"text-align: right;\">               1</td><td style=\"text-align: right;\">                 4</td><td style=\"text-align: right;\">                4</td><td style=\"text-align: right;\">               0</td><td style=\"text-align: right;\">              0</td><td style=\"text-align: right;\">              0</td><td style=\"text-align: right;\">             0</td><td style=\"text-align: right;\">              0</td><td style=\"text-align: right;\">             0</td><td style=\"text-align: right;\">                0</td><td style=\"text-align: right;\">               0</td><td style=\"text-align: right;\">                   0</td><td style=\"text-align: right;\">                  0</td><td style=\"text-align: right;\">                0</td><td style=\"text-align: right;\">               0</td><td style=\"text-align: right;\">                0</td><td style=\"text-align: right;\">               0</td><td style=\"text-align: right;\">                0</td><td style=\"text-align: right;\">               0</td><td style=\"text-align: right;\">                  0</td><td style=\"text-align: right;\">                 0</td><td style=\"text-align: right;\">                0</td><td style=\"text-align: right;\">               4</td><td style=\"text-align: right;\">               0</td><td style=\"text-align: right;\">              0</td><td style=\"text-align: right;\">                0</td><td style=\"text-align: right;\">               0</td><td style=\"text-align: right;\">               0</td><td style=\"text-align: right;\">              0</td><td style=\"text-align: right;\">                0</td><td style=\"text-align: right;\">               0</td><td style=\"text-align: right;\">               0</td><td style=\"text-align: right;\">              0</td><td style=\"text-align: right;\">                0</td><td style=\"text-align: right;\">               0</td><td style=\"text-align: right;\">              0</td><td style=\"text-align: right;\">             0</td><td style=\"text-align: right;\">              0</td><td style=\"text-align: right;\">             0</td><td style=\"text-align: right;\">                0</td><td style=\"text-align: right;\">               0</td><td style=\"text-align: right;\">               0</td><td style=\"text-align: right;\">              0</td><td style=\"text-align: right;\">              0</td><td style=\"text-align: right;\">             0</td><td style=\"text-align: right;\">                     0</td><td style=\"text-align: right;\">                    0</td><td style=\"text-align: right;\">                   0</td><td style=\"text-align: right;\">                  0</td><td style=\"text-align: right;\">                 0</td><td style=\"text-align: right;\">                0</td><td style=\"text-align: right;\">                0</td><td style=\"text-align: right;\">               0</td><td style=\"text-align: right;\">                0</td><td style=\"text-align: right;\">               0</td><td style=\"text-align: right;\">                0</td><td style=\"text-align: right;\">               0</td><td style=\"text-align: right;\">                 0</td><td style=\"text-align: right;\">                0</td><td style=\"text-align: right;\">                 0</td><td style=\"text-align: right;\">                0</td><td style=\"text-align: right;\">                    0</td><td style=\"text-align: right;\">                   0</td><td style=\"text-align: right;\">               4</td><td style=\"text-align: right;\">              0</td><td style=\"text-align: right;\">               0</td><td style=\"text-align: right;\">              0</td><td style=\"text-align: right;\">                0</td><td style=\"text-align: right;\">               0</td><td style=\"text-align: right;\">               0</td><td style=\"text-align: right;\">              0</td><td style=\"text-align: right;\">                     0</td><td style=\"text-align: right;\">                    0</td><td style=\"text-align: right;\">                     0</td><td style=\"text-align: right;\">                    0</td><td style=\"text-align: right;\">                        0</td><td style=\"text-align: right;\">                       2</td><td style=\"text-align: right;\">                             0</td><td style=\"text-align: right;\">                            0</td><td style=\"text-align: right;\">                          0</td><td style=\"text-align: right;\">                         0</td><td style=\"text-align: right;\">                        0</td><td style=\"text-align: right;\">                       0</td><td style=\"text-align: right;\">             0</td></tr>\n",
              "<tr><td style=\"text-align: right;\">     174.97</td><td style=\"text-align: right;\">         1</td><td style=\"text-align: right;\">        0</td><td style=\"text-align: right;\">    1</td><td style=\"text-align: right;\">             0</td><td style=\"text-align: right;\">        500</td><td style=\"text-align: right;\">       500</td><td style=\"text-align: right;\">       192</td><td style=\"text-align: right;\">        0</td><td style=\"text-align: right;\">     18350</td><td style=\"text-align: right;\">    10750</td><td style=\"text-align: right;\">           0</td><td style=\"text-align: right;\">          0</td><td style=\"text-align: right;\">               1</td><td style=\"text-align: right;\">                 5</td><td style=\"text-align: right;\">                5</td><td style=\"text-align: right;\">               0</td><td style=\"text-align: right;\">              0</td><td style=\"text-align: right;\">              0</td><td style=\"text-align: right;\">             0</td><td style=\"text-align: right;\">              0</td><td style=\"text-align: right;\">             0</td><td style=\"text-align: right;\">                0</td><td style=\"text-align: right;\">               0</td><td style=\"text-align: right;\">                   0</td><td style=\"text-align: right;\">                  0</td><td style=\"text-align: right;\">                0</td><td style=\"text-align: right;\">               0</td><td style=\"text-align: right;\">                0</td><td style=\"text-align: right;\">               0</td><td style=\"text-align: right;\">                0</td><td style=\"text-align: right;\">               0</td><td style=\"text-align: right;\">                  0</td><td style=\"text-align: right;\">                 0</td><td style=\"text-align: right;\">                0</td><td style=\"text-align: right;\">               5</td><td style=\"text-align: right;\">               0</td><td style=\"text-align: right;\">              0</td><td style=\"text-align: right;\">                0</td><td style=\"text-align: right;\">               0</td><td style=\"text-align: right;\">               0</td><td style=\"text-align: right;\">              0</td><td style=\"text-align: right;\">                0</td><td style=\"text-align: right;\">               0</td><td style=\"text-align: right;\">               0</td><td style=\"text-align: right;\">              0</td><td style=\"text-align: right;\">                0</td><td style=\"text-align: right;\">               0</td><td style=\"text-align: right;\">              0</td><td style=\"text-align: right;\">             0</td><td style=\"text-align: right;\">              0</td><td style=\"text-align: right;\">             0</td><td style=\"text-align: right;\">                0</td><td style=\"text-align: right;\">               0</td><td style=\"text-align: right;\">               0</td><td style=\"text-align: right;\">              0</td><td style=\"text-align: right;\">              0</td><td style=\"text-align: right;\">             0</td><td style=\"text-align: right;\">                     0</td><td style=\"text-align: right;\">                    0</td><td style=\"text-align: right;\">                   0</td><td style=\"text-align: right;\">                  0</td><td style=\"text-align: right;\">                 0</td><td style=\"text-align: right;\">                0</td><td style=\"text-align: right;\">                0</td><td style=\"text-align: right;\">               0</td><td style=\"text-align: right;\">                0</td><td style=\"text-align: right;\">               0</td><td style=\"text-align: right;\">                0</td><td style=\"text-align: right;\">               0</td><td style=\"text-align: right;\">                 0</td><td style=\"text-align: right;\">                0</td><td style=\"text-align: right;\">                 0</td><td style=\"text-align: right;\">                0</td><td style=\"text-align: right;\">                    0</td><td style=\"text-align: right;\">                   0</td><td style=\"text-align: right;\">               4</td><td style=\"text-align: right;\">              0</td><td style=\"text-align: right;\">               0</td><td style=\"text-align: right;\">              0</td><td style=\"text-align: right;\">                1</td><td style=\"text-align: right;\">               0</td><td style=\"text-align: right;\">               0</td><td style=\"text-align: right;\">              0</td><td style=\"text-align: right;\">                     0</td><td style=\"text-align: right;\">                    0</td><td style=\"text-align: right;\">                     0</td><td style=\"text-align: right;\">                    0</td><td style=\"text-align: right;\">                        0</td><td style=\"text-align: right;\">                       0</td><td style=\"text-align: right;\">                             0</td><td style=\"text-align: right;\">                            0</td><td style=\"text-align: right;\">                          0</td><td style=\"text-align: right;\">                         0</td><td style=\"text-align: right;\">                        0</td><td style=\"text-align: right;\">                       0</td><td style=\"text-align: right;\">             0</td></tr>\n",
              "<tr><td style=\"text-align: right;\">     114.97</td><td style=\"text-align: right;\">         1</td><td style=\"text-align: right;\">        0</td><td style=\"text-align: right;\">    1</td><td style=\"text-align: right;\">             0</td><td style=\"text-align: right;\">        500</td><td style=\"text-align: right;\">       500</td><td style=\"text-align: right;\">       500</td><td style=\"text-align: right;\">        0</td><td style=\"text-align: right;\">      1750</td><td style=\"text-align: right;\">    10550</td><td style=\"text-align: right;\">           5</td><td style=\"text-align: right;\">          0</td><td style=\"text-align: right;\">               1</td><td style=\"text-align: right;\">                 5</td><td style=\"text-align: right;\">                5</td><td style=\"text-align: right;\">               0</td><td style=\"text-align: right;\">              0</td><td style=\"text-align: right;\">              0</td><td style=\"text-align: right;\">             0</td><td style=\"text-align: right;\">              0</td><td style=\"text-align: right;\">             0</td><td style=\"text-align: right;\">                0</td><td style=\"text-align: right;\">               0</td><td style=\"text-align: right;\">                   0</td><td style=\"text-align: right;\">                  0</td><td style=\"text-align: right;\">                0</td><td style=\"text-align: right;\">               0</td><td style=\"text-align: right;\">                3</td><td style=\"text-align: right;\">               0</td><td style=\"text-align: right;\">                0</td><td style=\"text-align: right;\">               0</td><td style=\"text-align: right;\">                  0</td><td style=\"text-align: right;\">                 0</td><td style=\"text-align: right;\">                0</td><td style=\"text-align: right;\">               5</td><td style=\"text-align: right;\">               0</td><td style=\"text-align: right;\">              0</td><td style=\"text-align: right;\">                0</td><td style=\"text-align: right;\">               0</td><td style=\"text-align: right;\">               0</td><td style=\"text-align: right;\">              0</td><td style=\"text-align: right;\">                0</td><td style=\"text-align: right;\">               0</td><td style=\"text-align: right;\">               0</td><td style=\"text-align: right;\">              0</td><td style=\"text-align: right;\">                0</td><td style=\"text-align: right;\">               0</td><td style=\"text-align: right;\">              0</td><td style=\"text-align: right;\">             0</td><td style=\"text-align: right;\">              0</td><td style=\"text-align: right;\">             0</td><td style=\"text-align: right;\">                0</td><td style=\"text-align: right;\">               0</td><td style=\"text-align: right;\">               0</td><td style=\"text-align: right;\">              0</td><td style=\"text-align: right;\">              0</td><td style=\"text-align: right;\">             0</td><td style=\"text-align: right;\">                     0</td><td style=\"text-align: right;\">                    0</td><td style=\"text-align: right;\">                   0</td><td style=\"text-align: right;\">                  0</td><td style=\"text-align: right;\">                 0</td><td style=\"text-align: right;\">                0</td><td style=\"text-align: right;\">                0</td><td style=\"text-align: right;\">               0</td><td style=\"text-align: right;\">                1</td><td style=\"text-align: right;\">               0</td><td style=\"text-align: right;\">                1</td><td style=\"text-align: right;\">               0</td><td style=\"text-align: right;\">                 0</td><td style=\"text-align: right;\">                0</td><td style=\"text-align: right;\">                 0</td><td style=\"text-align: right;\">                0</td><td style=\"text-align: right;\">                    0</td><td style=\"text-align: right;\">                   0</td><td style=\"text-align: right;\">               4</td><td style=\"text-align: right;\">              0</td><td style=\"text-align: right;\">               0</td><td style=\"text-align: right;\">              0</td><td style=\"text-align: right;\">                1</td><td style=\"text-align: right;\">               0</td><td style=\"text-align: right;\">               0</td><td style=\"text-align: right;\">              0</td><td style=\"text-align: right;\">                     3</td><td style=\"text-align: right;\">                    0</td><td style=\"text-align: right;\">                     3</td><td style=\"text-align: right;\">                    0</td><td style=\"text-align: right;\">                        3</td><td style=\"text-align: right;\">                       0</td><td style=\"text-align: right;\">                             1</td><td style=\"text-align: right;\">                            0</td><td style=\"text-align: right;\">                          0</td><td style=\"text-align: right;\">                         0</td><td style=\"text-align: right;\">                        0</td><td style=\"text-align: right;\">                       0</td><td style=\"text-align: right;\">             0</td></tr>\n",
              "<tr><td style=\"text-align: right;\">      94.97</td><td style=\"text-align: right;\">         1</td><td style=\"text-align: right;\">        0</td><td style=\"text-align: right;\">    1</td><td style=\"text-align: right;\">             0</td><td style=\"text-align: right;\">        295</td><td style=\"text-align: right;\">       111</td><td style=\"text-align: right;\">       296</td><td style=\"text-align: right;\">        0</td><td style=\"text-align: right;\">      1700</td><td style=\"text-align: right;\">     5000</td><td style=\"text-align: right;\">           3</td><td style=\"text-align: right;\">          0</td><td style=\"text-align: right;\">               0</td><td style=\"text-align: right;\">                 3</td><td style=\"text-align: right;\">                2</td><td style=\"text-align: right;\">               0</td><td style=\"text-align: right;\">              0</td><td style=\"text-align: right;\">              0</td><td style=\"text-align: right;\">             0</td><td style=\"text-align: right;\">              0</td><td style=\"text-align: right;\">             0</td><td style=\"text-align: right;\">                0</td><td style=\"text-align: right;\">               0</td><td style=\"text-align: right;\">                   0</td><td style=\"text-align: right;\">                  0</td><td style=\"text-align: right;\">                0</td><td style=\"text-align: right;\">               0</td><td style=\"text-align: right;\">                1</td><td style=\"text-align: right;\">               1</td><td style=\"text-align: right;\">                0</td><td style=\"text-align: right;\">               0</td><td style=\"text-align: right;\">                  0</td><td style=\"text-align: right;\">                 0</td><td style=\"text-align: right;\">                0</td><td style=\"text-align: right;\">               2</td><td style=\"text-align: right;\">               0</td><td style=\"text-align: right;\">              0</td><td style=\"text-align: right;\">                0</td><td style=\"text-align: right;\">               0</td><td style=\"text-align: right;\">               0</td><td style=\"text-align: right;\">              0</td><td style=\"text-align: right;\">                0</td><td style=\"text-align: right;\">               0</td><td style=\"text-align: right;\">               0</td><td style=\"text-align: right;\">              0</td><td style=\"text-align: right;\">                0</td><td style=\"text-align: right;\">               0</td><td style=\"text-align: right;\">              0</td><td style=\"text-align: right;\">             0</td><td style=\"text-align: right;\">              0</td><td style=\"text-align: right;\">             0</td><td style=\"text-align: right;\">                0</td><td style=\"text-align: right;\">               0</td><td style=\"text-align: right;\">               0</td><td style=\"text-align: right;\">              0</td><td style=\"text-align: right;\">              0</td><td style=\"text-align: right;\">             0</td><td style=\"text-align: right;\">                     0</td><td style=\"text-align: right;\">                    0</td><td style=\"text-align: right;\">                   0</td><td style=\"text-align: right;\">                  0</td><td style=\"text-align: right;\">                 0</td><td style=\"text-align: right;\">                0</td><td style=\"text-align: right;\">                0</td><td style=\"text-align: right;\">               0</td><td style=\"text-align: right;\">                1</td><td style=\"text-align: right;\">               0</td><td style=\"text-align: right;\">                1</td><td style=\"text-align: right;\">               0</td><td style=\"text-align: right;\">                 0</td><td style=\"text-align: right;\">                0</td><td style=\"text-align: right;\">                 0</td><td style=\"text-align: right;\">                0</td><td style=\"text-align: right;\">                    0</td><td style=\"text-align: right;\">                   0</td><td style=\"text-align: right;\">               2</td><td style=\"text-align: right;\">              0</td><td style=\"text-align: right;\">               0</td><td style=\"text-align: right;\">              0</td><td style=\"text-align: right;\">                1</td><td style=\"text-align: right;\">               0</td><td style=\"text-align: right;\">               0</td><td style=\"text-align: right;\">              0</td><td style=\"text-align: right;\">                     0</td><td style=\"text-align: right;\">                    0</td><td style=\"text-align: right;\">                     2</td><td style=\"text-align: right;\">                    0</td><td style=\"text-align: right;\">                        1</td><td style=\"text-align: right;\">                       0</td><td style=\"text-align: right;\">                             0</td><td style=\"text-align: right;\">                            0</td><td style=\"text-align: right;\">                          0</td><td style=\"text-align: right;\">                         0</td><td style=\"text-align: right;\">                        0</td><td style=\"text-align: right;\">                       0</td><td style=\"text-align: right;\">             0</td></tr>\n",
              "<tr><td style=\"text-align: right;\">      74.97</td><td style=\"text-align: right;\">         1</td><td style=\"text-align: right;\">        0</td><td style=\"text-align: right;\">    1</td><td style=\"text-align: right;\">             0</td><td style=\"text-align: right;\">        295</td><td style=\"text-align: right;\">       111</td><td style=\"text-align: right;\">       296</td><td style=\"text-align: right;\">        0</td><td style=\"text-align: right;\">      1700</td><td style=\"text-align: right;\">     5000</td><td style=\"text-align: right;\">           3</td><td style=\"text-align: right;\">          0</td><td style=\"text-align: right;\">               0</td><td style=\"text-align: right;\">                 3</td><td style=\"text-align: right;\">                2</td><td style=\"text-align: right;\">               0</td><td style=\"text-align: right;\">              0</td><td style=\"text-align: right;\">              0</td><td style=\"text-align: right;\">             0</td><td style=\"text-align: right;\">              0</td><td style=\"text-align: right;\">             0</td><td style=\"text-align: right;\">                0</td><td style=\"text-align: right;\">               0</td><td style=\"text-align: right;\">                   0</td><td style=\"text-align: right;\">                  0</td><td style=\"text-align: right;\">                0</td><td style=\"text-align: right;\">               0</td><td style=\"text-align: right;\">                1</td><td style=\"text-align: right;\">               1</td><td style=\"text-align: right;\">                0</td><td style=\"text-align: right;\">               0</td><td style=\"text-align: right;\">                  0</td><td style=\"text-align: right;\">                 0</td><td style=\"text-align: right;\">                0</td><td style=\"text-align: right;\">               2</td><td style=\"text-align: right;\">               0</td><td style=\"text-align: right;\">              0</td><td style=\"text-align: right;\">                0</td><td style=\"text-align: right;\">               0</td><td style=\"text-align: right;\">               0</td><td style=\"text-align: right;\">              0</td><td style=\"text-align: right;\">                0</td><td style=\"text-align: right;\">               0</td><td style=\"text-align: right;\">               0</td><td style=\"text-align: right;\">              0</td><td style=\"text-align: right;\">                0</td><td style=\"text-align: right;\">               0</td><td style=\"text-align: right;\">              0</td><td style=\"text-align: right;\">             0</td><td style=\"text-align: right;\">              0</td><td style=\"text-align: right;\">             0</td><td style=\"text-align: right;\">                0</td><td style=\"text-align: right;\">               0</td><td style=\"text-align: right;\">               0</td><td style=\"text-align: right;\">              0</td><td style=\"text-align: right;\">              0</td><td style=\"text-align: right;\">             0</td><td style=\"text-align: right;\">                     0</td><td style=\"text-align: right;\">                    0</td><td style=\"text-align: right;\">                   0</td><td style=\"text-align: right;\">                  0</td><td style=\"text-align: right;\">                 0</td><td style=\"text-align: right;\">                0</td><td style=\"text-align: right;\">                0</td><td style=\"text-align: right;\">               0</td><td style=\"text-align: right;\">                1</td><td style=\"text-align: right;\">               0</td><td style=\"text-align: right;\">                1</td><td style=\"text-align: right;\">               0</td><td style=\"text-align: right;\">                 0</td><td style=\"text-align: right;\">                0</td><td style=\"text-align: right;\">                 0</td><td style=\"text-align: right;\">                0</td><td style=\"text-align: right;\">                    0</td><td style=\"text-align: right;\">                   0</td><td style=\"text-align: right;\">               2</td><td style=\"text-align: right;\">              0</td><td style=\"text-align: right;\">               0</td><td style=\"text-align: right;\">              0</td><td style=\"text-align: right;\">                1</td><td style=\"text-align: right;\">               0</td><td style=\"text-align: right;\">               0</td><td style=\"text-align: right;\">              0</td><td style=\"text-align: right;\">                     0</td><td style=\"text-align: right;\">                    0</td><td style=\"text-align: right;\">                     2</td><td style=\"text-align: right;\">                    0</td><td style=\"text-align: right;\">                        1</td><td style=\"text-align: right;\">                       0</td><td style=\"text-align: right;\">                             0</td><td style=\"text-align: right;\">                            0</td><td style=\"text-align: right;\">                          0</td><td style=\"text-align: right;\">                         0</td><td style=\"text-align: right;\">                        0</td><td style=\"text-align: right;\">                       0</td><td style=\"text-align: right;\">             0</td></tr>\n",
              "<tr><td style=\"text-align: right;\">      54.97</td><td style=\"text-align: right;\">         1</td><td style=\"text-align: right;\">        0</td><td style=\"text-align: right;\">    1</td><td style=\"text-align: right;\">             0</td><td style=\"text-align: right;\">        249</td><td style=\"text-align: right;\">        89</td><td style=\"text-align: right;\">       269</td><td style=\"text-align: right;\">        0</td><td style=\"text-align: right;\">      2300</td><td style=\"text-align: right;\">     2950</td><td style=\"text-align: right;\">           3</td><td style=\"text-align: right;\">          0</td><td style=\"text-align: right;\">               0</td><td style=\"text-align: right;\">                 3</td><td style=\"text-align: right;\">                1</td><td style=\"text-align: right;\">               0</td><td style=\"text-align: right;\">              0</td><td style=\"text-align: right;\">              0</td><td style=\"text-align: right;\">             0</td><td style=\"text-align: right;\">              0</td><td style=\"text-align: right;\">             0</td><td style=\"text-align: right;\">                0</td><td style=\"text-align: right;\">               0</td><td style=\"text-align: right;\">                   0</td><td style=\"text-align: right;\">                  0</td><td style=\"text-align: right;\">                0</td><td style=\"text-align: right;\">               0</td><td style=\"text-align: right;\">                1</td><td style=\"text-align: right;\">               1</td><td style=\"text-align: right;\">                0</td><td style=\"text-align: right;\">               0</td><td style=\"text-align: right;\">                  0</td><td style=\"text-align: right;\">                 0</td><td style=\"text-align: right;\">                0</td><td style=\"text-align: right;\">               1</td><td style=\"text-align: right;\">               0</td><td style=\"text-align: right;\">              0</td><td style=\"text-align: right;\">                0</td><td style=\"text-align: right;\">               0</td><td style=\"text-align: right;\">               0</td><td style=\"text-align: right;\">              0</td><td style=\"text-align: right;\">                0</td><td style=\"text-align: right;\">               0</td><td style=\"text-align: right;\">               0</td><td style=\"text-align: right;\">              0</td><td style=\"text-align: right;\">                0</td><td style=\"text-align: right;\">               0</td><td style=\"text-align: right;\">              0</td><td style=\"text-align: right;\">             0</td><td style=\"text-align: right;\">              0</td><td style=\"text-align: right;\">             0</td><td style=\"text-align: right;\">                0</td><td style=\"text-align: right;\">               0</td><td style=\"text-align: right;\">               0</td><td style=\"text-align: right;\">              0</td><td style=\"text-align: right;\">              0</td><td style=\"text-align: right;\">             0</td><td style=\"text-align: right;\">                     0</td><td style=\"text-align: right;\">                    0</td><td style=\"text-align: right;\">                   0</td><td style=\"text-align: right;\">                  0</td><td style=\"text-align: right;\">                 0</td><td style=\"text-align: right;\">                0</td><td style=\"text-align: right;\">                0</td><td style=\"text-align: right;\">               0</td><td style=\"text-align: right;\">                1</td><td style=\"text-align: right;\">               0</td><td style=\"text-align: right;\">                1</td><td style=\"text-align: right;\">               0</td><td style=\"text-align: right;\">                 0</td><td style=\"text-align: right;\">                0</td><td style=\"text-align: right;\">                 0</td><td style=\"text-align: right;\">                0</td><td style=\"text-align: right;\">                    0</td><td style=\"text-align: right;\">                   0</td><td style=\"text-align: right;\">               2</td><td style=\"text-align: right;\">              0</td><td style=\"text-align: right;\">               0</td><td style=\"text-align: right;\">              0</td><td style=\"text-align: right;\">                1</td><td style=\"text-align: right;\">               0</td><td style=\"text-align: right;\">               0</td><td style=\"text-align: right;\">              0</td><td style=\"text-align: right;\">                     0</td><td style=\"text-align: right;\">                    0</td><td style=\"text-align: right;\">                     2</td><td style=\"text-align: right;\">                    0</td><td style=\"text-align: right;\">                        1</td><td style=\"text-align: right;\">                       0</td><td style=\"text-align: right;\">                             0</td><td style=\"text-align: right;\">                            0</td><td style=\"text-align: right;\">                          0</td><td style=\"text-align: right;\">                         0</td><td style=\"text-align: right;\">                        0</td><td style=\"text-align: right;\">                       0</td><td style=\"text-align: right;\">             0</td></tr>\n",
              "<tr><td style=\"text-align: right;\">     174.97</td><td style=\"text-align: right;\">         2</td><td style=\"text-align: right;\">        0</td><td style=\"text-align: right;\">    1</td><td style=\"text-align: right;\">             0</td><td style=\"text-align: right;\">        500</td><td style=\"text-align: right;\">       500</td><td style=\"text-align: right;\">       196</td><td style=\"text-align: right;\">        0</td><td style=\"text-align: right;\">     19800</td><td style=\"text-align: right;\">    23450</td><td style=\"text-align: right;\">           2</td><td style=\"text-align: right;\">          0</td><td style=\"text-align: right;\">               0</td><td style=\"text-align: right;\">                 5</td><td style=\"text-align: right;\">                5</td><td style=\"text-align: right;\">               0</td><td style=\"text-align: right;\">              0</td><td style=\"text-align: right;\">              0</td><td style=\"text-align: right;\">             0</td><td style=\"text-align: right;\">              0</td><td style=\"text-align: right;\">             0</td><td style=\"text-align: right;\">                0</td><td style=\"text-align: right;\">               0</td><td style=\"text-align: right;\">                   0</td><td style=\"text-align: right;\">                  0</td><td style=\"text-align: right;\">                0</td><td style=\"text-align: right;\">               0</td><td style=\"text-align: right;\">                1</td><td style=\"text-align: right;\">               0</td><td style=\"text-align: right;\">                0</td><td style=\"text-align: right;\">               0</td><td style=\"text-align: right;\">                  0</td><td style=\"text-align: right;\">                 0</td><td style=\"text-align: right;\">                0</td><td style=\"text-align: right;\">               5</td><td style=\"text-align: right;\">               0</td><td style=\"text-align: right;\">              0</td><td style=\"text-align: right;\">                0</td><td style=\"text-align: right;\">               0</td><td style=\"text-align: right;\">               0</td><td style=\"text-align: right;\">              0</td><td style=\"text-align: right;\">                0</td><td style=\"text-align: right;\">               0</td><td style=\"text-align: right;\">               0</td><td style=\"text-align: right;\">              0</td><td style=\"text-align: right;\">                0</td><td style=\"text-align: right;\">               0</td><td style=\"text-align: right;\">              0</td><td style=\"text-align: right;\">             0</td><td style=\"text-align: right;\">              0</td><td style=\"text-align: right;\">             0</td><td style=\"text-align: right;\">                0</td><td style=\"text-align: right;\">               0</td><td style=\"text-align: right;\">               0</td><td style=\"text-align: right;\">              0</td><td style=\"text-align: right;\">              0</td><td style=\"text-align: right;\">             0</td><td style=\"text-align: right;\">                     0</td><td style=\"text-align: right;\">                    0</td><td style=\"text-align: right;\">                   0</td><td style=\"text-align: right;\">                  0</td><td style=\"text-align: right;\">                 0</td><td style=\"text-align: right;\">                0</td><td style=\"text-align: right;\">                0</td><td style=\"text-align: right;\">               0</td><td style=\"text-align: right;\">                1</td><td style=\"text-align: right;\">               0</td><td style=\"text-align: right;\">                0</td><td style=\"text-align: right;\">               0</td><td style=\"text-align: right;\">                 0</td><td style=\"text-align: right;\">                0</td><td style=\"text-align: right;\">                 0</td><td style=\"text-align: right;\">                0</td><td style=\"text-align: right;\">                    0</td><td style=\"text-align: right;\">                   0</td><td style=\"text-align: right;\">               4</td><td style=\"text-align: right;\">              0</td><td style=\"text-align: right;\">               0</td><td style=\"text-align: right;\">              0</td><td style=\"text-align: right;\">                1</td><td style=\"text-align: right;\">               0</td><td style=\"text-align: right;\">               0</td><td style=\"text-align: right;\">              0</td><td style=\"text-align: right;\">                     0</td><td style=\"text-align: right;\">                    0</td><td style=\"text-align: right;\">                     1</td><td style=\"text-align: right;\">                    0</td><td style=\"text-align: right;\">                        1</td><td style=\"text-align: right;\">                       0</td><td style=\"text-align: right;\">                             0</td><td style=\"text-align: right;\">                            0</td><td style=\"text-align: right;\">                          0</td><td style=\"text-align: right;\">                         0</td><td style=\"text-align: right;\">                        0</td><td style=\"text-align: right;\">                       0</td><td style=\"text-align: right;\">             0</td></tr>\n",
              "<tr><td style=\"text-align: right;\">     114.97</td><td style=\"text-align: right;\">         2</td><td style=\"text-align: right;\">        0</td><td style=\"text-align: right;\">    1</td><td style=\"text-align: right;\">             0</td><td style=\"text-align: right;\">        500</td><td style=\"text-align: right;\">       500</td><td style=\"text-align: right;\">       496</td><td style=\"text-align: right;\">      500</td><td style=\"text-align: right;\">      2200</td><td style=\"text-align: right;\">     1000</td><td style=\"text-align: right;\">           4</td><td style=\"text-align: right;\">          5</td><td style=\"text-align: right;\">               2</td><td style=\"text-align: right;\">                 5</td><td style=\"text-align: right;\">                5</td><td style=\"text-align: right;\">               0</td><td style=\"text-align: right;\">              5</td><td style=\"text-align: right;\">              0</td><td style=\"text-align: right;\">             0</td><td style=\"text-align: right;\">              1</td><td style=\"text-align: right;\">             0</td><td style=\"text-align: right;\">                0</td><td style=\"text-align: right;\">               0</td><td style=\"text-align: right;\">                   0</td><td style=\"text-align: right;\">                  0</td><td style=\"text-align: right;\">                0</td><td style=\"text-align: right;\">               0</td><td style=\"text-align: right;\">                1</td><td style=\"text-align: right;\">               0</td><td style=\"text-align: right;\">                0</td><td style=\"text-align: right;\">               0</td><td style=\"text-align: right;\">                  0</td><td style=\"text-align: right;\">                 0</td><td style=\"text-align: right;\">                0</td><td style=\"text-align: right;\">               5</td><td style=\"text-align: right;\">               0</td><td style=\"text-align: right;\">              0</td><td style=\"text-align: right;\">                0</td><td style=\"text-align: right;\">               0</td><td style=\"text-align: right;\">               2</td><td style=\"text-align: right;\">              0</td><td style=\"text-align: right;\">                0</td><td style=\"text-align: right;\">               0</td><td style=\"text-align: right;\">               0</td><td style=\"text-align: right;\">              0</td><td style=\"text-align: right;\">                0</td><td style=\"text-align: right;\">               0</td><td style=\"text-align: right;\">              0</td><td style=\"text-align: right;\">             0</td><td style=\"text-align: right;\">              0</td><td style=\"text-align: right;\">             0</td><td style=\"text-align: right;\">                0</td><td style=\"text-align: right;\">               0</td><td style=\"text-align: right;\">               0</td><td style=\"text-align: right;\">              0</td><td style=\"text-align: right;\">              0</td><td style=\"text-align: right;\">             0</td><td style=\"text-align: right;\">                     0</td><td style=\"text-align: right;\">                    0</td><td style=\"text-align: right;\">                   0</td><td style=\"text-align: right;\">                  0</td><td style=\"text-align: right;\">                 0</td><td style=\"text-align: right;\">                0</td><td style=\"text-align: right;\">                0</td><td style=\"text-align: right;\">               0</td><td style=\"text-align: right;\">                1</td><td style=\"text-align: right;\">               0</td><td style=\"text-align: right;\">                0</td><td style=\"text-align: right;\">               0</td><td style=\"text-align: right;\">                 0</td><td style=\"text-align: right;\">                0</td><td style=\"text-align: right;\">                 0</td><td style=\"text-align: right;\">                0</td><td style=\"text-align: right;\">                    0</td><td style=\"text-align: right;\">                   0</td><td style=\"text-align: right;\">               4</td><td style=\"text-align: right;\">              0</td><td style=\"text-align: right;\">               0</td><td style=\"text-align: right;\">              0</td><td style=\"text-align: right;\">                1</td><td style=\"text-align: right;\">               0</td><td style=\"text-align: right;\">               0</td><td style=\"text-align: right;\">              0</td><td style=\"text-align: right;\">                     1</td><td style=\"text-align: right;\">                    0</td><td style=\"text-align: right;\">                     4</td><td style=\"text-align: right;\">                    5</td><td style=\"text-align: right;\">                        4</td><td style=\"text-align: right;\">                       5</td><td style=\"text-align: right;\">                             2</td><td style=\"text-align: right;\">                            0</td><td style=\"text-align: right;\">                          0</td><td style=\"text-align: right;\">                         1</td><td style=\"text-align: right;\">                        0</td><td style=\"text-align: right;\">                       1</td><td style=\"text-align: right;\">             1</td></tr>\n",
              "</tbody>\n",
              "</table><pre style='font-size: smaller; margin-bottom: 1em;'>[85666 rows x 97 columns]</pre>"
            ]
          },
          "metadata": {},
          "execution_count": 28
        }
      ],
      "source": [
        "df_train"
      ]
    },
    {
      "cell_type": "markdown",
      "source": [
        "## Removing target variable and unnecessary features"
      ],
      "metadata": {
        "id": "uuEri1JVPcIe"
      }
    },
    {
      "cell_type": "markdown",
      "source": [
        "This code defines the target variable y as the \"round_winner\" column of the H2O dataframe df, and the input variables x as all the columns in df except for the \"round_winner\" column and a set of specific columns that are being removed. These specific columns are the ones that are considered to contribute the least to predicting the target variable."
      ],
      "metadata": {
        "id": "YQyz4IFLgAUw"
      }
    },
    {
      "cell_type": "code",
      "execution_count": 29,
      "metadata": {
        "id": "o-7_ayI1UldR"
      },
      "outputs": [],
      "source": [
        "\n",
        "#Removing target variable from dataset. to create input varaibles and output (or) target variable.\n",
        "y = \"round_winner\"\n",
        "x = df.columns\n",
        "x.remove(y)\n",
        "#removing features which are contributing the lowest to predict the output (or) target variable.\n",
        "x.remove(\"t_weapon_scar20\")\n",
        "x.remove(\"t_weapon_p90\")\n",
        "x.remove(\"ct_weapon_p90\")\n",
        "x.remove(\"t_weapon_xm1014\")\n",
        "x.remove(\"t_weapon_nova\")\n",
        "x.remove(\"t_weapon_bizon\")\n",
        "x.remove(\"t_weapon_mag7\")\n",
        "x.remove(\"t_weapon_negev\")\n",
        "x.remove(\"t_weapon_r8revolver\")\n",
        "x.remove(\"t_weapon_sawedoff\")\n",
        "x.remove(\"ct_weapon_g3sg1\")\n",
        "x.remove(\"t_weapon_m249\")\n",
        "x.remove(\"ct_weapon_negev\")\n",
        "x.remove(\"ct_weapon_bizon\")\n",
        "x.remove(\"ct_weapon_sawedoff\")\n",
        "x.remove(\"ct_weapon_r8revolver\")\n",
        "x.remove(\"ct_weapon_m249\")\n"
      ]
    },
    {
      "cell_type": "markdown",
      "source": [
        "## Identifing predictor significance"
      ],
      "metadata": {
        "id": "Tx3zz9iAT3Hv"
      }
    },
    {
      "cell_type": "markdown",
      "source": [
        "The below code performs Ordinary Least Squares (OLS) regression using the statsmodels library in Python to calculate the p-values of each feature in the data set. The 'round_winner' column is removed from the dataset, and then the OLS model is fit with the target variable 'round_winner' against all remaining features in the dataset. The output of the model summary includes information about the regression coefficients, standard errors, t-values, p-values, and confidence intervals for each feature. This information can be used to identify the significant features that have a statistically significant relationship with the target variable."
      ],
      "metadata": {
        "id": "DMUB7vFCgP9E"
      }
    },
    {
      "cell_type": "code",
      "source": [
        "#Using OLS for finding the p value to check the significant features\n",
        "import statsmodels.api as sm\n",
        "\n",
        "data3=data.drop('round_winner', axis = 1)\n",
        "\n",
        "model = sm.OLS(data['round_winner'],data3).fit()\n",
        "\n",
        "# Print out the statistics\n",
        "model.summary()"
      ],
      "metadata": {
        "colab": {
          "base_uri": "https://localhost:8080/",
          "height": 0
        },
        "id": "vYFzwzesPla9",
        "outputId": "e2a8e6da-a915-4391-a0fb-08882d0bf057"
      },
      "execution_count": 30,
      "outputs": [
        {
          "output_type": "execute_result",
          "data": {
            "text/plain": [
              "<class 'statsmodels.iolib.summary.Summary'>\n",
              "\"\"\"\n",
              "                                 OLS Regression Results                                \n",
              "=======================================================================================\n",
              "Dep. Variable:           round_winner   R-squared (uncentered):                   0.670\n",
              "Model:                            OLS   Adj. R-squared (uncentered):              0.670\n",
              "Method:                 Least Squares   F-statistic:                              2762.\n",
              "Date:                Wed, 01 Mar 2023   Prob (F-statistic):                        0.00\n",
              "Time:                        04:18:44   Log-Likelihood:                         -64570.\n",
              "No. Observations:              122410   AIC:                                  1.293e+05\n",
              "Df Residuals:                  122320   BIC:                                  1.302e+05\n",
              "Df Model:                          90                                                  \n",
              "Covariance Type:            nonrobust                                                  \n",
              "================================================================================================\n",
              "                                   coef    std err          t      P>|t|      [0.025      0.975]\n",
              "------------------------------------------------------------------------------------------------\n",
              "time_left                        0.0010   4.88e-05     20.290      0.000       0.001       0.001\n",
              "ct_score                         0.0013      0.000      3.781      0.000       0.001       0.002\n",
              "t_score                          0.0023      0.000      6.786      0.000       0.002       0.003\n",
              "map                              0.0046      0.001      7.787      0.000       0.003       0.006\n",
              "bomb_planted                     0.2693      0.004     62.388      0.000       0.261       0.278\n",
              "ct_health                       -0.0011   4.21e-05    -25.946      0.000      -0.001      -0.001\n",
              "t_health                        -0.0002   3.38e-05     -7.049      0.000      -0.000      -0.000\n",
              "ct_armor                        -0.0005   1.67e-05    -28.201      0.000      -0.001      -0.000\n",
              "t_armor                          0.0006   1.98e-05     28.192      0.000       0.001       0.001\n",
              "ct_money                     -3.703e-06   1.69e-07    -21.892      0.000   -4.03e-06   -3.37e-06\n",
              "t_money                        1.78e-06    1.5e-07     11.892      0.000    1.49e-06    2.07e-06\n",
              "ct_helmets                       0.0010      0.001      0.707      0.480      -0.002       0.004\n",
              "t_helmets                        0.0067      0.003      2.502      0.012       0.001       0.012\n",
              "ct_defuse_kits                  -0.0003      0.002     -0.216      0.829      -0.003       0.003\n",
              "ct_players_alive                 0.0676      0.011      5.971      0.000       0.045       0.090\n",
              "t_players_alive                  0.1135      0.010     11.131      0.000       0.094       0.133\n",
              "ct_weapon_ak47                  -0.0414      0.003    -15.193      0.000      -0.047      -0.036\n",
              "t_weapon_ak47                    0.0838      0.003     32.329      0.000       0.079       0.089\n",
              "ct_weapon_aug                   -0.0650      0.003    -20.720      0.000      -0.071      -0.059\n",
              "t_weapon_aug                     0.0823      0.013      6.285      0.000       0.057       0.108\n",
              "ct_weapon_awp                   -0.0636      0.003    -24.367      0.000      -0.069      -0.058\n",
              "t_weapon_awp                     0.1047      0.003     30.004      0.000       0.098       0.112\n",
              "ct_weapon_bizon                2.86e-15   1.44e-15      1.991      0.046    4.44e-17    5.68e-15\n",
              "t_weapon_bizon                   0.0201      0.130      0.154      0.878      -0.235       0.276\n",
              "ct_weapon_cz75auto               0.0136      0.011      1.247      0.212      -0.008       0.035\n",
              "t_weapon_cz75auto                0.0190      0.010      1.875      0.061      -0.001       0.039\n",
              "ct_weapon_elite                 -0.0144      0.021     -0.671      0.502      -0.056       0.028\n",
              "t_weapon_elite                   0.0555      0.030      1.878      0.060      -0.002       0.113\n",
              "ct_weapon_famas                 -0.0509      0.004    -14.186      0.000      -0.058      -0.044\n",
              "t_weapon_famas                   0.1184      0.017      7.022      0.000       0.085       0.151\n",
              "ct_weapon_g3sg1               4.768e-15    3.6e-15      1.323      0.186   -2.29e-15    1.18e-14\n",
              "t_weapon_g3sg1                   0.0920      0.032      2.898      0.004       0.030       0.154\n",
              "ct_weapon_galilar               -0.0582      0.011     -5.478      0.000      -0.079      -0.037\n",
              "t_weapon_galilar                 0.0584      0.004     15.161      0.000       0.051       0.066\n",
              "ct_weapon_glock                  0.0547      0.017      3.214      0.001       0.021       0.088\n",
              "t_weapon_glock                  -0.0035      0.010     -0.359      0.720      -0.022       0.015\n",
              "ct_weapon_m249                   0.5672      0.410      1.382      0.167      -0.237       1.371\n",
              "t_weapon_m249                -5.447e-15   5.08e-15     -1.072      0.284   -1.54e-14    4.51e-15\n",
              "ct_weapon_m4a1s                 -0.0560      0.005    -11.503      0.000      -0.065      -0.046\n",
              "t_weapon_m4a1s                   0.1517      0.022      6.818      0.000       0.108       0.195\n",
              "ct_weapon_m4a4                  -0.0573      0.002    -28.027      0.000      -0.061      -0.053\n",
              "t_weapon_m4a4                    0.0833      0.005     16.082      0.000       0.073       0.093\n",
              "ct_weapon_mac10                 -0.0057      0.013     -0.453      0.650      -0.030       0.019\n",
              "t_weapon_mac10                   0.0516      0.004     12.852      0.000       0.044       0.060\n",
              "ct_weapon_mag7                  -0.0403      0.018     -2.297      0.022      -0.075      -0.006\n",
              "t_weapon_mag7                    0.1488      0.168      0.887      0.375      -0.180       0.477\n",
              "ct_weapon_mp5sd                 -0.0450      0.031     -1.457      0.145      -0.105       0.016\n",
              "t_weapon_mp5sd                   0.1100      0.022      5.009      0.000       0.067       0.153\n",
              "ct_weapon_mp7                    0.0447      0.026      1.736      0.083      -0.006       0.095\n",
              "t_weapon_mp7                    -0.0116      0.026     -0.439      0.661      -0.064       0.040\n",
              "ct_weapon_mp9                   -0.0319      0.003     -9.779      0.000      -0.038      -0.026\n",
              "t_weapon_mp9                     0.0972      0.015      6.620      0.000       0.068       0.126\n",
              "ct_weapon_negev               2.113e-15   9.17e-16      2.304      0.021    3.15e-16    3.91e-15\n",
              "t_weapon_negev                  -0.4448      0.410     -1.084      0.278      -1.249       0.359\n",
              "ct_weapon_nova                  -0.0724      0.038     -1.924      0.054      -0.146       0.001\n",
              "t_weapon_nova                   -0.2392      0.114     -2.099      0.036      -0.463      -0.016\n",
              "ct_weapon_p90                   -0.2580      0.092     -2.809      0.005      -0.438      -0.078\n",
              "t_weapon_p90                     0.2392      0.094      2.538      0.011       0.054       0.424\n",
              "ct_weapon_r8revolver         -8.249e-16   1.29e-15     -0.638      0.523   -3.36e-15    1.71e-15\n",
              "t_weapon_r8revolver             -0.1052      0.155     -0.677      0.498      -0.410       0.199\n",
              "ct_weapon_sawedoff            1.123e-15   7.58e-16      1.482      0.138   -3.63e-16    2.61e-15\n",
              "t_weapon_sawedoff                0.1858      0.100      1.866      0.062      -0.009       0.381\n",
              "ct_weapon_scar20                 0.0406      0.044      0.926      0.355      -0.045       0.127\n",
              "t_weapon_scar20                 -0.6325      0.410     -1.541      0.123      -1.437       0.172\n",
              "ct_weapon_sg553                 -0.0528      0.003    -18.329      0.000      -0.058      -0.047\n",
              "t_weapon_sg553                   0.0904      0.003     33.821      0.000       0.085       0.096\n",
              "ct_weapon_ssg08                 -0.0463      0.005     -9.207      0.000      -0.056      -0.036\n",
              "t_weapon_ssg08                   0.0436      0.009      5.112      0.000       0.027       0.060\n",
              "ct_weapon_ump45                 -0.0261      0.006     -4.712      0.000      -0.037      -0.015\n",
              "t_weapon_ump45                   0.0688      0.006     10.908      0.000       0.056       0.081\n",
              "ct_weapon_xm1014                -0.0299      0.014     -2.217      0.027      -0.056      -0.003\n",
              "t_weapon_xm1014                  0.0543      0.073      0.747      0.455      -0.088       0.197\n",
              "ct_weapon_deagle                 0.0119      0.011      1.115      0.265      -0.009       0.033\n",
              "t_weapon_deagle                  0.0151      0.010      1.549      0.121      -0.004       0.034\n",
              "ct_weapon_fiveseven              0.0266      0.011      2.347      0.019       0.004       0.049\n",
              "t_weapon_fiveseven              -0.0406      0.015     -2.654      0.008      -0.071      -0.011\n",
              "ct_weapon_usps                   0.0182      0.011      1.724      0.085      -0.002       0.039\n",
              "t_weapon_usps                    0.0351      0.010      3.486      0.000       0.015       0.055\n",
              "ct_weapon_p250                   0.0276      0.011      2.552      0.011       0.006       0.049\n",
              "t_weapon_p250                    0.0108      0.010      1.091      0.275      -0.009       0.030\n",
              "ct_weapon_p2000                  0.0261      0.011      2.394      0.017       0.005       0.047\n",
              "t_weapon_p2000                   0.0558      0.019      3.013      0.003       0.020       0.092\n",
              "ct_weapon_tec9                  -0.0047      0.016     -0.286      0.775      -0.037       0.027\n",
              "t_weapon_tec9                    0.0137      0.012      1.190      0.234      -0.009       0.036\n",
              "ct_grenade_hegrenade             0.0004      0.002      0.278      0.781      -0.003       0.004\n",
              "t_grenade_hegrenade           -9.79e-05      0.002     -0.054      0.957      -0.004       0.003\n",
              "ct_grenade_flashbang            -0.0003      0.002     -0.183      0.855      -0.003       0.003\n",
              "t_grenade_flashbang             -0.0209      0.001    -14.393      0.000      -0.024      -0.018\n",
              "ct_grenade_smokegrenade         -0.0024      0.001     -1.580      0.114      -0.005       0.001\n",
              "t_grenade_smokegrenade          -0.0229      0.001    -16.319      0.000      -0.026      -0.020\n",
              "ct_grenade_incendiarygrenade     0.0100      0.002      6.281      0.000       0.007       0.013\n",
              "t_grenade_incendiarygrenade     -0.0047      0.008     -0.569      0.569      -0.021       0.012\n",
              "ct_grenade_molotovgrenade        0.0082      0.005      1.530      0.126      -0.002       0.019\n",
              "t_grenade_molotovgrenade        -0.0124      0.001     -8.568      0.000      -0.015      -0.010\n",
              "ct_grenade_decoygrenade         -0.0004      0.007     -0.053      0.958      -0.014       0.013\n",
              "t_grenade_decoygrenade           0.0316      0.007      4.350      0.000       0.017       0.046\n",
              "==============================================================================\n",
              "Omnibus:                    28273.929   Durbin-Watson:                   0.457\n",
              "Prob(Omnibus):                  0.000   Jarque-Bera (JB):             5119.507\n",
              "Skew:                           0.023   Prob(JB):                         0.00\n",
              "Kurtosis:                       1.999   Cond. No.                     1.28e+16\n",
              "==============================================================================\n",
              "\n",
              "Notes:\n",
              "[1] R² is computed without centering (uncentered) since the model does not contain a constant.\n",
              "[2] Standard Errors assume that the covariance matrix of the errors is correctly specified.\n",
              "[3] The smallest eigenvalue is 3.09e-19. This might indicate that there are\n",
              "strong multicollinearity problems or that the design matrix is singular.\n",
              "\"\"\""
            ],
            "text/html": [
              "<table class=\"simpletable\">\n",
              "<caption>OLS Regression Results</caption>\n",
              "<tr>\n",
              "  <th>Dep. Variable:</th>      <td>round_winner</td>   <th>  R-squared (uncentered):</th>      <td>   0.670</td> \n",
              "</tr>\n",
              "<tr>\n",
              "  <th>Model:</th>                   <td>OLS</td>       <th>  Adj. R-squared (uncentered):</th> <td>   0.670</td> \n",
              "</tr>\n",
              "<tr>\n",
              "  <th>Method:</th>             <td>Least Squares</td>  <th>  F-statistic:       </th>          <td>   2762.</td> \n",
              "</tr>\n",
              "<tr>\n",
              "  <th>Date:</th>             <td>Wed, 01 Mar 2023</td> <th>  Prob (F-statistic):</th>           <td>  0.00</td>  \n",
              "</tr>\n",
              "<tr>\n",
              "  <th>Time:</th>                 <td>04:18:44</td>     <th>  Log-Likelihood:    </th>          <td> -64570.</td> \n",
              "</tr>\n",
              "<tr>\n",
              "  <th>No. Observations:</th>      <td>122410</td>      <th>  AIC:               </th>          <td>1.293e+05</td>\n",
              "</tr>\n",
              "<tr>\n",
              "  <th>Df Residuals:</th>          <td>122320</td>      <th>  BIC:               </th>          <td>1.302e+05</td>\n",
              "</tr>\n",
              "<tr>\n",
              "  <th>Df Model:</th>              <td>    90</td>      <th>                     </th>              <td> </td>    \n",
              "</tr>\n",
              "<tr>\n",
              "  <th>Covariance Type:</th>      <td>nonrobust</td>    <th>                     </th>              <td> </td>    \n",
              "</tr>\n",
              "</table>\n",
              "<table class=\"simpletable\">\n",
              "<tr>\n",
              "                <td></td>                  <th>coef</th>     <th>std err</th>      <th>t</th>      <th>P>|t|</th>  <th>[0.025</th>    <th>0.975]</th>  \n",
              "</tr>\n",
              "<tr>\n",
              "  <th>time_left</th>                    <td>    0.0010</td> <td> 4.88e-05</td> <td>   20.290</td> <td> 0.000</td> <td>    0.001</td> <td>    0.001</td>\n",
              "</tr>\n",
              "<tr>\n",
              "  <th>ct_score</th>                     <td>    0.0013</td> <td>    0.000</td> <td>    3.781</td> <td> 0.000</td> <td>    0.001</td> <td>    0.002</td>\n",
              "</tr>\n",
              "<tr>\n",
              "  <th>t_score</th>                      <td>    0.0023</td> <td>    0.000</td> <td>    6.786</td> <td> 0.000</td> <td>    0.002</td> <td>    0.003</td>\n",
              "</tr>\n",
              "<tr>\n",
              "  <th>map</th>                          <td>    0.0046</td> <td>    0.001</td> <td>    7.787</td> <td> 0.000</td> <td>    0.003</td> <td>    0.006</td>\n",
              "</tr>\n",
              "<tr>\n",
              "  <th>bomb_planted</th>                 <td>    0.2693</td> <td>    0.004</td> <td>   62.388</td> <td> 0.000</td> <td>    0.261</td> <td>    0.278</td>\n",
              "</tr>\n",
              "<tr>\n",
              "  <th>ct_health</th>                    <td>   -0.0011</td> <td> 4.21e-05</td> <td>  -25.946</td> <td> 0.000</td> <td>   -0.001</td> <td>   -0.001</td>\n",
              "</tr>\n",
              "<tr>\n",
              "  <th>t_health</th>                     <td>   -0.0002</td> <td> 3.38e-05</td> <td>   -7.049</td> <td> 0.000</td> <td>   -0.000</td> <td>   -0.000</td>\n",
              "</tr>\n",
              "<tr>\n",
              "  <th>ct_armor</th>                     <td>   -0.0005</td> <td> 1.67e-05</td> <td>  -28.201</td> <td> 0.000</td> <td>   -0.001</td> <td>   -0.000</td>\n",
              "</tr>\n",
              "<tr>\n",
              "  <th>t_armor</th>                      <td>    0.0006</td> <td> 1.98e-05</td> <td>   28.192</td> <td> 0.000</td> <td>    0.001</td> <td>    0.001</td>\n",
              "</tr>\n",
              "<tr>\n",
              "  <th>ct_money</th>                     <td>-3.703e-06</td> <td> 1.69e-07</td> <td>  -21.892</td> <td> 0.000</td> <td>-4.03e-06</td> <td>-3.37e-06</td>\n",
              "</tr>\n",
              "<tr>\n",
              "  <th>t_money</th>                      <td>  1.78e-06</td> <td>  1.5e-07</td> <td>   11.892</td> <td> 0.000</td> <td> 1.49e-06</td> <td> 2.07e-06</td>\n",
              "</tr>\n",
              "<tr>\n",
              "  <th>ct_helmets</th>                   <td>    0.0010</td> <td>    0.001</td> <td>    0.707</td> <td> 0.480</td> <td>   -0.002</td> <td>    0.004</td>\n",
              "</tr>\n",
              "<tr>\n",
              "  <th>t_helmets</th>                    <td>    0.0067</td> <td>    0.003</td> <td>    2.502</td> <td> 0.012</td> <td>    0.001</td> <td>    0.012</td>\n",
              "</tr>\n",
              "<tr>\n",
              "  <th>ct_defuse_kits</th>               <td>   -0.0003</td> <td>    0.002</td> <td>   -0.216</td> <td> 0.829</td> <td>   -0.003</td> <td>    0.003</td>\n",
              "</tr>\n",
              "<tr>\n",
              "  <th>ct_players_alive</th>             <td>    0.0676</td> <td>    0.011</td> <td>    5.971</td> <td> 0.000</td> <td>    0.045</td> <td>    0.090</td>\n",
              "</tr>\n",
              "<tr>\n",
              "  <th>t_players_alive</th>              <td>    0.1135</td> <td>    0.010</td> <td>   11.131</td> <td> 0.000</td> <td>    0.094</td> <td>    0.133</td>\n",
              "</tr>\n",
              "<tr>\n",
              "  <th>ct_weapon_ak47</th>               <td>   -0.0414</td> <td>    0.003</td> <td>  -15.193</td> <td> 0.000</td> <td>   -0.047</td> <td>   -0.036</td>\n",
              "</tr>\n",
              "<tr>\n",
              "  <th>t_weapon_ak47</th>                <td>    0.0838</td> <td>    0.003</td> <td>   32.329</td> <td> 0.000</td> <td>    0.079</td> <td>    0.089</td>\n",
              "</tr>\n",
              "<tr>\n",
              "  <th>ct_weapon_aug</th>                <td>   -0.0650</td> <td>    0.003</td> <td>  -20.720</td> <td> 0.000</td> <td>   -0.071</td> <td>   -0.059</td>\n",
              "</tr>\n",
              "<tr>\n",
              "  <th>t_weapon_aug</th>                 <td>    0.0823</td> <td>    0.013</td> <td>    6.285</td> <td> 0.000</td> <td>    0.057</td> <td>    0.108</td>\n",
              "</tr>\n",
              "<tr>\n",
              "  <th>ct_weapon_awp</th>                <td>   -0.0636</td> <td>    0.003</td> <td>  -24.367</td> <td> 0.000</td> <td>   -0.069</td> <td>   -0.058</td>\n",
              "</tr>\n",
              "<tr>\n",
              "  <th>t_weapon_awp</th>                 <td>    0.1047</td> <td>    0.003</td> <td>   30.004</td> <td> 0.000</td> <td>    0.098</td> <td>    0.112</td>\n",
              "</tr>\n",
              "<tr>\n",
              "  <th>ct_weapon_bizon</th>              <td>  2.86e-15</td> <td> 1.44e-15</td> <td>    1.991</td> <td> 0.046</td> <td> 4.44e-17</td> <td> 5.68e-15</td>\n",
              "</tr>\n",
              "<tr>\n",
              "  <th>t_weapon_bizon</th>               <td>    0.0201</td> <td>    0.130</td> <td>    0.154</td> <td> 0.878</td> <td>   -0.235</td> <td>    0.276</td>\n",
              "</tr>\n",
              "<tr>\n",
              "  <th>ct_weapon_cz75auto</th>           <td>    0.0136</td> <td>    0.011</td> <td>    1.247</td> <td> 0.212</td> <td>   -0.008</td> <td>    0.035</td>\n",
              "</tr>\n",
              "<tr>\n",
              "  <th>t_weapon_cz75auto</th>            <td>    0.0190</td> <td>    0.010</td> <td>    1.875</td> <td> 0.061</td> <td>   -0.001</td> <td>    0.039</td>\n",
              "</tr>\n",
              "<tr>\n",
              "  <th>ct_weapon_elite</th>              <td>   -0.0144</td> <td>    0.021</td> <td>   -0.671</td> <td> 0.502</td> <td>   -0.056</td> <td>    0.028</td>\n",
              "</tr>\n",
              "<tr>\n",
              "  <th>t_weapon_elite</th>               <td>    0.0555</td> <td>    0.030</td> <td>    1.878</td> <td> 0.060</td> <td>   -0.002</td> <td>    0.113</td>\n",
              "</tr>\n",
              "<tr>\n",
              "  <th>ct_weapon_famas</th>              <td>   -0.0509</td> <td>    0.004</td> <td>  -14.186</td> <td> 0.000</td> <td>   -0.058</td> <td>   -0.044</td>\n",
              "</tr>\n",
              "<tr>\n",
              "  <th>t_weapon_famas</th>               <td>    0.1184</td> <td>    0.017</td> <td>    7.022</td> <td> 0.000</td> <td>    0.085</td> <td>    0.151</td>\n",
              "</tr>\n",
              "<tr>\n",
              "  <th>ct_weapon_g3sg1</th>              <td> 4.768e-15</td> <td>  3.6e-15</td> <td>    1.323</td> <td> 0.186</td> <td>-2.29e-15</td> <td> 1.18e-14</td>\n",
              "</tr>\n",
              "<tr>\n",
              "  <th>t_weapon_g3sg1</th>               <td>    0.0920</td> <td>    0.032</td> <td>    2.898</td> <td> 0.004</td> <td>    0.030</td> <td>    0.154</td>\n",
              "</tr>\n",
              "<tr>\n",
              "  <th>ct_weapon_galilar</th>            <td>   -0.0582</td> <td>    0.011</td> <td>   -5.478</td> <td> 0.000</td> <td>   -0.079</td> <td>   -0.037</td>\n",
              "</tr>\n",
              "<tr>\n",
              "  <th>t_weapon_galilar</th>             <td>    0.0584</td> <td>    0.004</td> <td>   15.161</td> <td> 0.000</td> <td>    0.051</td> <td>    0.066</td>\n",
              "</tr>\n",
              "<tr>\n",
              "  <th>ct_weapon_glock</th>              <td>    0.0547</td> <td>    0.017</td> <td>    3.214</td> <td> 0.001</td> <td>    0.021</td> <td>    0.088</td>\n",
              "</tr>\n",
              "<tr>\n",
              "  <th>t_weapon_glock</th>               <td>   -0.0035</td> <td>    0.010</td> <td>   -0.359</td> <td> 0.720</td> <td>   -0.022</td> <td>    0.015</td>\n",
              "</tr>\n",
              "<tr>\n",
              "  <th>ct_weapon_m249</th>               <td>    0.5672</td> <td>    0.410</td> <td>    1.382</td> <td> 0.167</td> <td>   -0.237</td> <td>    1.371</td>\n",
              "</tr>\n",
              "<tr>\n",
              "  <th>t_weapon_m249</th>                <td>-5.447e-15</td> <td> 5.08e-15</td> <td>   -1.072</td> <td> 0.284</td> <td>-1.54e-14</td> <td> 4.51e-15</td>\n",
              "</tr>\n",
              "<tr>\n",
              "  <th>ct_weapon_m4a1s</th>              <td>   -0.0560</td> <td>    0.005</td> <td>  -11.503</td> <td> 0.000</td> <td>   -0.065</td> <td>   -0.046</td>\n",
              "</tr>\n",
              "<tr>\n",
              "  <th>t_weapon_m4a1s</th>               <td>    0.1517</td> <td>    0.022</td> <td>    6.818</td> <td> 0.000</td> <td>    0.108</td> <td>    0.195</td>\n",
              "</tr>\n",
              "<tr>\n",
              "  <th>ct_weapon_m4a4</th>               <td>   -0.0573</td> <td>    0.002</td> <td>  -28.027</td> <td> 0.000</td> <td>   -0.061</td> <td>   -0.053</td>\n",
              "</tr>\n",
              "<tr>\n",
              "  <th>t_weapon_m4a4</th>                <td>    0.0833</td> <td>    0.005</td> <td>   16.082</td> <td> 0.000</td> <td>    0.073</td> <td>    0.093</td>\n",
              "</tr>\n",
              "<tr>\n",
              "  <th>ct_weapon_mac10</th>              <td>   -0.0057</td> <td>    0.013</td> <td>   -0.453</td> <td> 0.650</td> <td>   -0.030</td> <td>    0.019</td>\n",
              "</tr>\n",
              "<tr>\n",
              "  <th>t_weapon_mac10</th>               <td>    0.0516</td> <td>    0.004</td> <td>   12.852</td> <td> 0.000</td> <td>    0.044</td> <td>    0.060</td>\n",
              "</tr>\n",
              "<tr>\n",
              "  <th>ct_weapon_mag7</th>               <td>   -0.0403</td> <td>    0.018</td> <td>   -2.297</td> <td> 0.022</td> <td>   -0.075</td> <td>   -0.006</td>\n",
              "</tr>\n",
              "<tr>\n",
              "  <th>t_weapon_mag7</th>                <td>    0.1488</td> <td>    0.168</td> <td>    0.887</td> <td> 0.375</td> <td>   -0.180</td> <td>    0.477</td>\n",
              "</tr>\n",
              "<tr>\n",
              "  <th>ct_weapon_mp5sd</th>              <td>   -0.0450</td> <td>    0.031</td> <td>   -1.457</td> <td> 0.145</td> <td>   -0.105</td> <td>    0.016</td>\n",
              "</tr>\n",
              "<tr>\n",
              "  <th>t_weapon_mp5sd</th>               <td>    0.1100</td> <td>    0.022</td> <td>    5.009</td> <td> 0.000</td> <td>    0.067</td> <td>    0.153</td>\n",
              "</tr>\n",
              "<tr>\n",
              "  <th>ct_weapon_mp7</th>                <td>    0.0447</td> <td>    0.026</td> <td>    1.736</td> <td> 0.083</td> <td>   -0.006</td> <td>    0.095</td>\n",
              "</tr>\n",
              "<tr>\n",
              "  <th>t_weapon_mp7</th>                 <td>   -0.0116</td> <td>    0.026</td> <td>   -0.439</td> <td> 0.661</td> <td>   -0.064</td> <td>    0.040</td>\n",
              "</tr>\n",
              "<tr>\n",
              "  <th>ct_weapon_mp9</th>                <td>   -0.0319</td> <td>    0.003</td> <td>   -9.779</td> <td> 0.000</td> <td>   -0.038</td> <td>   -0.026</td>\n",
              "</tr>\n",
              "<tr>\n",
              "  <th>t_weapon_mp9</th>                 <td>    0.0972</td> <td>    0.015</td> <td>    6.620</td> <td> 0.000</td> <td>    0.068</td> <td>    0.126</td>\n",
              "</tr>\n",
              "<tr>\n",
              "  <th>ct_weapon_negev</th>              <td> 2.113e-15</td> <td> 9.17e-16</td> <td>    2.304</td> <td> 0.021</td> <td> 3.15e-16</td> <td> 3.91e-15</td>\n",
              "</tr>\n",
              "<tr>\n",
              "  <th>t_weapon_negev</th>               <td>   -0.4448</td> <td>    0.410</td> <td>   -1.084</td> <td> 0.278</td> <td>   -1.249</td> <td>    0.359</td>\n",
              "</tr>\n",
              "<tr>\n",
              "  <th>ct_weapon_nova</th>               <td>   -0.0724</td> <td>    0.038</td> <td>   -1.924</td> <td> 0.054</td> <td>   -0.146</td> <td>    0.001</td>\n",
              "</tr>\n",
              "<tr>\n",
              "  <th>t_weapon_nova</th>                <td>   -0.2392</td> <td>    0.114</td> <td>   -2.099</td> <td> 0.036</td> <td>   -0.463</td> <td>   -0.016</td>\n",
              "</tr>\n",
              "<tr>\n",
              "  <th>ct_weapon_p90</th>                <td>   -0.2580</td> <td>    0.092</td> <td>   -2.809</td> <td> 0.005</td> <td>   -0.438</td> <td>   -0.078</td>\n",
              "</tr>\n",
              "<tr>\n",
              "  <th>t_weapon_p90</th>                 <td>    0.2392</td> <td>    0.094</td> <td>    2.538</td> <td> 0.011</td> <td>    0.054</td> <td>    0.424</td>\n",
              "</tr>\n",
              "<tr>\n",
              "  <th>ct_weapon_r8revolver</th>         <td>-8.249e-16</td> <td> 1.29e-15</td> <td>   -0.638</td> <td> 0.523</td> <td>-3.36e-15</td> <td> 1.71e-15</td>\n",
              "</tr>\n",
              "<tr>\n",
              "  <th>t_weapon_r8revolver</th>          <td>   -0.1052</td> <td>    0.155</td> <td>   -0.677</td> <td> 0.498</td> <td>   -0.410</td> <td>    0.199</td>\n",
              "</tr>\n",
              "<tr>\n",
              "  <th>ct_weapon_sawedoff</th>           <td> 1.123e-15</td> <td> 7.58e-16</td> <td>    1.482</td> <td> 0.138</td> <td>-3.63e-16</td> <td> 2.61e-15</td>\n",
              "</tr>\n",
              "<tr>\n",
              "  <th>t_weapon_sawedoff</th>            <td>    0.1858</td> <td>    0.100</td> <td>    1.866</td> <td> 0.062</td> <td>   -0.009</td> <td>    0.381</td>\n",
              "</tr>\n",
              "<tr>\n",
              "  <th>ct_weapon_scar20</th>             <td>    0.0406</td> <td>    0.044</td> <td>    0.926</td> <td> 0.355</td> <td>   -0.045</td> <td>    0.127</td>\n",
              "</tr>\n",
              "<tr>\n",
              "  <th>t_weapon_scar20</th>              <td>   -0.6325</td> <td>    0.410</td> <td>   -1.541</td> <td> 0.123</td> <td>   -1.437</td> <td>    0.172</td>\n",
              "</tr>\n",
              "<tr>\n",
              "  <th>ct_weapon_sg553</th>              <td>   -0.0528</td> <td>    0.003</td> <td>  -18.329</td> <td> 0.000</td> <td>   -0.058</td> <td>   -0.047</td>\n",
              "</tr>\n",
              "<tr>\n",
              "  <th>t_weapon_sg553</th>               <td>    0.0904</td> <td>    0.003</td> <td>   33.821</td> <td> 0.000</td> <td>    0.085</td> <td>    0.096</td>\n",
              "</tr>\n",
              "<tr>\n",
              "  <th>ct_weapon_ssg08</th>              <td>   -0.0463</td> <td>    0.005</td> <td>   -9.207</td> <td> 0.000</td> <td>   -0.056</td> <td>   -0.036</td>\n",
              "</tr>\n",
              "<tr>\n",
              "  <th>t_weapon_ssg08</th>               <td>    0.0436</td> <td>    0.009</td> <td>    5.112</td> <td> 0.000</td> <td>    0.027</td> <td>    0.060</td>\n",
              "</tr>\n",
              "<tr>\n",
              "  <th>ct_weapon_ump45</th>              <td>   -0.0261</td> <td>    0.006</td> <td>   -4.712</td> <td> 0.000</td> <td>   -0.037</td> <td>   -0.015</td>\n",
              "</tr>\n",
              "<tr>\n",
              "  <th>t_weapon_ump45</th>               <td>    0.0688</td> <td>    0.006</td> <td>   10.908</td> <td> 0.000</td> <td>    0.056</td> <td>    0.081</td>\n",
              "</tr>\n",
              "<tr>\n",
              "  <th>ct_weapon_xm1014</th>             <td>   -0.0299</td> <td>    0.014</td> <td>   -2.217</td> <td> 0.027</td> <td>   -0.056</td> <td>   -0.003</td>\n",
              "</tr>\n",
              "<tr>\n",
              "  <th>t_weapon_xm1014</th>              <td>    0.0543</td> <td>    0.073</td> <td>    0.747</td> <td> 0.455</td> <td>   -0.088</td> <td>    0.197</td>\n",
              "</tr>\n",
              "<tr>\n",
              "  <th>ct_weapon_deagle</th>             <td>    0.0119</td> <td>    0.011</td> <td>    1.115</td> <td> 0.265</td> <td>   -0.009</td> <td>    0.033</td>\n",
              "</tr>\n",
              "<tr>\n",
              "  <th>t_weapon_deagle</th>              <td>    0.0151</td> <td>    0.010</td> <td>    1.549</td> <td> 0.121</td> <td>   -0.004</td> <td>    0.034</td>\n",
              "</tr>\n",
              "<tr>\n",
              "  <th>ct_weapon_fiveseven</th>          <td>    0.0266</td> <td>    0.011</td> <td>    2.347</td> <td> 0.019</td> <td>    0.004</td> <td>    0.049</td>\n",
              "</tr>\n",
              "<tr>\n",
              "  <th>t_weapon_fiveseven</th>           <td>   -0.0406</td> <td>    0.015</td> <td>   -2.654</td> <td> 0.008</td> <td>   -0.071</td> <td>   -0.011</td>\n",
              "</tr>\n",
              "<tr>\n",
              "  <th>ct_weapon_usps</th>               <td>    0.0182</td> <td>    0.011</td> <td>    1.724</td> <td> 0.085</td> <td>   -0.002</td> <td>    0.039</td>\n",
              "</tr>\n",
              "<tr>\n",
              "  <th>t_weapon_usps</th>                <td>    0.0351</td> <td>    0.010</td> <td>    3.486</td> <td> 0.000</td> <td>    0.015</td> <td>    0.055</td>\n",
              "</tr>\n",
              "<tr>\n",
              "  <th>ct_weapon_p250</th>               <td>    0.0276</td> <td>    0.011</td> <td>    2.552</td> <td> 0.011</td> <td>    0.006</td> <td>    0.049</td>\n",
              "</tr>\n",
              "<tr>\n",
              "  <th>t_weapon_p250</th>                <td>    0.0108</td> <td>    0.010</td> <td>    1.091</td> <td> 0.275</td> <td>   -0.009</td> <td>    0.030</td>\n",
              "</tr>\n",
              "<tr>\n",
              "  <th>ct_weapon_p2000</th>              <td>    0.0261</td> <td>    0.011</td> <td>    2.394</td> <td> 0.017</td> <td>    0.005</td> <td>    0.047</td>\n",
              "</tr>\n",
              "<tr>\n",
              "  <th>t_weapon_p2000</th>               <td>    0.0558</td> <td>    0.019</td> <td>    3.013</td> <td> 0.003</td> <td>    0.020</td> <td>    0.092</td>\n",
              "</tr>\n",
              "<tr>\n",
              "  <th>ct_weapon_tec9</th>               <td>   -0.0047</td> <td>    0.016</td> <td>   -0.286</td> <td> 0.775</td> <td>   -0.037</td> <td>    0.027</td>\n",
              "</tr>\n",
              "<tr>\n",
              "  <th>t_weapon_tec9</th>                <td>    0.0137</td> <td>    0.012</td> <td>    1.190</td> <td> 0.234</td> <td>   -0.009</td> <td>    0.036</td>\n",
              "</tr>\n",
              "<tr>\n",
              "  <th>ct_grenade_hegrenade</th>         <td>    0.0004</td> <td>    0.002</td> <td>    0.278</td> <td> 0.781</td> <td>   -0.003</td> <td>    0.004</td>\n",
              "</tr>\n",
              "<tr>\n",
              "  <th>t_grenade_hegrenade</th>          <td> -9.79e-05</td> <td>    0.002</td> <td>   -0.054</td> <td> 0.957</td> <td>   -0.004</td> <td>    0.003</td>\n",
              "</tr>\n",
              "<tr>\n",
              "  <th>ct_grenade_flashbang</th>         <td>   -0.0003</td> <td>    0.002</td> <td>   -0.183</td> <td> 0.855</td> <td>   -0.003</td> <td>    0.003</td>\n",
              "</tr>\n",
              "<tr>\n",
              "  <th>t_grenade_flashbang</th>          <td>   -0.0209</td> <td>    0.001</td> <td>  -14.393</td> <td> 0.000</td> <td>   -0.024</td> <td>   -0.018</td>\n",
              "</tr>\n",
              "<tr>\n",
              "  <th>ct_grenade_smokegrenade</th>      <td>   -0.0024</td> <td>    0.001</td> <td>   -1.580</td> <td> 0.114</td> <td>   -0.005</td> <td>    0.001</td>\n",
              "</tr>\n",
              "<tr>\n",
              "  <th>t_grenade_smokegrenade</th>       <td>   -0.0229</td> <td>    0.001</td> <td>  -16.319</td> <td> 0.000</td> <td>   -0.026</td> <td>   -0.020</td>\n",
              "</tr>\n",
              "<tr>\n",
              "  <th>ct_grenade_incendiarygrenade</th> <td>    0.0100</td> <td>    0.002</td> <td>    6.281</td> <td> 0.000</td> <td>    0.007</td> <td>    0.013</td>\n",
              "</tr>\n",
              "<tr>\n",
              "  <th>t_grenade_incendiarygrenade</th>  <td>   -0.0047</td> <td>    0.008</td> <td>   -0.569</td> <td> 0.569</td> <td>   -0.021</td> <td>    0.012</td>\n",
              "</tr>\n",
              "<tr>\n",
              "  <th>ct_grenade_molotovgrenade</th>    <td>    0.0082</td> <td>    0.005</td> <td>    1.530</td> <td> 0.126</td> <td>   -0.002</td> <td>    0.019</td>\n",
              "</tr>\n",
              "<tr>\n",
              "  <th>t_grenade_molotovgrenade</th>     <td>   -0.0124</td> <td>    0.001</td> <td>   -8.568</td> <td> 0.000</td> <td>   -0.015</td> <td>   -0.010</td>\n",
              "</tr>\n",
              "<tr>\n",
              "  <th>ct_grenade_decoygrenade</th>      <td>   -0.0004</td> <td>    0.007</td> <td>   -0.053</td> <td> 0.958</td> <td>   -0.014</td> <td>    0.013</td>\n",
              "</tr>\n",
              "<tr>\n",
              "  <th>t_grenade_decoygrenade</th>       <td>    0.0316</td> <td>    0.007</td> <td>    4.350</td> <td> 0.000</td> <td>    0.017</td> <td>    0.046</td>\n",
              "</tr>\n",
              "</table>\n",
              "<table class=\"simpletable\">\n",
              "<tr>\n",
              "  <th>Omnibus:</th>       <td>28273.929</td> <th>  Durbin-Watson:     </th> <td>   0.457</td>\n",
              "</tr>\n",
              "<tr>\n",
              "  <th>Prob(Omnibus):</th>  <td> 0.000</td>   <th>  Jarque-Bera (JB):  </th> <td>5119.507</td>\n",
              "</tr>\n",
              "<tr>\n",
              "  <th>Skew:</th>           <td> 0.023</td>   <th>  Prob(JB):          </th> <td>    0.00</td>\n",
              "</tr>\n",
              "<tr>\n",
              "  <th>Kurtosis:</th>       <td> 1.999</td>   <th>  Cond. No.          </th> <td>1.28e+16</td>\n",
              "</tr>\n",
              "</table><br/><br/>Notes:<br/>[1] R² is computed without centering (uncentered) since the model does not contain a constant.<br/>[2] Standard Errors assume that the covariance matrix of the errors is correctly specified.<br/>[3] The smallest eigenvalue is 3.09e-19. This might indicate that there are<br/>strong multicollinearity problems or that the design matrix is singular."
            ]
          },
          "metadata": {},
          "execution_count": 30
        }
      ]
    },
    {
      "cell_type": "markdown",
      "source": [
        "## VIF(multicollinearity)"
      ],
      "metadata": {
        "id": "wDJbH8N0T_H9"
      }
    },
    {
      "cell_type": "markdown",
      "source": [
        "This code calculates the variance inflation factor (VIF) for each feature in a dataset. VIF is a measure of the extent to which a feature is linearly related to other features in the dataset. High VIF values indicate that a feature may be redundant and can be removed to improve the model's performance. The code first creates an empty DataFrame to store the feature names and their corresponding VIF values. It then uses the variance_inflation_factor function from the statsmodels.stats.outliers_influence module to calculate the VIF for each feature in the dataset and adds them to the DataFrame. Finally, the code prints the DataFrame containing the VIF values for each feature."
      ],
      "metadata": {
        "id": "RKyjwlNWgWT7"
      }
    },
    {
      "cell_type": "code",
      "source": [
        "# VIF dataframe\n",
        "vif_data = pd.DataFrame()\n",
        "vif_data[\"feature\"] = data3.columns\n",
        "  \n",
        "# calculating VIF for each feature\n",
        "vif_data[\"VIF\"] = [variance_inflation_factor(data3.values, i)\n",
        "                          for i in range(len(data3.columns))]\n",
        "  \n",
        "print(vif_data)"
      ],
      "metadata": {
        "colab": {
          "base_uri": "https://localhost:8080/"
        },
        "id": "s7webcRdUIVr",
        "outputId": "1c15b149-79c0-4a0f-eee9-4526a37d9158"
      },
      "execution_count": 31,
      "outputs": [
        {
          "output_type": "stream",
          "name": "stdout",
          "text": [
            "                         feature          VIF\n",
            "0                      time_left    21.777381\n",
            "1                       ct_score     5.824865\n",
            "2                        t_score     5.788239\n",
            "3                            map     4.113787\n",
            "4                   bomb_planted     1.515598\n",
            "5                      ct_health   241.083708\n",
            "6                       t_health   151.349411\n",
            "7                       ct_armor    25.839021\n",
            "8                        t_armor    33.995763\n",
            "9                       ct_money     4.612471\n",
            "10                       t_money     4.472116\n",
            "11                    ct_helmets    11.659221\n",
            "12                     t_helmets    61.858812\n",
            "13                ct_defuse_kits     8.557421\n",
            "14              ct_players_alive  1839.570389\n",
            "15               t_players_alive  1490.902939\n",
            "16                ct_weapon_ak47     2.247571\n",
            "17                 t_weapon_ak47    16.665820\n",
            "18                 ct_weapon_aug     1.645617\n",
            "19                  t_weapon_aug     1.049947\n",
            "20                 ct_weapon_awp     3.871601\n",
            "21                  t_weapon_awp     2.927586\n",
            "22               ct_weapon_bizon          NaN\n",
            "23                t_weapon_bizon     1.010106\n",
            "24            ct_weapon_cz75auto    19.182686\n",
            "25             t_weapon_cz75auto    11.681513\n",
            "26               ct_weapon_elite     1.337324\n",
            "27                t_weapon_elite     1.125436\n",
            "28               ct_weapon_famas     1.529390\n",
            "29                t_weapon_famas     1.041319\n",
            "30               ct_weapon_g3sg1          NaN\n",
            "31                t_weapon_g3sg1     1.012412\n",
            "32             ct_weapon_galilar     1.042171\n",
            "33              t_weapon_galilar     1.908505\n",
            "34               ct_weapon_glock     1.600395\n",
            "35                t_weapon_glock   919.777783\n",
            "36                ct_weapon_m249     1.000545\n",
            "37                 t_weapon_m249          NaN\n",
            "38               ct_weapon_m4a1s     1.259575\n",
            "39                t_weapon_m4a1s     1.017756\n",
            "40                ct_weapon_m4a4     8.027938\n",
            "41                 t_weapon_m4a4     1.245050\n",
            "42               ct_weapon_mac10     1.037048\n",
            "43                t_weapon_mac10     2.126365\n",
            "44                ct_weapon_mag7     1.024993\n",
            "45                 t_weapon_mag7     1.002412\n",
            "46               ct_weapon_mp5sd     1.013931\n",
            "47                t_weapon_mp5sd     1.040781\n",
            "48                 ct_weapon_mp7     1.012968\n",
            "49                  t_weapon_mp7     1.022213\n",
            "50                 ct_weapon_mp9     1.893975\n",
            "51                  t_weapon_mp9     1.049938\n",
            "52               ct_weapon_negev          NaN\n",
            "53                t_weapon_negev     1.000378\n",
            "54                ct_weapon_nova     1.009216\n",
            "55                 t_weapon_nova     1.003865\n",
            "56                 ct_weapon_p90     1.002907\n",
            "57                  t_weapon_p90     1.002656\n",
            "58          ct_weapon_r8revolver          NaN\n",
            "59           t_weapon_r8revolver     1.005161\n",
            "60            ct_weapon_sawedoff          NaN\n",
            "61             t_weapon_sawedoff     1.001690\n",
            "62              ct_weapon_scar20     1.006201\n",
            "63               t_weapon_scar20     1.000672\n",
            "64               ct_weapon_sg553     2.201042\n",
            "65                t_weapon_sg553    10.295885\n",
            "66               ct_weapon_ssg08     1.356693\n",
            "67                t_weapon_ssg08     1.149156\n",
            "68               ct_weapon_ump45     1.228197\n",
            "69                t_weapon_ump45     1.328592\n",
            "70              ct_weapon_xm1014     1.037859\n",
            "71               t_weapon_xm1014     1.003287\n",
            "72              ct_weapon_deagle    73.775357\n",
            "73               t_weapon_deagle    56.263327\n",
            "74           ct_weapon_fiveseven     8.141698\n",
            "75            t_weapon_fiveseven     1.717080\n",
            "76                ct_weapon_usps  1023.711336\n",
            "77                 t_weapon_usps    15.277920\n",
            "78                ct_weapon_p250    29.032057\n",
            "79                 t_weapon_p250    29.932308\n",
            "80               ct_weapon_p2000    18.187150\n",
            "81                t_weapon_p2000     1.403568\n",
            "82                ct_weapon_tec9     1.765585\n",
            "83                 t_weapon_tec9     3.610648\n",
            "84          ct_grenade_hegrenade     4.380435\n",
            "85           t_grenade_hegrenade     1.989426\n",
            "86          ct_grenade_flashbang    10.768812\n",
            "87           t_grenade_flashbang    10.249761\n",
            "88       ct_grenade_smokegrenade     8.685189\n",
            "89        t_grenade_smokegrenade     8.603698\n",
            "90  ct_grenade_incendiarygrenade     5.725049\n",
            "91   t_grenade_incendiarygrenade     1.054272\n",
            "92     ct_grenade_molotovgrenade     1.135249\n",
            "93      t_grenade_molotovgrenade     6.965596\n",
            "94       ct_grenade_decoygrenade     1.069635\n",
            "95        t_grenade_decoygrenade     1.061919\n"
          ]
        }
      ]
    },
    {
      "cell_type": "markdown",
      "source": [
        "## Using H2O automl"
      ],
      "metadata": {
        "id": "Ddjvn5s-Pm_g"
      }
    },
    {
      "cell_type": "code",
      "execution_count": 32,
      "metadata": {
        "id": "ffcsZfbgUqLW"
      },
      "outputs": [],
      "source": [
        "#Setting models thresold to \"10\", more models we use it takes more time to come up with the best model and hyperparameters. \n",
        "#To create a simpler model we are excluding \"StackedEnsemble\" and \"DeepLearning\", tho they are really good. \n",
        "aml = H2OAutoML(max_models = 10, seed = 10, exclude_algos = [\"StackedEnsemble\", \"DeepLearning\"], verbosity=\"info\", nfolds=0)\n",
        "#taken from references"
      ]
    },
    {
      "cell_type": "code",
      "execution_count": null,
      "metadata": {
        "colab": {
          "base_uri": "https://localhost:8080/"
        },
        "id": "2Rz0s6-2Uu7l",
        "outputId": "99513ebc-ec97-42a5-b244-6be6465ed1a3"
      },
      "outputs": [
        {
          "output_type": "stream",
          "name": "stdout",
          "text": [
            "AutoML progress: |\n",
            "04:25:06.859: Project: AutoML_1_20230301_42506\n",
            "04:25:06.860: Cross-validation disabled by user: no fold column nor nfolds > 1.\n",
            "04:25:06.865: Setting stopping tolerance adaptively based on the training frame: 0.0034166127368093057\n",
            "04:25:06.865: Build control seed: 10\n",
            "04:25:06.866: training frame: Frame key: AutoML_1_20230301_42506_training_py_2_sid_9363    cols: 97    rows: 85666  chunks: 12    size: 4310784  checksum: 5124621492884025915\n",
            "04:25:06.866: validation frame: Frame key: py_4_sid_9363    cols: 97    rows: 18264  chunks: 12    size: 986319  checksum: -5975045735780287358\n",
            "04:25:06.866: leaderboard frame: Frame key: py_4_sid_9363    cols: 97    rows: 18264  chunks: 12    size: 986319  checksum: -5975045735780287358\n",
            "04:25:06.867: blending frame: NULL\n",
            "04:25:06.867: response column: round_winner\n",
            "04:25:06.867: fold column: null\n",
            "04:25:06.867: weights column: null\n",
            "04:25:06.944: Loading execution steps: [{XGBoost : [def_2 (1g, 10w), def_1 (2g, 10w), def_3 (3g, 10w), grid_1 (4g, 90w), lr_search (7g, 30w)]}, {GLM : [def_1 (1g, 10w)]}, {DRF : [def_1 (2g, 10w), XRT (3g, 10w)]}, {GBM : [def_5 (1g, 10w), def_2 (2g, 10w), def_3 (2g, 10w), def_4 (2g, 10w), def_1 (3g, 10w), grid_1 (4g, 60w), lr_annealing (7g, 10w)]}, {DeepLearning : [def_1 (3g, 10w), grid_1 (4g, 30w), grid_2 (5g, 30w), grid_3 (5g, 30w)]}, {completion : [resume_best_grids (6g, 60w)]}, {StackedEnsemble : [monotonic (9g, 10w), best_of_family_xglm (10g, 10w), all_xglm (10g, 10w)]}]\n",
            "04:25:06.999: Disabling Algo: StackedEnsemble as requested by the user.\n",
            "04:25:06.999: Disabling Algo: DeepLearning as requested by the user.\n",
            "04:25:07.10: AutoML job created: 2023.03.01 04:25:06.696\n",
            "04:25:07.13: AutoML build started: 2023.03.01 04:25:07.13\n",
            "04:25:07.47: AutoML: starting XGBoost_1_AutoML_1_20230301_42506 model training\n",
            "04:25:07.49: _response param, We have detected that your response column has only 2 unique values (0/1). If you wish to train a binary model instead of a regression model, convert your target column to categorical before training.\n",
            "\n",
            "██"
          ]
        }
      ],
      "source": [
        "#starting the automl process\n",
        "#It will test all the models and update the leading model according to performance.\n",
        "#We can see for the variable importance at the end as well. Gives us rough Idea of which variable will it be using for the prediction purposes. \n",
        "aml.train(x = x, y = y, training_frame = df_train, validation_frame=df_valid)\n",
        "#taken from references"
      ]
    },
    {
      "cell_type": "code",
      "source": [
        "#Creates the leader Board for all out models, ranking them by their performance(default: mean_per_class_error\t)\n",
        "#We can also observe that as we go below the leaderboard the logloss, rmse and mse are increasing as well. \n",
        "#Here from the leaderboard we have \"GBM_4_AutoML_1_20230214_155340\" as the leader(best performing) model .\n",
        "\n",
        "lb = aml.leaderboard"
      ],
      "metadata": {
        "id": "E0BYAYnpnvir"
      },
      "execution_count": null,
      "outputs": []
    },
    {
      "cell_type": "code",
      "execution_count": null,
      "metadata": {
        "id": "5u5-pat7UxSb"
      },
      "outputs": [],
      "source": [
        "lb.head()\n",
        "# Leaderboard showing the performance of different models on the dataset."
      ]
    },
    {
      "cell_type": "code",
      "source": [
        "#Using the leader model for prediction. \n",
        "OverWeight_pred=aml.leader.predict(df_test)\n",
        "#taken from references"
      ],
      "metadata": {
        "id": "0InPkiHBBhBC"
      },
      "execution_count": null,
      "outputs": []
    },
    {
      "cell_type": "code",
      "source": [
        "OverWeight_pred.head()\n",
        "#predicitions"
      ],
      "metadata": {
        "id": "M7Xr264NBiBX"
      },
      "execution_count": null,
      "outputs": []
    },
    {
      "cell_type": "code",
      "source": [
        "aml.leader.model_performance(df_test)\n",
        "#creating a performance report for the leading model (GBM_5_AutoML_1_20221107_231030)"
      ],
      "metadata": {
        "id": "azdT1pIYBsgN"
      },
      "execution_count": null,
      "outputs": []
    },
    {
      "cell_type": "markdown",
      "source": [
        "The code retrieves a list of model IDs for the models in the H2O AutoML leaderboard. aml.leaderboard is a data frame object containing the performance metrics and details of all models trained by H2O AutoML. By calling the as_data_frame() method, the leaderboard is converted into a Pandas DataFrame. The iloc method is then used to select the first column of the DataFrame, which contains the model IDs. These model IDs are stored in the model_ids variable as a Python list."
      ],
      "metadata": {
        "id": "gUDJTtHihSDu"
      }
    },
    {
      "cell_type": "code",
      "source": [
        "model_ids = list(aml.leaderboard['model_id'].as_data_frame().iloc[:,0])"
      ],
      "metadata": {
        "id": "mwGhcGVjxnYo"
      },
      "execution_count": null,
      "outputs": []
    },
    {
      "cell_type": "code",
      "source": [
        "model_ids\n",
        "#all the models that were used in the automl are below"
      ],
      "metadata": {
        "id": "3oTEOjNexowb"
      },
      "execution_count": null,
      "outputs": []
    },
    {
      "cell_type": "code",
      "source": [
        "aml.leader.varimp_plot()\n",
        "#variance importance plot for the leader model.\n",
        "#taken from references"
      ],
      "metadata": {
        "id": "8N_y-MTRB8FA"
      },
      "execution_count": null,
      "outputs": []
    },
    {
      "cell_type": "markdown",
      "source": [
        "This code creates a dictionary named models_dict that maps each model ID from the AutoML leaderboard to an index value. The index values are assigned in the order that the models appear on the leaderboard, with the stacked ensemble models getting the first set of index values and the GLM model getting a separate index value. The code first loops through the models on the leaderboard to assign index values to the stacked ensemble models and then loops through the models again to assign an index value to the GLM model. The result is a dictionary where each key is a model ID and each value is an index value."
      ],
      "metadata": {
        "id": "fE8d9omdhjsV"
      }
    },
    {
      "cell_type": "code",
      "source": [
        "model_index = 0\n",
        "glm_index = 0\n",
        "glm_model = \"\"\n",
        "aml_leaderboard_df = aml.leaderboard.as_data_frame()\n",
        "models_dict = {}\n",
        "for m in aml_leaderboard_df[\"model_id\"]:\n",
        "    models_dict[m] = model_index\n",
        "    if \"StackedEnsemble\" not in m:\n",
        "        break\n",
        "    model_index = model_index + 1\n",
        "\n",
        "for m in aml_leaderboard_df[\"model_id\"]:\n",
        "    if \"GLM\" in m:\n",
        "        models_dict[m] = glm_index\n",
        "        break\n",
        "    glm_index = glm_index + 1\n",
        "models_dict"
      ],
      "metadata": {
        "id": "pl9HNNuazMUW"
      },
      "execution_count": null,
      "outputs": []
    },
    {
      "cell_type": "markdown",
      "source": [
        "This code prints the value of model_index and retrieves the best model from the H2O AutoML leaderboard by using its ID stored in the model_id column of the aml.leaderboard object at the model_index row. The algorithm used by the best model is then printed using the algo attribute."
      ],
      "metadata": {
        "id": "uz8dpPmZhwDb"
      }
    },
    {
      "cell_type": "code",
      "source": [
        "print(model_index)\n",
        "best_model = h2o.get_model(aml.leaderboard[model_index, \"model_id\"])"
      ],
      "metadata": {
        "id": "aDHdN2qMCMZU"
      },
      "execution_count": null,
      "outputs": []
    },
    {
      "cell_type": "code",
      "source": [
        "best_model.algo"
      ],
      "metadata": {
        "id": "ZAnsh0rnygYu"
      },
      "execution_count": null,
      "outputs": []
    },
    {
      "cell_type": "code",
      "source": [
        "import matplotlib.pyplot as plt\n",
        "\n",
        "%matplotlib inline\n",
        "\n",
        "import warnings\n",
        "import matplotlib.cbook\n",
        "\n",
        "warnings.filterwarnings(\"ignore\", category=matplotlib.cbook.mplDeprecation)"
      ],
      "metadata": {
        "id": "bHguB62iykio"
      },
      "execution_count": null,
      "outputs": []
    },
    {
      "cell_type": "code",
      "source": [
        "if best_model.algo in [\n",
        "    \"gbm\",\n",
        "    \"drf\",\n",
        "    \"xrt\",\n",
        "    \"xgboost\",\n",
        "]:  # Importance of all the variables in GBM algorithm.\n",
        "    best_model.varimp_plot()"
      ],
      "metadata": {
        "id": "IiFMZotnujEw"
      },
      "execution_count": null,
      "outputs": []
    },
    {
      "cell_type": "markdown",
      "source": [
        "This code checks if the index of the GLM model in the H2O AutoML leaderboard is not 0, and if so, it prints the index, retrieves the GLM model from the leaderboard using the index, prints the algorithm used by the model, and plots the standardized coefficient magnitudes of the model using the std_coef_plot() function. The std_coef_plot() function is used to visualize the importance of each feature in predicting the target variable based on their standardized coefficients."
      ],
      "metadata": {
        "id": "ZzVsx6Pii-_j"
      }
    },
    {
      "cell_type": "code",
      "source": [
        "if glm_index is not 0:\n",
        "    print(glm_index)\n",
        "    glm_model = h2o.get_model(aml.leaderboard[glm_index, \"model_id\"])\n",
        "    print(glm_model.algo)\n",
        "    glm_model.std_coef_plot()"
      ],
      "metadata": {
        "id": "diV3hzwbul6w"
      },
      "execution_count": null,
      "outputs": []
    },
    {
      "cell_type": "code",
      "source": [
        "print(best_model.rmse(train=True))"
      ],
      "metadata": {
        "id": "qyLfUm8Xusab"
      },
      "execution_count": null,
      "outputs": []
    },
    {
      "cell_type": "markdown",
      "source": [
        "This code defines a function called \"model_performance_stats\" that takes in a parameter \"perf\" and returns a dictionary \"d\" containing various performance statistics for a model. The function tries to retrieve several statistics such as mean squared error (mse), root mean squared error (rmse), degrees of freedom, deviance, AIC, log loss, area under the curve (auc), and Gini coefficient from the \"perf\" object. If any of these statistics are not available or result in an error, the function ignores them and moves on to the next one. Finally, the function returns the dictionary containing the available statistics."
      ],
      "metadata": {
        "id": "kaYMdjtdp7lg"
      }
    },
    {
      "cell_type": "code",
      "source": [
        "def model_performance_stats(perf):\n",
        "    d = {}\n",
        "    try:\n",
        "        d[\"mse\"] = perf.mse()\n",
        "    except:\n",
        "        pass\n",
        "    try:\n",
        "        d[\"rmse\"] = perf.rmse()\n",
        "    except:\n",
        "        pass\n",
        "    try:\n",
        "        d[\"null_degrees_of_freedom\"] = perf.null_degrees_of_freedom()\n",
        "    except:\n",
        "        pass\n",
        "    try:\n",
        "        d[\"residual_degrees_of_freedom\"] = perf.residual_degrees_of_freedom()\n",
        "    except:\n",
        "        pass\n",
        "    try:\n",
        "        d[\"residual_deviance\"] = perf.residual_deviance()\n",
        "    except:\n",
        "        pass\n",
        "    try:\n",
        "        d[\"null_deviance\"] = perf.null_deviance()\n",
        "    except:\n",
        "        pass\n",
        "    try:\n",
        "        d[\"aic\"] = perf.aic()\n",
        "    except:\n",
        "        pass\n",
        "    try:\n",
        "        d[\"logloss\"] = perf.logloss()\n",
        "    except:\n",
        "        pass\n",
        "    try:\n",
        "        d[\"auc\"] = perf.auc()\n",
        "    except:\n",
        "        pass\n",
        "    try:\n",
        "        d[\"gini\"] = perf.gini()\n",
        "    except:\n",
        "        pass\n",
        "    return d"
      ],
      "metadata": {
        "id": "MTbBm2Hbu3R5"
      },
      "execution_count": null,
      "outputs": []
    },
    {
      "cell_type": "markdown",
      "source": [
        "This code computes various performance statistics for a trained machine learning model using a test dataset. It first generates a model performance object mod_perf for the model best_model on the test dataset df_test. Then, it passes the performance object to a function called model_performance_stats which extracts various statistics from it and returns them in a dictionary format. Finally, the statistics are stored in a dictionary object called stats_test."
      ],
      "metadata": {
        "id": "jbe_4z_hqDpC"
      }
    },
    {
      "cell_type": "code",
      "source": [
        "mod_perf = best_model.model_performance(df_test)\n",
        "stats_test = {}\n",
        "stats_test = model_performance_stats(mod_perf)\n",
        "stats_test"
      ],
      "metadata": {
        "id": "aVhQfw1pu4_t"
      },
      "execution_count": null,
      "outputs": []
    },
    {
      "cell_type": "code",
      "source": [
        "predictions = best_model.predict(df_test)"
      ],
      "metadata": {
        "id": "8wpWfRjru7kQ"
      },
      "execution_count": null,
      "outputs": []
    },
    {
      "cell_type": "code",
      "source": [
        "y_pred = h2o.as_list(\n",
        "    predictions\n",
        ")  # Predictions on Test Dataset using the best model from the leaderboard.\n",
        "print(y_pred.head())"
      ],
      "metadata": {
        "id": "o6kZhwXmu9yt"
      },
      "execution_count": null,
      "outputs": []
    },
    {
      "cell_type": "code",
      "source": [
        "y_test = h2o.as_list(df_test[y])  # Real Answers\n",
        "y_test.head()"
      ],
      "metadata": {
        "id": "PlBVdawEvAKv"
      },
      "execution_count": null,
      "outputs": []
    },
    {
      "cell_type": "code",
      "source": [
        "print(x)"
      ],
      "metadata": {
        "id": "4qNs5RPfvIiH"
      },
      "execution_count": null,
      "outputs": []
    },
    {
      "cell_type": "markdown",
      "source": [
        "In this Section, we will be using the GLM model to check if regularization is helping us to improve the accuracy and reduce overfitting."
      ],
      "metadata": {
        "id": "oPwFfxacvS_m"
      }
    },
    {
      "cell_type": "code",
      "source": [
        "from h2o.estimators.glm import H2OGeneralizedLinearEstimator\n",
        "\n",
        "wine_glm = H2OGeneralizedLinearEstimator(\n",
        "    family=\"gaussian\", lambda_=0, compute_p_values=True, nfolds=5\n",
        ")  # Elastic Net Regularization\n",
        "wine_glm_regularization_ridge = H2OGeneralizedLinearEstimator(\n",
        "    family=\"gaussian\", alpha=0, nfolds=5\n",
        ")  # RIDGE Regularization\n",
        "wine_glm_regularization_lasso = H2OGeneralizedLinearEstimator(\n",
        "    family=\"gaussian\", alpha=1, nfolds=5\n",
        ")  # LASSO Regularization\n",
        "wine_glm_regularization_lamba_search = H2OGeneralizedLinearEstimator(\n",
        "    lambda_search=True\n",
        ")  # Lambda Search"
      ],
      "metadata": {
        "id": "Jctvl2F0vKGj"
      },
      "execution_count": null,
      "outputs": []
    },
    {
      "cell_type": "code",
      "source": [
        "wine_glm.train(x=x, y=y, training_frame=df_train)"
      ],
      "metadata": {
        "id": "-uSXD1guzcPm"
      },
      "execution_count": null,
      "outputs": []
    },
    {
      "cell_type": "code",
      "source": [
        "#Using the leader model for prediction. \n",
        "OverWeight_pred=aml.leader.predict(df_test)\n",
        "#taken from references"
      ],
      "metadata": {
        "id": "M3y-JQD-3f9Z"
      },
      "execution_count": null,
      "outputs": []
    },
    {
      "cell_type": "code",
      "source": [
        "OverWeight_pred.head()\n",
        "#predicitions"
      ],
      "metadata": {
        "id": "nTkX6D793iTg"
      },
      "execution_count": null,
      "outputs": []
    },
    {
      "cell_type": "code",
      "source": [
        "aml.leader.model_performance(df_test)\n",
        "#creating a performance report for the leading model (GBM_5_AutoML_1_20221107_231030)"
      ],
      "metadata": {
        "id": "-6XDnCWm3kzu"
      },
      "execution_count": null,
      "outputs": []
    },
    {
      "cell_type": "code",
      "source": [
        "model_ids = list(aml.leaderboard['model_id'].as_data_frame().iloc[:,0])"
      ],
      "metadata": {
        "id": "1g-aFn5h3n6w"
      },
      "execution_count": null,
      "outputs": []
    },
    {
      "cell_type": "code",
      "source": [
        "model_ids\n",
        "#all the models that were used in the automl are below"
      ],
      "metadata": {
        "id": "rrwn6YBZ3qq_"
      },
      "execution_count": null,
      "outputs": []
    },
    {
      "cell_type": "code",
      "source": [
        "aml.leader.varimp_plot()\n",
        "#variance importance plot for the leader model.\n",
        "#taken from references"
      ],
      "metadata": {
        "id": "JuUduCqHzxFG"
      },
      "execution_count": null,
      "outputs": []
    },
    {
      "cell_type": "code",
      "source": [
        "h2o.get_model([mid for mid in model_ids if \"XGBoost\" in mid][0])\n",
        "#we are using xgboost model as well to predict, while it's still not in the top of the aml leader board."
      ],
      "metadata": {
        "id": "EqqEpVPwzzdB"
      },
      "execution_count": null,
      "outputs": []
    },
    {
      "cell_type": "markdown",
      "source": [
        "This code is using the H2O library for machine learning to retrieve an XGBoost model from a list of model ids. Then, it prints the parameters of the model and converts the H2O-specific parameters to the XGBoost-specific parameters. Finally, it displays the model and generates a plot of variable importance based on the model."
      ],
      "metadata": {
        "id": "Rw9XqXqxqZ1R"
      }
    },
    {
      "cell_type": "code",
      "source": [
        "out = h2o.get_model([mid for mid in model_ids if \"XGBoost\" in mid][0])"
      ],
      "metadata": {
        "id": "EZqCq0CGz2iM"
      },
      "execution_count": null,
      "outputs": []
    },
    {
      "cell_type": "code",
      "source": [
        "out.params"
      ],
      "metadata": {
        "id": "hAR335mAz3c0"
      },
      "execution_count": null,
      "outputs": []
    },
    {
      "cell_type": "code",
      "source": [
        "out.convert_H2OXGBoostParams_2_XGBoostParams()"
      ],
      "metadata": {
        "id": "s3LXOS5Bz6B4"
      },
      "execution_count": null,
      "outputs": []
    },
    {
      "cell_type": "code",
      "source": [
        "out"
      ],
      "metadata": {
        "id": "GIsl1Tuaz7un"
      },
      "execution_count": null,
      "outputs": []
    },
    {
      "cell_type": "code",
      "source": [
        "out.varimp_plot()"
      ],
      "metadata": {
        "id": "uVSOVUCrz_8R"
      },
      "execution_count": null,
      "outputs": []
    },
    {
      "cell_type": "code",
      "source": [
        "aml.leader.download_mojo(path = \"./\")\n",
        "#Downloading the deployment ready code in mojo format. For GBM model. "
      ],
      "metadata": {
        "id": "HLUoADiy0Bu7"
      },
      "execution_count": null,
      "outputs": []
    },
    {
      "cell_type": "markdown",
      "source": [
        "## Regression"
      ],
      "metadata": {
        "id": "EBy_ldBllBIz"
      }
    },
    {
      "cell_type": "markdown",
      "source": [
        "This code performs ridge regression on a given dataset using Ridge from scikit-learn. It splits the data into training and test sets using train_test_split() function. Ridge regression is then performed on the training set using the Ridge object. The hyperparameter alpha is set to 0.5. The model is then used to predict the target values of the test set, and the root mean squared error (RMSE) is calculated as a performance metric using mean_squared_error() function from scikit-learn's metrics module. The RMSE value is returned as output."
      ],
      "metadata": {
        "id": "krWVSZ2dqu-E"
      }
    },
    {
      "cell_type": "code",
      "source": [
        "X_train, X_test, y_train, y_test = train_test_split(data[x], data[y], test_size=0.3, random_state=1)"
      ],
      "metadata": {
        "id": "e8ShL5vwlEfN"
      },
      "execution_count": null,
      "outputs": []
    },
    {
      "cell_type": "code",
      "source": [
        "# Ridge regression with an alpha of 0.5\n",
        "ridge = Ridge(fit_intercept=True, alpha=0.5)\n",
        "ridge.fit(X_train, y_train)"
      ],
      "metadata": {
        "id": "_tepiwZ3lJqi"
      },
      "execution_count": null,
      "outputs": []
    },
    {
      "cell_type": "code",
      "source": [
        "# rmse after regularization\n",
        "y_pred = ridge.predict(X_test)\n",
        "\n",
        "rmse = np.sqrt(metrics.mean_squared_error(y_test, y_pred))\n",
        "rmse"
      ],
      "metadata": {
        "id": "McXU3bj3lLsK"
      },
      "execution_count": null,
      "outputs": []
    },
    {
      "cell_type": "markdown",
      "source": [
        "##Answers for questions"
      ],
      "metadata": {
        "id": "OK02xxlu_itu"
      }
    },
    {
      "cell_type": "markdown",
      "source": [
        "**Is the relationship significant?**\n",
        "\n",
        "A: yes, because the R-sqaured is 0.670 which is high and some features' p value is 0, so the relationship is significant."
      ],
      "metadata": {
        "id": "SW1z8sOiAjtK"
      }
    },
    {
      "cell_type": "markdown",
      "source": [
        "**Are any model assumptions violated?**\n",
        "\n",
        "A: no, the dependent variable is T/CT, so the question is a classification question which make sense to all models in AutoML."
      ],
      "metadata": {
        "id": "nIT0XI3PAxkE"
      }
    },
    {
      "cell_type": "markdown",
      "source": [
        "**Is there any multicollinearity in the model?**\n",
        "\n",
        "A: yes, from the VIF data, we could know that except few features, all other variables have less correlationship with each other, may be because mostly guns, armors, and grenades can be bought without any dependence on each other if just the required money is present. Most of these items depend on the money present with the players and also depends on the number of players alive."
      ],
      "metadata": {
        "id": "SQfwDqQjA0SH"
      }
    },
    {
      "cell_type": "markdown",
      "source": [
        "\n",
        "**In the multivariate models are predictor variables independent of all the other predictor variables?**\n",
        "\n",
        "A: In multivariate models, predictor variables are not necessarily independent of all the other predictor variables. In fact, in many cases, predictor variables in a multivariate model are correlated with each other.\n",
        "For example, in the above given CS:GO game dataset, predictor variables such as the number of players alive, guns, money, grenades  may be highly correlated with each other. This is because players who get more kills may also get more money, and may also have fewer buys(guns/ armor/ grenades) for next rounds. Multicollinearity, which occurs when predictor variables are highly correlated with each other, can be a problem in multivariate models. It can make it difficult to determine the individual effects of each predictor variable and can lead to unstable estimates of the model parameters."
      ],
      "metadata": {
        "id": "Dyi_m4csA230"
      }
    },
    {
      "cell_type": "markdown",
      "source": [
        "**In in multivariate models rank the most significant predictor variables and exclude insignificant ones from the model.**"
      ],
      "metadata": {
        "id": "lHikQySbmL9w"
      }
    },
    {
      "cell_type": "markdown",
      "source": [
        "A: the most significant predictor variable is ct_armor,  \n",
        "and insignificant ones which were excluded are below\n",
        "\n",
        "\"t_weapon_scar20\"\n",
        "\n",
        "\"t_weapon_p90\"\n",
        "\n",
        "\"ct_weapon_p90\"\n",
        "\n",
        "\"t_weapon_xm1014\"\n",
        "\n",
        "\"t_weapon_nova\"\n",
        "\n",
        "\"t_weapon_bizon\"\n",
        "\n",
        "\"t_weapon_mag7\"\n",
        "\n",
        "\"t_weapon_negev\"\n",
        "\n",
        "\"t_weapon_r8revolver\"\n",
        "\n",
        "\"t_weapon_sawedoff\"\n",
        "\n",
        "\"ct_weapon_g3sg1\"\n",
        "\n",
        "\"t_weapon_m249\"\n",
        "\n",
        "\"ct_weapon_negev\"\n",
        "\n",
        "\"ct_weapon_bizon\"\n",
        "\n",
        "\"ct_weapon_sawedoff\"\n",
        "\n",
        "\"ct_weapon_r8revolver\"\n",
        "\n",
        "\"ct_weapon_m249\""
      ],
      "metadata": {
        "id": "TyW3nQpxOv5w"
      }
    },
    {
      "cell_type": "markdown",
      "source": [
        "**Does the model make sense?**\n",
        "\n",
        "A: yes, the qustion is a classification question and models in AutoML can deal with it."
      ],
      "metadata": {
        "id": "xG-5FyrxA5NJ"
      }
    },
    {
      "cell_type": "markdown",
      "source": [
        "**Does regularization help?**\n",
        "\n",
        "A: no, the rmse from the best model is 0.3199372888079802, however, in regularization, the rmse is 0.4048028321927756"
      ],
      "metadata": {
        "id": "-g9SR--dBCNE"
      }
    },
    {
      "cell_type": "markdown",
      "source": [
        "**Which independent variables are significant?**\n",
        "\n",
        "A: looking at the feature selection methods,\n",
        "\n",
        "armors(ct_armor,t_armor), \n",
        "\n",
        "helmets(ct_helmet,t_helmet),\n",
        "\n",
        "defuse kits, \n",
        "\n",
        "money(ct_money, t_money), \n",
        "\n",
        "players alive(ct_players_alive, t_players_alive), \n",
        "\n",
        "health(ct_health, t_health), \n",
        "\n",
        "map, \n",
        "\n",
        "time left, \n",
        "\n",
        "scores up to that point, \n",
        "\n",
        "flashbang grenades, and \n",
        "\n",
        "weapons like ak47, Glock, and usps \n",
        "\n",
        "are given under the top 20 ranking, but looking at the total data and gameplay next 30 features are very close to each other based on there rankings. CSGO is an unpredictive game."
      ],
      "metadata": {
        "id": "IN9X3OuPBD4Q"
      }
    },
    {
      "cell_type": "markdown",
      "source": [
        "**Which hyperparameters are important?**\n",
        "\n",
        "A: Hyperparameters are important because they control the behavior of machine learning algorithms and can significantly impact the accuracy and efficiency of the resulting models. In the above case of a classification dataset like a CS:GO game round winner prediction dataset, some important hyperparameters that can be tuned include:\n",
        "\n",
        "Learning rate: The learning rate determines how much the model adjusts its parameters in response to each batch of training data. A learning rate that is too high can cause the model to overshoot the optimal parameters, while a learning rate that is too low can cause the model to converge too slowly.\n",
        "\n",
        "Number of hidden layers: The number of hidden layers in a neural network can affect its ability to learn complex relationships between features in the data. Adding more layers can increase the model's capacity to learn, but can also make it more prone to overfitting.\n",
        "\n",
        "Regularization parameters: Regularization techniques, such as L1 or L2 regularization, can be used to prevent overfitting by adding a penalty term to the loss function that discourages large weights. The strength of the regularization can be controlled by adjusting the corresponding hyperparameters.\n",
        "\n",
        "Activation functions: The choice of activation function can impact how quickly the model converges during training and how well it can capture non-linear relationships in the data. Popular activation functions for neural networks include sigmoid, tanh, and ReLU.\n",
        "\n",
        "Batch size: The batch size determines the number of samples that are processed in each iteration of training. A larger batch size can improve the speed of training, but can also require more memory and reduce the ability of the model to generalize to new data."
      ],
      "metadata": {
        "id": "8YsqY1vvBFrW"
      }
    },
    {
      "cell_type": "markdown",
      "source": [
        "**Coding professionalism?**\n",
        "\n",
        "A: yes."
      ],
      "metadata": {
        "id": "2LSuJoATBHbQ"
      }
    },
    {
      "cell_type": "markdown",
      "source": [
        "## References"
      ],
      "metadata": {
        "id": "NYngZtcuP2uV"
      }
    },
    {
      "cell_type": "markdown",
      "source": [
        "https://github.com/aiskunks/YouTube/blob/main/A_Crash_Course_in_Statistical_Learning/AutoML/AutoML_Smoke_Detection_Example.ipynb\n",
        "\n",
        "https://github.com/aiskunks/YouTube/blob/main/A_Crash_Course_in_Statistical_Learning/AutoML/AutoML_Wine_Quality.ipynb\n",
        "\n",
        "chrome-extension://efaidnbmnnnibpcajpcglclefindmkaj/https://publications.lib.chalmers.se/records/fulltext/256129/256129.pdf\n",
        "\n",
        "https://www.kaggle.com/datasets/christianlillelund/csgo-round-winner-classification/code\n",
        "\n",
        "https://github.com/aiskunks/Skunks_Skool/blob/main/INFO_6105/6105/6105_H2O_automl_lending_club.ipynb\n",
        "\n",
        "https://github.com/aiskunks/Skunks_Skool/blob/main/INFO_6105/6105/6105_H2O_automl_model.ipynb\n",
        "\n",
        "https://github.com/aiskunks/Skunks_Skool/blob/main/INFO_6105/6105/6105_Airlines_GBM_AutoML.ipynb"
      ],
      "metadata": {
        "id": "3hlvA-srP57V"
      }
    },
    {
      "cell_type": "markdown",
      "source": [
        "##LICENSE"
      ],
      "metadata": {
        "id": "nHR30t5w9tXO"
      }
    },
    {
      "cell_type": "markdown",
      "source": [
        "MIT License\n",
        "\n",
        "Copyright (c) 2023 Sri Krishna Karumanchi\n",
        "\n",
        "Permission is hereby granted, free of charge, to any person obtaining a copy of this software and associated documentation files (the \"Software\"), to deal in the Software without restriction, including without limitation the rights to use, copy, modify, merge, publish, distribute, sublicense, and/or sell copies of the Software, and to permit persons to whom the Software is furnished to do so, subject to the following conditions:\n",
        "\n",
        "The above copyright notice and this permission notice shall be included in all copies or substantial portions of the Software.\n",
        "\n",
        "THE SOFTWARE IS PROVIDED \"AS IS\", WITHOUT WARRANTY OF ANY KIND, EXPRESS OR IMPLIED, INCLUDING BUT NOT LIMITED TO THE WARRANTIES OF MERCHANTABILITY, FITNESS FOR A PARTICULAR PURPOSE AND NONINFRINGEMENT. IN NO EVENT SHALL THE AUTHORS OR COPYRIGHT HOLDERS BE LIABLE FOR ANY CLAIM, DAMAGES OR OTHER LIABILITY, WHETHER IN AN ACTION OF CONTRACT, TORT OR OTHERWISE, ARISING FROM, OUT OF OR IN CONNECTION WITH THE SOFTWARE OR THE USE OR OTHER DEALINGS IN THE SOFTWARE."
      ],
      "metadata": {
        "id": "4Z7wJ3UZ9UxB"
      }
    }
  ],
  "metadata": {
    "colab": {
      "provenance": [],
      "collapsed_sections": [
        "VLCPojYdWsef",
        "VDt7Y_EDOF-i",
        "2uif_ZsyOWQY",
        "_kHY4SzrOeyU",
        "EjjXy2SrO6GS",
        "p32W_LJmJjAd",
        "q-rxDmuMJVSs",
        "uLeyYcPsJnAT",
        "AuphMo5rBdZY",
        "chybHb89IQFp",
        "9-gTIXimPS4G",
        "PI4OCZbSPWrU",
        "uuEri1JVPcIe",
        "Tx3zz9iAT3Hv",
        "wDJbH8N0T_H9",
        "Ddjvn5s-Pm_g",
        "EBy_ldBllBIz",
        "OK02xxlu_itu",
        "NYngZtcuP2uV",
        "nHR30t5w9tXO"
      ]
    },
    "kernelspec": {
      "display_name": "Python 3",
      "name": "python3"
    },
    "language_info": {
      "name": "python"
    },
    "accelerator": "GPU",
    "gpuClass": "standard"
  },
  "nbformat": 4,
  "nbformat_minor": 0
}